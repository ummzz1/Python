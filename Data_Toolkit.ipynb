{
 "cells": [
  {
   "cell_type": "markdown",
   "metadata": {
    "id": "YEEA_5-Krv80"
   },
   "source": [
    "**1.What is NumPy, and why is it widely used in Python?**\n",
    "- NumPy is a powerful Python library primarily used for numerical and scientific computing.\n",
    "\n",
    "it is widely used in Python:-\n",
    "\n",
    "- Performance: NumPy operations are implemented in C, making them significantly faster than equivalent operations in pure Python, especially for large arrays.\n",
    "\n",
    "- Versatility: It offers a comprehensive suite of mathematical functions, including linear algebra, Fourier transforms, and random number generation, facilitating complex computations.\n",
    "\n",
    "- Integration: NumPy serves as the foundation for many other scientific libraries in Python, such as SciPy, pandas, and scikit-learn, making it integral to the scientific Python ecosystem.\n",
    "\n",
    "- Ease of Use: With its intuitive syntax and extensive documentation, NumPy is accessible to both beginners and experienced programmers.\n",
    "\n",
    "- Community Support: Being open-source, it has a large and active community, ensuring continuous development and support\n"
   ]
  },
  {
   "cell_type": "markdown",
   "metadata": {
    "id": "kG6eZhbksoH7"
   },
   "source": [
    "**2. How does broadcasting work in NumPy?**\n",
    "- 🔧 How Broadcasting Works\n",
    "\n",
    "When performing operations on two arrays, NumPy compares their shapes element-wise, starting from the trailing dimensions. Two dimensions are compatible when:\n",
    "\n",
    "- They are equal, or\n",
    "\n",
    "- One of them is 1\n",
    "\n",
    "If these conditions are met, NumPy stretches the smaller array across the larger one so that they have compatible shapes. This process does not involve actual data replication, which makes broadcasting memory-efficient.\n"
   ]
  },
  {
   "cell_type": "markdown",
   "metadata": {
    "id": "MSN4K7e2tXEX"
   },
   "source": [
    "**3.What is a Pandas DataFrame?**\n",
    "- A Pandas DataFrame is a two-dimensional, size-mutable, and heterogeneous tabular data structure in Python, equipped with labeled axes (rows and columns). It is a core component of the Pandas library, widely used for data manipulation and analysis.\n",
    "\n",
    "🔍 Key Features of a Pandas DataFrame\n",
    "\n",
    "- Two-Dimensional Structure: Data is organized in rows and columns, similar to a spreadsheet or SQL table.\n",
    "Pandas\n",
    "\n",
    "- Labeled Axes: Both rows and columns have labels, allowing for intuitive data selection and alignment.\n",
    "\n",
    "- Heterogeneous Data: Each column can contain data of different types (e.g., integers, floats, strings).\n",
    "\n",
    "- Size-Mutable: You can add or remove columns and rows as needed.\n",
    "\n",
    "- Rich Functionality: Supports a wide range of operations, including data alignment, aggregation, filtering, and merging.\n",
    "\n"
   ]
  },
  {
   "cell_type": "markdown",
   "metadata": {
    "id": "p6SYeHu7t_SS"
   },
   "source": [
    "**4.Explain the use of the groupby() method in Pandas.**\n",
    "- The groupby() method in Pandas is a powerful tool for grouping and analyzing data based on specific criteria. It follows the \"split-apply-combine\" strategy, which involves splitting the data into groups, applying a function to each group independently, and then combining the results into a new DataFrame.\n",
    "\n",
    "\n",
    "🔍 How groupby() Works\n",
    "\n",
    "- Splitting: The data is divided into groups based on the values in one or more columns.\n",
    "\n",
    "- Applying: A function is applied to each group separately. This function can be:\n",
    "\n",
    "- Aggregation: Computing summary statistics like sum, mean, or count.\n",
    "\n",
    "- Transformation: Performing operations that return an object of the same size as the group.\n",
    "\n",
    "- Filtration: Filtering out groups based on a condition.\n",
    "GeeksforGeeks\n",
    "\n",
    "- Combining: The results of these operations are combined into a new DataFrame.\n"
   ]
  },
  {
   "cell_type": "markdown",
   "metadata": {
    "id": "EDtE_32cuuYL"
   },
   "source": [
    "**5.Why is Seaborn preferred for statistical visualizations?**\n",
    "- Seaborn is a Python data visualization library built on top of Matplotlib. It provides a high-level interface for drawing attractive and informative statistical graphics.\n",
    "\n",
    "📊 Why Seaborn Excels at Statistical Visualizations\n",
    "1. High-Level Interface for Complex Plots\n",
    "Seaborn simplifies the creation of complex statistical plots with concise syntax. Functions like relplot(), catplot(), and pairplot() allow users to generate intricate visualizations with minimal code.\n",
    "\n",
    "2. Seamless Integration with Pandas\n",
    "Designed to work closely with Pandas DataFrames, Seaborn allows direct plotting of data without extensive preprocessing. This integration streamlines the workflow for data analysis and visualization.\n",
    "\n",
    "3. Built-In Themes and Color Palettes\n",
    "Seaborn offers a variety of built-in themes and color palettes, such as darkgrid and deep, which enhance the aesthetics of plots. These presets help in creating visually appealing and professional-looking visualizations effortlessly.\n",
    "\n",
    "4. Advanced Statistical Plotting Functions\n",
    "The library provides specialized functions for statistical plotting, including sns.histplot() for distributions, sns.boxplot() for categorical data, and sns.heatmap() for correlation matrices. These functions are tailored for statistical data visualization, making it easier to understand data distributions and relationships.\n",
    "\n",
    "5. Facilitates Exploratory Data Analysis (EDA)\n",
    "Seaborn's capabilities are particularly beneficial for EDA, allowing analysts to uncover patterns, trends, and relationships within datasets through visual means. Its functions support the creation of informative plots that aid in data interpretation."
   ]
  },
  {
   "cell_type": "markdown",
   "metadata": {
    "id": "EIz1_WWYvXKQ"
   },
   "source": [
    "**6.What are the differences between NumPy arrays and Python lists?**\n",
    "- NumPy arrays and Python lists are both used to store collections of data, but they differ significantly in terms of structure, performance, and functionality. Here's a detailed comparison:\n",
    "\n",
    "🧱 1. Data Type Consistency\n",
    "\n",
    "- Python Lists: Can store elements of different data types within the same list. For example:\n",
    "\n",
    "\n",
    "```\n",
    "  py_list = [1, 3.14, 'hello', True]\n",
    "\n",
    "```\n",
    "- NumPy Arrays: Require all elements to be of the same data type (homogeneous). If you attempt to create an array with mixed types, NumPy will upcast to a compatible type to maintain consistency. For example:\n",
    "\n",
    "\n",
    "```\n",
    "  import numpy as np\n",
    "  np_array = np.array([1, 2, 3])\n",
    "\n",
    "```\n",
    "This array will have a uniform data type, such as int64.\n",
    "\n",
    "🚀 2. Performance and Memory Efficiency\n",
    "\n",
    "- Python Lists: Store references to objects, which can lead to higher memory usage and slower performance for numerical operations.\n",
    "\n",
    "- NumPy Arrays: Store data in contiguous memory blocks, enabling efficient access and manipulation. This design leads to faster computations and reduced memory consumption, especially for large datasets\n",
    "\n",
    "🧮 3. Functionality and Operations\n",
    "\n",
    "- Python Lists: Do not support element-wise operations inherently. Operations like addition or multiplication need to be performed using loops or list comprehensions.\n",
    "\n",
    "- NumPy Arrays: Support vectorized operations, allowing element-wise computations without explicit loops. For example:\n",
    "\n",
    "\n",
    "\n",
    "```\n",
    "  import numpy as np\n",
    "  a = np.array([1, 2, 3])\n",
    "  b = np.array([4, 5, 6])\n",
    "  result = a + b  # Output: array([5, 7, 9])\n",
    "\n",
    "```\n",
    "🔄 4. Flexibility vs. Specialization\n",
    "\n",
    "- Python Lists: Offer greater flexibility, allowing storage of heterogeneous data types and dynamic resizing. They are suitable for general-purpose programming tasks.\n",
    "\n",
    "- NumPy Arrays: Are specialized for numerical and scientific computing. They provide a wide range of mathematical functions and are optimized for performance, making them ideal for tasks involving large numerical datasets.\n",
    "\n",
    "📊 5. Use Cases\n",
    "\n",
    "- Python Lists: Best suited for applications requiring flexibility, such as storing mixed data types or when the dataset size is relatively small.\n",
    "\n",
    "- NumPy Arrays: Preferred for numerical computations, data analysis, and situations where performance and memory efficiency are critical. They are commonly used in scientific computing, machine learning, and data processing tasks\n",
    "\n",
    "\n"
   ]
  },
  {
   "cell_type": "markdown",
   "metadata": {
    "id": "Y8s6UCGZw_S1"
   },
   "source": [
    "**7.What is a heatmap, and when should it be used?**\n",
    "- A heatmap is a data visualization technique that represents numerical values using a color gradient, allowing for quick identification of patterns, correlations, and anomalies within a dataset. Typically, higher values are depicted with warmer colors (e.g., reds and oranges), while lower values are shown with cooler colors (e.g., blues and greens). This method is particularly effective for visualizing large datasets and understanding complex data relationships.\n",
    "\n",
    "🔹 When to Use a Heatmap\n",
    "\n",
    "Heatmaps are especially useful in the following scenarios:\n",
    "\n",
    "-  Analyzing Correlations: Visualizing correlation matrices to identify relationships between variables.\n",
    "\n",
    "- Website User Behavior: Tracking user interactions such as clicks, scrolls, and mouse movements to optimize web design and user experience.\n",
    "\n",
    "\n",
    "- Geospatial Analysis: Displaying data density or intensity over geographical areas, such as population density or crime rates.\n",
    "Wikipedia\n",
    "\n",
    "- Biological Data: Representing gene expression levels or other biological measurements across different conditions or samples.\n",
    "\n",
    "- Time-Series Data: Visualizing patterns over time, such as activity levels throughout days or weeks.\n",
    "\n",
    "\n"
   ]
  },
  {
   "cell_type": "markdown",
   "metadata": {
    "id": "Zw1Mljzpxo97"
   },
   "source": [
    "**8.What does the term “vectorized operation” mean in NumPy?**\n",
    "- In NumPy, a vectorized operation refers to performing operations on entire arrays without the need for explicit loops. This approach leverages optimized, pre-compiled code (often written in low-level languages like C) to execute operations efficiently over sequences of data. Vectorization enhances performance by reducing the overhead associated with Python loops and by utilizing CPU-level optimizations.\n",
    "⚙️ How Vectorized Operations Work\n",
    "\n",
    "NumPy arrays are homogeneous, meaning all elements are of the same data type. This uniformity allows NumPy to delegate operations to optimized C code, enabling fast execution. For instance, adding two arrays element-wise can be done succinctly:\n",
    "\n",
    "\n",
    "```\n",
    "import numpy as np\n",
    "\n",
    "a = np.array([1, 2, 3])\n",
    "b = np.array([4, 5, 6])\n",
    "result = a + b  # Output: array([5, 7, 9])\n",
    "\n",
    "```\n",
    "🚀 Benefits of Vectorization\n",
    "\n",
    "- Performance: Vectorized operations are typically much faster than their loop-based counterparts due to reduced interpreter overhead and optimized low-level implementations.\n",
    "\n",
    "- Conciseness: Code becomes more readable and concise, as operations are expressed in a high-level manner.\n",
    "\n",
    "- Memory Efficiency: Operations are performed in-place when possible, reducing memory usage.\n",
    "\n",
    "\n",
    "\n"
   ]
  },
  {
   "cell_type": "markdown",
   "metadata": {
    "id": "3w7U1LE4yV-p"
   },
   "source": [
    "**9.How does Matplotlib differ from Plotly?**\n",
    "- Matplotlib and Plotly are both powerful Python libraries for data visualization, each with its own strengths and ideal use cases. Here's a detailed comparison to help you understand their differences:\n",
    "\n",
    "🎨 Matplotlib: The Classic Visualization Library\n",
    "\n",
    "Overview: Matplotlib is a foundational library in Python's data visualization ecosystem, known for its ability to create static, high-quality plots.\n",
    "\n",
    "Key Features:\n",
    "\n",
    "- Static Visualizations: Generates non-interactive plots suitable for publications and reports.\n",
    "\n",
    "- Customization: Offers granular control over plot elements, including fonts, colors, and line styles.\n",
    "\n",
    "- Integration: Widely used in conjunction with libraries like NumPy, Pandas, and Seaborn.\n",
    "\n",
    "- Output Formats: Supports various formats such as PNG, PDF, and SVG.\n",
    "\n",
    "Use Cases:\n",
    "\n",
    "- Academic research and publications.\n",
    "\n",
    "- Static reporting and documentation.\n",
    "\n",
    "- Situations requiring detailed customization of plots\n",
    "\n",
    "🌐 Plotly: Interactive and Modern Visualizations\n",
    "\n",
    "Overview: Plotly is a modern library designed for creating interactive and web-ready visualizations.\n",
    "\n",
    "Key Features:\n",
    "\n",
    "- Interactivity: Provides features like zooming, panning, and hover tooltips out of the box.\n",
    "\n",
    "- Ease of Use: Simplifies the creation of complex plots with concise syntax.\n",
    "\n",
    "- Web Integration: Ideal for dashboards and web applications, especially when combined with frameworks like Dash.\n",
    "\n",
    "- Aesthetics: Delivers visually appealing plots with minimal configuration.\n",
    "\n",
    "Use Cases:\n",
    "\n",
    "- Interactive dashboards and web applications.\n",
    "\n",
    "- Data exploration and analysis in Jupyter notebooks.\n",
    "\n",
    "- Presentations requiring dynamic visualizations\n"
   ]
  },
  {
   "cell_type": "markdown",
   "metadata": {
    "id": "dS0wevAbz018"
   },
   "source": [
    "**10.What is the significance of hierarchical indexing in Pandas?**\n",
    "\n",
    "✅ Significance of Hierarchical Indexing\n",
    "\n",
    "- Efficient Data Representation: Hierarchical indexing allows you to represent multi-dimensional data in a compact and readable format, making it easier to understand and analyze.\n",
    "\n",
    "- Advanced Data Selection: With a MultiIndex, you can perform more complex data selections using .loc[] and .xs(), enabling you to access data at different levels of the hierarchy.\n",
    "Programiz\n",
    "\n",
    "- GroupBy Operations: It enhances the functionality of groupby() operations, allowing for aggregation and transformation across multiple levels of data.\n",
    "\n",
    "- Reshaping Data: Hierarchical indexing facilitates reshaping operations like pivoting and stacking, enabling you to transform data between wide and long formats.\n",
    "\n",
    "- Time Series Analysis: It's particularly useful in time series analysis where data is indexed by multiple time periods and categories, allowing for more granular analysis.\n",
    "\n",
    "\n"
   ]
  },
  {
   "cell_type": "markdown",
   "metadata": {
    "id": "16lItFuk0etn"
   },
   "source": [
    "**11.What is the role of Seaborn’s pairplot() function?**\n",
    "- Seaborn's pairplot() function is a powerful tool for visualizing pairwise relationships in a dataset, making it an essential component in exploratory data analysis (EDA). It facilitates the examination of interactions between multiple variables simultaneously, providing insights into correlations, distributions, and potential patterns within the data.\n",
    "\n",
    "\n",
    "🔍 What Is pairplot():-\n",
    "\n",
    "The pairplot() function creates a grid of scatter plots for each pair of numerical variables in a dataset, with histograms or kernel density estimates (KDEs) along the diagonal to show the univariate distribution of each variable. This comprehensive visualization allows for the quick identification of relationships and distributions across variables.\n",
    "\n",
    "✅ Key Features\n",
    "\n",
    "- Pairwise Scatter Plots: Visualizes relationships between each pair of variables, helping to identify correlations and trends.\n",
    "\n",
    "- Diagonal Distribution Plots: Displays univariate distributions of variables, providing insights into their individual characteristics.\n",
    "\n",
    "- Categorical Grouping: Using the hue parameter, you can color-code the plots based on a categorical variable, facilitating the comparison of distributions and relationships across different categories.\n",
    "GeeksforGeeks\n",
    "\n",
    "- Customization: Offers various parameters to customize the plots, such as kind for choosing the type of plot (e.g., scatter, KDE), height for adjusting the size of the plots, and corner to remove the upper (off-diagonal) portion of the grid for a cleaner look.\n",
    "\n",
    "🛠️ Example Usage\n",
    "\n",
    "\n",
    "```\n",
    "import seaborn as sns\n",
    "import matplotlib.pyplot as plt\n",
    "\n",
    "# Load dataset\n",
    "df = sns.load_dataset('iris')\n",
    "\n",
    "# Create pairplot\n",
    "sns.pairplot(df, hue='species', kind='scatter', height=2.5)\n",
    "plt.show()\n",
    "\n",
    "```\n",
    "📈 Significance in Data Analysis\n",
    "\n",
    "- Identifying Relationships: Quickly spot linear or nonlinear relationships between variables.\n",
    "Analytics Vidhya\n",
    "\n",
    "- Detecting Correlations: Visualize correlations to inform feature selection for modeling.\n",
    "\n",
    "- Recognizing Outliers: Easily identify outliers that may require further investigation or preprocessing.\n",
    "\n",
    "- Understanding Distributions: Gain insights into the distribution of individual variables, aiding in the selection of appropriate statistical methods.\n",
    "\n",
    "\n"
   ]
  },
  {
   "cell_type": "markdown",
   "metadata": {
    "id": "8WxGotxk1wTB"
   },
   "source": [
    "**12.What is the purpose of the describe() function in Pandas?**\n",
    "- The describe() function in Pandas is a powerful tool for quickly generating summary statistics of a DataFrame or Series. It provides insights into the central tendency, dispersion, and shape of the data's distribution, excluding missing values (NaNs)\n",
    "\n",
    "📊 Key Features of describe()\n",
    "\n",
    "-Numerical Data: By default, describe() computes the following statistics for each numeric column:\n",
    "\n",
    "- count: Number of non-null entries.\n",
    "\n",
    "- mean: Average value.\n",
    "\n",
    "- std: Standard deviation.\n",
    "\n",
    "- min: Minimum value.\n",
    "\n",
    "- 25%: 25th percentile (first quartile).\n",
    "\n",
    "- 50%: 50th percentile (median).\n",
    "\n",
    "- 75%: 75th percentile (third quartile).\n",
    "\n",
    "- max: Maximum value.\n",
    "\n",
    "-Categorical Data: When applied to object (string) columns, describe() returns:\n",
    "\n",
    "- count: Number of non-null entries.\n",
    "\n",
    "- unique: Number of unique values.\n",
    "\n",
    "- top: Most frequent value.\n",
    "\n",
    "- freq: Frequency of the most common value.\n",
    "\n",
    "-Customization: You can customize the output using parameters like percentiles, include, and exclude to control which statistics and data types are included in the summary"
   ]
  },
  {
   "cell_type": "markdown",
   "metadata": {
    "id": "3XcFY8zP2ot9"
   },
   "source": [
    "**13.Why is handling missing data important in Pandas?**\n",
    "- 🧠 Why Handling Missing Data Matters\n",
    "\n",
    "- Ensures Accurate Analysis: Missing values can skew statistical measures like mean, median, and standard deviation, leading to misleading conclusions.\n",
    "\n",
    "- Prevents Errors in Computations: Operations involving missing data can result in errors or unintended behavior, affecting the integrity of your analysis.\n",
    "Data Science Dojo Discussions\n",
    "\n",
    "- Improves Model Performance: Machine learning algorithms often require complete data; missing values can hinder model training and prediction accuracy.\n",
    "\n",
    "- Facilitates Data Cleaning: Identifying and addressing missing data is a fundamental step in data preprocessing, ensuring a clean dataset for analysis.\n",
    ".\n",
    "\n",
    "🔍 Common Representations of Missing Data in Pandas\n",
    "\n",
    "-Pandas recognizes several representations for missing data:\n",
    "\n",
    "- NaN (Not a Number): A special floating-point value from NumPy, commonly used for missing numerical data.\n",
    "\n",
    "- None: A Python singleton object, often used for missing values in object-type arrays.\n",
    "\n",
    "- NaT (Not a Time): Used for missing datetime or timedelta data.\n",
    "Pandas\n",
    "\n",
    "- <NA>: A nullable missing value introduced in Pandas 1.0, compatible with integer, boolean, and string data types.\n",
    "\n"
   ]
  },
  {
   "cell_type": "markdown",
   "metadata": {
    "id": "XRf3xPMJ4Gns"
   },
   "source": [
    "**14.What are the benefits of using Plotly for data visualization?**\n",
    "- Plotly is a powerful open-source data visualization library that enables the creation of interactive, web-ready visualizations with minimal code. Its integration with Python, R, and JavaScript makes it a versatile tool for data scientists, analysts, and developers.\n",
    "\n",
    "✅ Key Benefits of Using Plotly\n",
    "\n",
    "1. Interactive Visualizations\n",
    "\n",
    "- Plotly excels in creating interactive charts that allow users to zoom, pan, hover, and click to explore data dynamically. This interactivity enhances user engagement and facilitates deeper insights during exploratory data analysis.\n",
    "GeeksforGeeks\n",
    "\n",
    "2. Wide Range of Chart Types\n",
    "\n",
    "- Plotly supports a diverse array of chart types, including:\n",
    "\n",
    "- Line, bar, and scatter plots\n",
    "\n",
    "- 3D surface and scatter plots\n",
    "\n",
    "- Heatmaps and choropleths\n",
    "\n",
    "- Box plots, violin plots, and more.\n",
    "\n",
    "3. Ease of Use\n",
    "\n",
    "- With libraries like plotly.express, creating complex visualizations becomes straightforward. For instance, generating a scatter plot with a regression line can be achieved in just one line of code:\n",
    "\n",
    "\n",
    "```\n",
    "import plotly.express as px\n",
    "fig = px.scatter(data_frame=df, x='x_column', y='y_column', trendline='ols')\n",
    "fig.show()\n",
    "\n",
    "```\n",
    "\n",
    "4. Seamless Integration with Dash\n",
    "\n",
    "- Plotly integrates seamlessly with Dash, a Python framework for building analytical web applications. This combination allows for the creation of interactive dashboards that can be deployed and shared easily.\n",
    "\n",
    "5. High Customizability\n",
    "\n",
    "- Plotly offers extensive customization options, enabling users to adjust colors, labels, annotations, and more. This flexibility ensures that visualizations can be tailored to meet specific requirements and preferences.\n"
   ]
  },
  {
   "cell_type": "markdown",
   "metadata": {
    "id": "XRrG4zrF5MOI"
   },
   "source": [
    "**15.How does NumPy handle multidimensional arrays?**\n",
    "- NumPy efficiently handles multidimensional arrays through its core data structure, the ndarray (N-dimensional array). This structure allows for the storage and manipulation of homogeneous data in a contiguous memory block, enabling high-performance computations.\n",
    "\n",
    "🧱 Structure of a NumPy ndarray\n",
    "\n",
    "- Shape: A tuple indicating the size of the array along each dimension. For example, an array with shape (3, 4, 5) has 3 dimensions with sizes 3, 4, and 5 respectively.\n",
    "\n",
    "- ndim: The number of dimensions (axes) of the array. In the above example, ndim would be 3.\n",
    "GeeksforGeeks\n",
    "\n",
    "- dtype: Specifies the data type of the array's elements, such as float64 or int32.\n",
    "\n",
    "- strides: A tuple indicating the number of bytes to step in each dimension when traversing the array. This allows for efficient memory access patterns.\n",
    "\n",
    "These attributes enable NumPy to perform operations on arrays without the need for explicit loops, leveraging vectorized computations for speed and efficiency.\n",
    "\n",
    "🧮 Operations on Multidimensional Arrays\n",
    "\n",
    "NumPy supports a wide range of operations on multidimensional arrays, including:\n",
    "\n",
    "- Element-wise operations: Perform arithmetic operations between arrays of the same shape.\n",
    "\n",
    "- Broadcasting: Automatically expand arrays of smaller dimensions to match larger ones during operations.\n",
    "\n",
    "- Aggregation functions: Compute summary statistics like sum(), mean(), and max() along specified axes.\n",
    "\n",
    "- Linear algebra operations: Perform matrix multiplication, transposition, and other linear algebra computations.\n",
    "\n"
   ]
  },
  {
   "cell_type": "markdown",
   "metadata": {
    "id": "gDHoBxJF7UP-"
   },
   "source": [
    "**16.What is the role of Bokeh in data visualization?**\n",
    "- Bokeh is a powerful and flexible Python library designed for creating interactive, web-ready visualizations. It enables data scientists and developers to build dynamic plots, dashboards, and applications that can be embedded in web pages or run as standalone apps.\n",
    "\n",
    "🎯 Key Features of Bokeh\n",
    "\n",
    "1. Interactive Visualizations\n",
    "\n",
    "Bokeh excels at producing interactive plots with tools like zoom, pan, hover, and selection. These features allow users to explore data dynamically, enhancing the depth of analysis. For instance, you can create scatter plots, line charts, and bar graphs that respond to user inputs, facilitating a more engaging data exploration experience.\n",
    "\n",
    "2. Versatile Output Options\n",
    "\n",
    "Bokeh supports multiple output formats, including:\n",
    "\n",
    "- Jupyter Notebooks: Ideal for exploratory data analysis within interactive environments.\n",
    "\n",
    "- Standalone HTML Files: Useful for sharing visualizations without requiring a server.\n",
    "\n",
    "- Bokeh Server Applications: Enables the creation of interactive web applications with real-time data updates.\n",
    "\n",
    "- Integration with Web Frameworks: Bokeh plots can be embedded into Flask or Django applications, allowing for seamless integration into existing web projects\n",
    "\n",
    "3. Layered API\n",
    "\n",
    "Bokeh offers a layered API structure to cater to users with varying levels of expertise:\n",
    "\n",
    "- bokeh.plotting: A high-level interface resembling Matplotlib, suitable for quick and easy plot creation.\n",
    "\n",
    "- bokeh.models: Provides low-level access for fine-grained control over plot components, enabling the construction of complex visualizations.\n",
    "\n",
    "4. Integration with Data Science Tools\n",
    "\n",
    "- Bokeh integrates seamlessly with popular Python data science libraries such as NumPy, Pandas, and SciPy. This compatibility allows for efficient data manipulation and visualization within a unified workflow.\n",
    "\n",
    "5. Real-Time Data Streaming\n",
    "\n",
    "- With Bokeh's streaming capabilities, you can build visualizations that update in real-time. This feature is particularly useful for monitoring live data feeds, such as financial market trends or sensor data streams.\n",
    "\n"
   ]
  },
  {
   "cell_type": "markdown",
   "metadata": {
    "id": "3_OnOKs7qb6V"
   },
   "source": [
    "**17.Explain the difference between apply() and map() in Pandas.**\n",
    "- In Pandas, apply() and map() are both used to apply functions to data, but they differ in scope and flexibility.\n",
    "\n",
    "🔹 map(): Element-wise Transformation for Series\n",
    "\n",
    "- Applicable to: Series objects only.\n",
    "\n",
    "- Functionality: Applies a function to each element in the Series individually.\n",
    "Spark By {Examples}\n",
    "\n",
    "- Accepts: A function, dictionary, or another Series.\n",
    "\n",
    "Use Cases:\n",
    "\n",
    "- Transforming or mapping values in a Series.\n",
    "\n",
    "- Replacing values using a dictionary.\n",
    "\n",
    "Example:\n",
    "\n",
    "\n",
    "```\n",
    "  import pandas as pd\n",
    "\n",
    "  s = pd.Series([1, 2, 3])\n",
    "  s_mapped = s.map(lambda x: x ** 2)  # Applies the function to each element\n",
    "\n",
    "```\n",
    "\n",
    "\n",
    "🔹 apply(): Flexible Function Application\n",
    "\n",
    "- Applicable to: Both Series and DataFrame objects.\n",
    "\n",
    "Functionality:\n",
    "\n",
    "- For Series: Applies a function to each element.\n",
    "\n",
    "- For DataFrame: Applies a function along an axis (rows or columns)\n",
    "\n",
    "- Accepts: Callable functions only.\n",
    "\n",
    "Use Cases:\n",
    "\n",
    "- Performing row-wise or column-wise operations in a DataFrame.\n",
    "\n",
    "- Applying complex functions that may not be element-wise.\n",
    "\n",
    "Example:\n",
    "\n",
    "\n",
    "```\n",
    "  import pandas as pd\n",
    "\n",
    "  df = pd.DataFrame({'A': [1, 2, 3], 'B': [4, 5, 6]})\n",
    "  df_applied = df.apply(lambda x: x.sum(), axis=0)  # Sums each column\n",
    "\n",
    "```\n",
    "\n",
    "\n"
   ]
  },
  {
   "cell_type": "markdown",
   "metadata": {
    "id": "FTevMH5Lr2x5"
   },
   "source": [
    "**18. What are some advanced features of NumPy?**\n",
    "- NumPy offers a suite of advanced features that enhance its efficiency and flexibility for numerical computations. Here's an overview of some key capabilities:\n",
    "\n",
    ":\n",
    "\n",
    "🔄 Broadcasting\n",
    "\n",
    "- Broadcasting allows NumPy to perform arithmetic operations on arrays of different shapes by automatically expanding them to compatible shapes. This eliminates the need for explicit loops and enables efficient vectorized computations.\n",
    "Medium\n",
    "\n",
    "🧱 Structured Arrays\n",
    "\n",
    "Structured arrays enable the storage of heterogeneous data types within a single array, similar to records or rows in a database. This is particularly useful for datasets where each element contains multiple fields of different types.\n",
    "\n",
    "🧠 Fancy Indexing\n",
    "\n",
    "Fancy indexing allows for the selection of array elements using integer arrays, boolean masks, or other arrays, providing powerful and flexible data retrieval methods.\n",
    "\n",
    "⚡ Vectorization\n",
    "Vectorization refers to the process of replacing explicit loops with array expressions to perform element-wise operations. This leads to more concise code and significant performance improvements.\n",
    "\n",
    "🧩 Universal Functions (ufuncs)\n",
    "\n",
    "Universal functions are functions that operate element-wise on arrays, supporting array broadcasting, type casting, and several other standard features. They provide a fast and efficient way to perform element-wise operations.\n",
    "\n",
    "🧮 Linear Algebra Operations\n",
    "\n",
    "NumPy includes a comprehensive set of linear algebra functions, such as matrix multiplication, eigenvalue computation, and singular value decomposition, facilitating advanced mathematical computations.\n",
    "\n",
    "\n",
    "\n"
   ]
  },
  {
   "cell_type": "markdown",
   "metadata": {
    "id": "NYBzVvIitYX6"
   },
   "source": [
    "**19.How does Pandas simplify time series analysis?**\n",
    "- Pandas simplifies time series analysis by offering a comprehensive suite of tools tailored for handling temporal data. Here's how it streamlines the process:\n",
    "\n",
    "🕒 1. Time-Aware Data Structures\n",
    "\n",
    "- DatetimeIndex: Pandas allows setting datetime objects as indices, enabling intuitive time-based indexing and slicing. For instance, you can retrieve data for a specific date range using df['2021-01':'2021-03'].\n",
    "\n",
    "- Timestamp and Timedelta: These classes facilitate precise time point and duration representations, supporting arithmetic operations like adding days or calculating differences between dates.\n",
    "\n",
    "🔁 2. Resampling and Frequency Conversion\n",
    "\n",
    "- Resampling: Pandas provides the resample() method to convert time series data to different frequencies. For example, converting daily data to monthly averages is straightforward.\n",
    "\n",
    "- Frequency Conversion: You can easily change the frequency of your time series data, such as from daily to weekly, using built-in methods.\n",
    "\n",
    "📊 3. Rolling and Expanding Windows\n",
    "\n",
    "- Rolling Windows: The rolling() function enables computation of moving statistics like rolling means or sums, which are essential for smoothing time series data.\n",
    "\n",
    "- Expanding Windows: The expanding() function allows calculations over an expanding window, useful for cumulative statistics.\n",
    ".\n",
    "\n",
    "📅 4. Date Range Generation and Shifting\n",
    "\n",
    "- Date Range Generation: Use pd.date_range() to create a range of dates with a specified frequency, aiding in time series creation and analysis.\n",
    "\n",
    "- Shifting: The shift() method moves data forward or backward in time, which is helpful for computing differences or lagged values.\n",
    "\n",
    "📈 5. Time Series Visualization\n",
    "\n",
    "- Pandas integrates seamlessly with Matplotlib, allowing for quick and easy plotting of time series data. By calling the plot() method on a time-indexed DataFrame or Series, you can generate informative visualizations.\n",
    "\n",
    "\n",
    "\n",
    "\n",
    "\n",
    "\n",
    "\n"
   ]
  },
  {
   "cell_type": "markdown",
   "metadata": {
    "id": "PDPLwPvduwnD"
   },
   "source": [
    "**20.What is the role of a pivot table in Pandas?**\n",
    "- The role of a pivot table in pandas is to reshape and summarize data within a DataFrame, enabling users to analyze data from different perspectives. It transforms data by aggregating values based on one or more index and column labels. This functionality is similar to pivot tables in spreadsheet software, offering a flexible way to explore data relationships and patterns.\n",
    "\n",
    "Pivot tables are particularly useful for:\n",
    "\n",
    "Data summarization:\n",
    "\n",
    "- They can aggregate data using functions like sum, mean, count, or custom functions, providing a concise overview of data trends.\n",
    "\n",
    "Data reshaping:\n",
    "\n",
    "- Pivot tables can convert data from a long format to a wide format, making it easier to compare different variables.\n",
    "\n",
    "Multidimensional analysis:\n",
    "\n",
    "- They allow for the examination of data across multiple dimensions, revealing insights that might be hidden in raw data.\n",
    "\n",
    "Report generation:\n",
    "\n",
    "- Pivot tables can be used to create structured reports and summaries for presentations or further analysis.\n"
   ]
  },
  {
   "cell_type": "markdown",
   "metadata": {
    "id": "pwJIfFylv2z4"
   },
   "source": [
    "**21.Why is NumPy’s array slicing faster than Python’s list slicing?**\n",
    "- NumPy's array slicing is significantly faster than Python's list slicing due to several key architectural and implementation differences:\n",
    "\n",
    "1. Contiguous Memory Allocation\n",
    "\n",
    "- NumPy arrays are stored in contiguous blocks of memory, meaning all elements are laid out sequentially. This layout enhances cache locality, allowing the CPU to efficiently prefetch and access data, leading to faster operations.\n",
    "Data Leads Future\n",
    "\n",
    "- In contrast, Python lists are arrays of pointers to objects scattered throughout memory. Accessing elements requires dereferencing these pointers, which is less efficient due to potential cache misses.\n",
    "\n",
    "2. Homogeneous Data Types\n",
    "\n",
    "- NumPy arrays enforce a single data type for all elements, enabling optimized, low-level operations. This uniformity allows for efficient vectorized computations and reduces overhead.\n",
    "\n",
    "\n",
    "- Python lists can contain elements of varying data types, necessitating type checks and dynamic dispatch during operations, which slows down performance.\n",
    "\n",
    "3. Slicing Returns Views, Not Copies\n",
    "\n",
    "- When slicing a NumPy array, the result is a view of the original data, not a separate copy. This approach avoids unnecessary data duplication and speeds up operations.\n",
    "\n",
    " Conversely, slicing a Python list creates a new list and copies the data, which incurs additional memory and time overhead.\n",
    "\n",
    "4. Implementation in Optimized C Code\n",
    "\n",
    "- NumPy's core operations, including slicing, are implemented in optimized C code. This low-level implementation minimizes the overhead associated with Python's dynamic typing and interpreter, resulting in faster execution.\n",
    "Stack Overflow\n",
    "\n",
    " Python lists, being high-level abstractions, rely on the interpreter for operations, which introduces additional overhead.\n",
    "\n",
    "5. Vectorized Operations\n",
    "\n",
    "- NumPy supports vectorized operations, allowing batch processing of data without explicit Python loops. This capability leverages optimized C routines and CPU features like SIMD (Single Instruction, Multiple Data) to perform operations more efficiently.\n",
    "\n",
    " Python lists require explicit loops for element-wise operations, which are slower due to interpreter overhead.\n",
    "\n",
    "\n",
    "\n",
    "\n",
    "\n",
    "\n",
    "\n",
    "\n",
    "\n",
    "\n"
   ]
  },
  {
   "cell_type": "markdown",
   "metadata": {
    "id": "15PCOplLxwy4"
   },
   "source": [
    "**22.What are some common use cases for Seaborn?**\n",
    "\n",
    "- Seaborn is a powerful Python data visualization library built on top of Matplotlib. It provides a high-level interface for creating attractive and informative statistical graphics. Seaborn is particularly well-suited for exploring and understanding complex datasets.\n",
    "\n",
    "📊 1. Exploratory Data Analysis (EDA)\n",
    "\n",
    "- Seaborn simplifies EDA by offering functions that allow quick visualization of data distributions and relationships. For instance, pairplot() can display pairwise relationships in a dataset, helping to identify patterns and correlations.\n",
    "\n",
    "📈 2. Visualizing Statistical Relationships\n",
    "\n",
    "- Seaborn provides tools to visualize statistical relationships between variables. Functions like lmplot() and regplot() can plot data and fit regression models, making it easier to understand trends and correlations.\n",
    "\n",
    "🧮 3. Analyzing Distributions\n",
    "\n",
    "- Understanding the distribution of data is crucial in statistics. Seaborn offers functions like histplot(), kdeplot(), and displot() to visualize univariate and bivariate distributions, aiding in identifying skewness, modality, and outliers.\n",
    "\n",
    "📊 4. Categorical Data Visualization\n",
    "\n",
    "- Seaborn excels at visualizing categorical data. Functions such as boxplot(), violinplot(), swarmplot(), and barplot() allow for detailed comparison between categories, highlighting differences in distributions and central tendencies.\n",
    "\n",
    "🌐 5. Multi-Plot Grids\n",
    "\n",
    "- For datasets with multiple variables, Seaborn's FacetGrid and PairGrid enable the creation of multi-plot grids. These grids facilitate the visualization of relationships across subsets of data, making it easier to detect patterns and interactions.\n",
    "\n",
    "\n",
    "\n"
   ]
  },
  {
   "cell_type": "code",
   "execution_count": null,
   "metadata": {
    "colab": {
     "base_uri": "https://localhost:8080/"
    },
    "id": "_TeoDl2Oy9LR",
    "outputId": "88855587-3f16-4860-a4e0-4f5152d4e2e9"
   },
   "outputs": [
    {
     "name": "stdout",
     "output_type": "stream",
     "text": [
      "Sum of each row: [ 6 15 24]\n"
     ]
    }
   ],
   "source": [
    "#1 How do you create a 2D NumPy array and calculate the sum of each row?\n",
    "\n",
    "import numpy as np\n",
    "arr = np.array([[1, 2, 3],\n",
    "                [4, 5, 6],\n",
    "                [7, 8, 9]])\n",
    "row_sums = np.sum(arr, axis=1)\n",
    "print(\"Sum of each row:\", row_sums)\n",
    "\n"
   ]
  },
  {
   "cell_type": "code",
   "execution_count": null,
   "metadata": {
    "colab": {
     "base_uri": "https://localhost:8080/"
    },
    "id": "FTmloJzgzdo1",
    "outputId": "234c642d-8002-40ba-90aa-1428d3a89fe8"
   },
   "outputs": [
    {
     "name": "stdout",
     "output_type": "stream",
     "text": [
      "Mean Salary: 65000.0\n"
     ]
    }
   ],
   "source": [
    "#2 Write a Pandas script to find the mean of a specific column in a DataFrame.\n",
    "import pandas as pd\n",
    "\n",
    "# Create a sample DataFrame\n",
    "data = {\n",
    "    'Name': ['Alice', 'Bob', 'Charlie', 'David'],\n",
    "    'Age': [25, 30, 35, 40],\n",
    "    'Salary': [50000, 60000, 70000, 80000]\n",
    "}\n",
    "\n",
    "df = pd.DataFrame(data)\n",
    "\n",
    "mean_salary = df['Salary'].mean()\n",
    "print(f\"Mean Salary: {mean_salary}\")\n"
   ]
  },
  {
   "cell_type": "code",
   "execution_count": null,
   "metadata": {
    "colab": {
     "base_uri": "https://localhost:8080/",
     "height": 472
    },
    "id": "ayJ6legOzypO",
    "outputId": "5ceb63e2-ec15-451e-df7a-c09d2f32eb30"
   },
   "outputs": [
    {
     "data": {
      "image/png": "[encoded data removed]",
      "text/plain": [
       "<Figure size 640x480 with 1 Axes>"
      ]
     },
     "metadata": {},
     "output_type": "display_data"
    }
   ],
   "source": [
    "#3 Create a scatter plot using Matplotlib.\n",
    "\n",
    "import matplotlib.pyplot as plt\n",
    "import numpy as np\n",
    "\n",
    "x = np.array([5, 7, 8, 7, 2, 17, 2, 9, 4, 11, 12, 9, 6])\n",
    "y = np.array([99, 86, 87, 88, 111, 86, 103, 87, 94, 78, 77, 85, 86])\n",
    "\n",
    "plt.scatter(x, y)\n",
    "\n",
    "plt.xlabel('X-axis Label')\n",
    "plt.ylabel('Y-axis Label')\n",
    "plt.title('Scatter Plot Example')\n",
    "plt.show()\n"
   ]
  },
  {
   "cell_type": "code",
   "execution_count": null,
   "metadata": {
    "colab": {
     "base_uri": "https://localhost:8080/",
     "height": 545
    },
    "id": "D4HFY_Vf0Pri",
    "outputId": "1a7454d8-5a87-42c3-c0f4-00e22d32e9c5"
   },
   "outputs": [
    {
     "data": {
      "image/png": "[encoded data removed]",
      "text/plain": [
       "<Figure size 1000x600 with 2 Axes>"
      ]
     },
     "metadata": {},
     "output_type": "display_data"
    }
   ],
   "source": [
    "#4 How do you calculate the correlation matrix using Seaborn and visualize it with a heatmap?\n",
    "\n",
    "\n",
    "import pandas as pd\n",
    "import seaborn as sns\n",
    "import matplotlib.pyplot as plt\n",
    "df = sns.load_dataset('iris')\n",
    "corr_matrix = df.corr(numeric_only=True)\n",
    "plt.figure(figsize=(10, 6))\n",
    "sns.heatmap(corr_matrix, annot=True, cmap='coolwarm', linewidths=0.5, fmt=\".2f\")\n",
    "plt.title(\"Correlation Matrix Heatmap\")\n",
    "plt.show()\n"
   ]
  },
  {
   "cell_type": "code",
   "execution_count": null,
   "metadata": {
    "colab": {
     "base_uri": "https://localhost:8080/",
     "height": 542
    },
    "id": "NKaTnlamoXhj",
    "outputId": "5c1d9494-e5ee-4631-9f21-a7b95a318456"
   },
   "outputs": [
    {
     "data": {
      "text/html": [
       "<html>\n",
       "<head><meta charset=\"utf-8\" /></head>\n",
       "<body>\n",
       "    <div>            <script src=\"https://cdnjs.cloudflare.com/ajax/libs/mathjax/2.7.5/MathJax.js?config=TeX-AMS-MML_SVG\"></script><script type=\"text/javascript\">if (window.MathJax && window.MathJax.Hub && window.MathJax.Hub.Config) {window.MathJax.Hub.Config({SVG: {font: \"STIX-Web\"}});}</script>                <script type=\"text/javascript\">window.PlotlyConfig = {MathJaxConfig: 'local'};</script>\n",
       "        <script charset=\"utf-8\" src=\"https://cdn.plot.ly/plotly-2.35.2.min.js\"></script>                <div id=\"0f5194e7-bf6d-4292-ab33-d4af4acf638c\" class=\"plotly-graph-div\" style=\"height:525px; width:100%;\"></div>            <script type=\"text/javascript\">                                    window.PLOTLYENV=window.PLOTLYENV || {};                                    if (document.getElementById(\"0f5194e7-bf6d-4292-ab33-d4af4acf638c\")) {                    Plotly.newPlot(                        \"0f5194e7-bf6d-4292-ab33-d4af4acf638c\",                        [{\"marker\":{\"color\":\"indigo\"},\"x\":[\"Python\",\"SQL\",\"Excel\",\"Power BI\"],\"y\":[85,75,90,70],\"type\":\"bar\"}],                        {\"template\":{\"data\":{\"barpolar\":[{\"marker\":{\"line\":{\"color\":\"white\",\"width\":0.5},\"pattern\":{\"fillmode\":\"overlay\",\"size\":10,\"solidity\":0.2}},\"type\":\"barpolar\"}],\"bar\":[{\"error_x\":{\"color\":\"#2a3f5f\"},\"error_y\":{\"color\":\"#2a3f5f\"},\"marker\":{\"line\":{\"color\":\"white\",\"width\":0.5},\"pattern\":{\"fillmode\":\"overlay\",\"size\":10,\"solidity\":0.2}},\"type\":\"bar\"}],\"carpet\":[{\"aaxis\":{\"endlinecolor\":\"#2a3f5f\",\"gridcolor\":\"#C8D4E3\",\"linecolor\":\"#C8D4E3\",\"minorgridcolor\":\"#C8D4E3\",\"startlinecolor\":\"#2a3f5f\"},\"baxis\":{\"endlinecolor\":\"#2a3f5f\",\"gridcolor\":\"#C8D4E3\",\"linecolor\":\"#C8D4E3\",\"minorgridcolor\":\"#C8D4E3\",\"startlinecolor\":\"#2a3f5f\"},\"type\":\"carpet\"}],\"choropleth\":[{\"colorbar\":{\"outlinewidth\":0,\"ticks\":\"\"},\"type\":\"choropleth\"}],\"contourcarpet\":[{\"colorbar\":{\"outlinewidth\":0,\"ticks\":\"\"},\"type\":\"contourcarpet\"}],\"contour\":[{\"colorbar\":{\"outlinewidth\":0,\"ticks\":\"\"},\"colorscale\":[[0.0,\"#0d0887\"],[0.1111111111111111,\"#46039f\"],[0.2222222222222222,\"#7201a8\"],[0.3333333333333333,\"#9c179e\"],[0.4444444444444444,\"#bd3786\"],[0.5555555555555556,\"#d8576b\"],[0.6666666666666666,\"#ed7953\"],[0.7777777777777778,\"#fb9f3a\"],[0.8888888888888888,\"#fdca26\"],[1.0,\"#f0f921\"]],\"type\":\"contour\"}],\"heatmapgl\":[{\"colorbar\":{\"outlinewidth\":0,\"ticks\":\"\"},\"colorscale\":[[0.0,\"#0d0887\"],[0.1111111111111111,\"#46039f\"],[0.2222222222222222,\"#7201a8\"],[0.3333333333333333,\"#9c179e\"],[0.4444444444444444,\"#bd3786\"],[0.5555555555555556,\"#d8576b\"],[0.6666666666666666,\"#ed7953\"],[0.7777777777777778,\"#fb9f3a\"],[0.8888888888888888,\"#fdca26\"],[1.0,\"#f0f921\"]],\"type\":\"heatmapgl\"}],\"heatmap\":[{\"colorbar\":{\"outlinewidth\":0,\"ticks\":\"\"},\"colorscale\":[[0.0,\"#0d0887\"],[0.1111111111111111,\"#46039f\"],[0.2222222222222222,\"#7201a8\"],[0.3333333333333333,\"#9c179e\"],[0.4444444444444444,\"#bd3786\"],[0.5555555555555556,\"#d8576b\"],[0.6666666666666666,\"#ed7953\"],[0.7777777777777778,\"#fb9f3a\"],[0.8888888888888888,\"#fdca26\"],[1.0,\"#f0f921\"]],\"type\":\"heatmap\"}],\"histogram2dcontour\":[{\"colorbar\":{\"outlinewidth\":0,\"ticks\":\"\"},\"colorscale\":[[0.0,\"#0d0887\"],[0.1111111111111111,\"#46039f\"],[0.2222222222222222,\"#7201a8\"],[0.3333333333333333,\"#9c179e\"],[0.4444444444444444,\"#bd3786\"],[0.5555555555555556,\"#d8576b\"],[0.6666666666666666,\"#ed7953\"],[0.7777777777777778,\"#fb9f3a\"],[0.8888888888888888,\"#fdca26\"],[1.0,\"#f0f921\"]],\"type\":\"histogram2dcontour\"}],\"histogram2d\":[{\"colorbar\":{\"outlinewidth\":0,\"ticks\":\"\"},\"colorscale\":[[0.0,\"#0d0887\"],[0.1111111111111111,\"#46039f\"],[0.2222222222222222,\"#7201a8\"],[0.3333333333333333,\"#9c179e\"],[0.4444444444444444,\"#bd3786\"],[0.5555555555555556,\"#d8576b\"],[0.6666666666666666,\"#ed7953\"],[0.7777777777777778,\"#fb9f3a\"],[0.8888888888888888,\"#fdca26\"],[1.0,\"#f0f921\"]],\"type\":\"histogram2d\"}],\"histogram\":[{\"marker\":{\"pattern\":{\"fillmode\":\"overlay\",\"size\":10,\"solidity\":0.2}},\"type\":\"histogram\"}],\"mesh3d\":[{\"colorbar\":{\"outlinewidth\":0,\"ticks\":\"\"},\"type\":\"mesh3d\"}],\"parcoords\":[{\"line\":{\"colorbar\":{\"outlinewidth\":0,\"ticks\":\"\"}},\"type\":\"parcoords\"}],\"pie\":[{\"automargin\":true,\"type\":\"pie\"}],\"scatter3d\":[{\"line\":{\"colorbar\":{\"outlinewidth\":0,\"ticks\":\"\"}},\"marker\":{\"colorbar\":{\"outlinewidth\":0,\"ticks\":\"\"}},\"type\":\"scatter3d\"}],\"scattercarpet\":[{\"marker\":{\"colorbar\":{\"outlinewidth\":0,\"ticks\":\"\"}},\"type\":\"scattercarpet\"}],\"scattergeo\":[{\"marker\":{\"colorbar\":{\"outlinewidth\":0,\"ticks\":\"\"}},\"type\":\"scattergeo\"}],\"scattergl\":[{\"marker\":{\"colorbar\":{\"outlinewidth\":0,\"ticks\":\"\"}},\"type\":\"scattergl\"}],\"scattermapbox\":[{\"marker\":{\"colorbar\":{\"outlinewidth\":0,\"ticks\":\"\"}},\"type\":\"scattermapbox\"}],\"scatterpolargl\":[{\"marker\":{\"colorbar\":{\"outlinewidth\":0,\"ticks\":\"\"}},\"type\":\"scatterpolargl\"}],\"scatterpolar\":[{\"marker\":{\"colorbar\":{\"outlinewidth\":0,\"ticks\":\"\"}},\"type\":\"scatterpolar\"}],\"scatter\":[{\"fillpattern\":{\"fillmode\":\"overlay\",\"size\":10,\"solidity\":0.2},\"type\":\"scatter\"}],\"scatterternary\":[{\"marker\":{\"colorbar\":{\"outlinewidth\":0,\"ticks\":\"\"}},\"type\":\"scatterternary\"}],\"surface\":[{\"colorbar\":{\"outlinewidth\":0,\"ticks\":\"\"},\"colorscale\":[[0.0,\"#0d0887\"],[0.1111111111111111,\"#46039f\"],[0.2222222222222222,\"#7201a8\"],[0.3333333333333333,\"#9c179e\"],[0.4444444444444444,\"#bd3786\"],[0.5555555555555556,\"#d8576b\"],[0.6666666666666666,\"#ed7953\"],[0.7777777777777778,\"#fb9f3a\"],[0.8888888888888888,\"#fdca26\"],[1.0,\"#f0f921\"]],\"type\":\"surface\"}],\"table\":[{\"cells\":{\"fill\":{\"color\":\"#EBF0F8\"},\"line\":{\"color\":\"white\"}},\"header\":{\"fill\":{\"color\":\"#C8D4E3\"},\"line\":{\"color\":\"white\"}},\"type\":\"table\"}]},\"layout\":{\"annotationdefaults\":{\"arrowcolor\":\"#2a3f5f\",\"arrowhead\":0,\"arrowwidth\":1},\"autotypenumbers\":\"strict\",\"coloraxis\":{\"colorbar\":{\"outlinewidth\":0,\"ticks\":\"\"}},\"colorscale\":{\"diverging\":[[0,\"#8e0152\"],[0.1,\"#c51b7d\"],[0.2,\"#de77ae\"],[0.3,\"#f1b6da\"],[0.4,\"#fde0ef\"],[0.5,\"#f7f7f7\"],[0.6,\"#e6f5d0\"],[0.7,\"#b8e186\"],[0.8,\"#7fbc41\"],[0.9,\"#4d9221\"],[1,\"#276419\"]],\"sequential\":[[0.0,\"#0d0887\"],[0.1111111111111111,\"#46039f\"],[0.2222222222222222,\"#7201a8\"],[0.3333333333333333,\"#9c179e\"],[0.4444444444444444,\"#bd3786\"],[0.5555555555555556,\"#d8576b\"],[0.6666666666666666,\"#ed7953\"],[0.7777777777777778,\"#fb9f3a\"],[0.8888888888888888,\"#fdca26\"],[1.0,\"#f0f921\"]],\"sequentialminus\":[[0.0,\"#0d0887\"],[0.1111111111111111,\"#46039f\"],[0.2222222222222222,\"#7201a8\"],[0.3333333333333333,\"#9c179e\"],[0.4444444444444444,\"#bd3786\"],[0.5555555555555556,\"#d8576b\"],[0.6666666666666666,\"#ed7953\"],[0.7777777777777778,\"#fb9f3a\"],[0.8888888888888888,\"#fdca26\"],[1.0,\"#f0f921\"]]},\"colorway\":[\"#636efa\",\"#EF553B\",\"#00cc96\",\"#ab63fa\",\"#FFA15A\",\"#19d3f3\",\"#FF6692\",\"#B6E880\",\"#FF97FF\",\"#FECB52\"],\"font\":{\"color\":\"#2a3f5f\"},\"geo\":{\"bgcolor\":\"white\",\"lakecolor\":\"white\",\"landcolor\":\"white\",\"showlakes\":true,\"showland\":true,\"subunitcolor\":\"#C8D4E3\"},\"hoverlabel\":{\"align\":\"left\"},\"hovermode\":\"closest\",\"mapbox\":{\"style\":\"light\"},\"paper_bgcolor\":\"white\",\"plot_bgcolor\":\"white\",\"polar\":{\"angularaxis\":{\"gridcolor\":\"#EBF0F8\",\"linecolor\":\"#EBF0F8\",\"ticks\":\"\"},\"bgcolor\":\"white\",\"radialaxis\":{\"gridcolor\":\"#EBF0F8\",\"linecolor\":\"#EBF0F8\",\"ticks\":\"\"}},\"scene\":{\"xaxis\":{\"backgroundcolor\":\"white\",\"gridcolor\":\"#DFE8F3\",\"gridwidth\":2,\"linecolor\":\"#EBF0F8\",\"showbackground\":true,\"ticks\":\"\",\"zerolinecolor\":\"#EBF0F8\"},\"yaxis\":{\"backgroundcolor\":\"white\",\"gridcolor\":\"#DFE8F3\",\"gridwidth\":2,\"linecolor\":\"#EBF0F8\",\"showbackground\":true,\"ticks\":\"\",\"zerolinecolor\":\"#EBF0F8\"},\"zaxis\":{\"backgroundcolor\":\"white\",\"gridcolor\":\"#DFE8F3\",\"gridwidth\":2,\"linecolor\":\"#EBF0F8\",\"showbackground\":true,\"ticks\":\"\",\"zerolinecolor\":\"#EBF0F8\"}},\"shapedefaults\":{\"line\":{\"color\":\"#2a3f5f\"}},\"ternary\":{\"aaxis\":{\"gridcolor\":\"#DFE8F3\",\"linecolor\":\"#A2B1C6\",\"ticks\":\"\"},\"baxis\":{\"gridcolor\":\"#DFE8F3\",\"linecolor\":\"#A2B1C6\",\"ticks\":\"\"},\"bgcolor\":\"white\",\"caxis\":{\"gridcolor\":\"#DFE8F3\",\"linecolor\":\"#A2B1C6\",\"ticks\":\"\"}},\"title\":{\"x\":0.05},\"xaxis\":{\"automargin\":true,\"gridcolor\":\"#EBF0F8\",\"linecolor\":\"#EBF0F8\",\"ticks\":\"\",\"title\":{\"standoff\":15},\"zerolinecolor\":\"#EBF0F8\",\"zerolinewidth\":2},\"yaxis\":{\"automargin\":true,\"gridcolor\":\"#EBF0F8\",\"linecolor\":\"#EBF0F8\",\"ticks\":\"\",\"title\":{\"standoff\":15},\"zerolinecolor\":\"#EBF0F8\",\"zerolinewidth\":2}}},\"title\":{\"text\":\"Skill Proficiency Levels\"},\"xaxis\":{\"title\":{\"text\":\"Skills\"}},\"yaxis\":{\"title\":{\"text\":\"Proficiency (%)\"}}},                        {\"responsive\": true}                    ).then(function(){\n",
       "                            \n",
       "var gd = document.getElementById('0f5194e7-bf6d-4292-ab33-d4af4acf638c');\n",
       "var x = new MutationObserver(function (mutations, observer) {{\n",
       "        var display = window.getComputedStyle(gd).display;\n",
       "        if (!display || display === 'none') {{\n",
       "            console.log([gd, 'removed!']);\n",
       "            Plotly.purge(gd);\n",
       "            observer.disconnect();\n",
       "        }}\n",
       "}});\n",
       "\n",
       "// Listen for the removal of the full notebook cells\n",
       "var notebookContainer = gd.closest('#notebook-container');\n",
       "if (notebookContainer) {{\n",
       "    x.observe(notebookContainer, {childList: true});\n",
       "}}\n",
       "\n",
       "// Listen for the clearing of the current output cell\n",
       "var outputEl = gd.closest('.output');\n",
       "if (outputEl) {{\n",
       "    x.observe(outputEl, {childList: true});\n",
       "}}\n",
       "\n",
       "                        })                };                            </script>        </div>\n",
       "</body>\n",
       "</html>"
      ]
     },
     "metadata": {},
     "output_type": "display_data"
    }
   ],
   "source": [
    "#5. Generate a bar plot using Plotly.\n",
    "import plotly.graph_objects as go\n",
    "\n",
    "categories = ['Python', 'SQL', 'Excel', 'Power BI']\n",
    "values = [85, 75, 90, 70]\n",
    "\n",
    "fig = go.Figure(data=[go.Bar(\n",
    "    x=categories,\n",
    "    y=values,\n",
    "    marker_color='indigo'\n",
    ")])\n",
    "fig.update_layout(\n",
    "    title='Skill Proficiency Levels',\n",
    "    xaxis_title='Skills',\n",
    "    yaxis_title='Proficiency (%)',\n",
    "    template='plotly_white'\n",
    ")\n",
    "\n",
    "fig.show()\n"
   ]
  },
  {
   "cell_type": "code",
   "execution_count": null,
   "metadata": {
    "colab": {
     "base_uri": "https://localhost:8080/"
    },
    "id": "Ct3Z8Nq-o59W",
    "outputId": "896c4785-9e7f-4b3a-ed06-170bdfe9efda"
   },
   "outputs": [
    {
     "name": "stdout",
     "output_type": "stream",
     "text": [
      "      Name  Score Result\n",
      "0    Alice     85   Pass\n",
      "1      Bob     42   Fail\n",
      "2  Charlie     77   Pass\n",
      "3    David     90   Pass\n"
     ]
    }
   ],
   "source": [
    "#6. Create a DataFrame and add a new column based on an existing column.\n",
    "import pandas as pd\n",
    "\n",
    "data = {\n",
    "    'Name': ['Alice', 'Bob', 'Charlie', 'David'],\n",
    "    'Score': [85, 42, 77, 90]\n",
    "}\n",
    "df = pd.DataFrame(data)\n",
    "\n",
    "df['Result'] = df['Score'].apply(lambda x: 'Pass' if x >= 50 else 'Fail')\n",
    "\n",
    "print(df)\n"
   ]
  },
  {
   "cell_type": "code",
   "execution_count": null,
   "metadata": {
    "colab": {
     "base_uri": "https://localhost:8080/"
    },
    "id": "KixtNKo_plez",
    "outputId": "6e7f1088-8fb0-465a-af4b-bb93c0c97c53"
   },
   "outputs": [
    {
     "name": "stdout",
     "output_type": "stream",
     "text": [
      "Array 1: [1 2 3 4]\n",
      "Array 2: [10 20 30 40]\n",
      "Element-wise Multiplication: [ 10  40  90 160]\n"
     ]
    }
   ],
   "source": [
    "#7. Write a program to perform element-wise multiplication of two NumPy arrays.\n",
    "import numpy as np\n",
    "\n",
    "array1 = np.array([1, 2, 3, 4])\n",
    "array2 = np.array([10, 20, 30, 40])\n",
    "\n",
    "result = array1 * array2\n",
    "\n",
    "print(\"Array 1:\", array1)\n",
    "print(\"Array 2:\", array2)\n",
    "print(\"Element-wise Multiplication:\", result)\n"
   ]
  },
  {
   "cell_type": "code",
   "execution_count": null,
   "metadata": {
    "colab": {
     "base_uri": "https://localhost:8080/",
     "height": 472
    },
    "id": "ShXDPkiYp6SG",
    "outputId": "631e60e3-4ffc-47d2-e781-27290a1ea89e"
   },
   "outputs": [
    {
     "data": {
      "image/png": "[encoded data removed]",
      "text/plain": [
       "<Figure size 640x480 with 1 Axes>"
      ]
     },
     "metadata": {},
     "output_type": "display_data"
    }
   ],
   "source": [
    "#8. Create a line plot with multiple lines using Matplotlib.\n",
    "import matplotlib.pyplot as plt\n",
    "\n",
    "\n",
    "x = [1, 2, 3, 4, 5]\n",
    "y1 = [10, 20, 25, 30, 35]\n",
    "y2 = [5, 15, 20, 25, 30]\n",
    "\n",
    "\n",
    "plt.plot(x, y1, label='Line 1', color='blue', marker='o')\n",
    "plt.plot(x, y2, label='Line 2', color='green', linestyle='--', marker='s')\n",
    "\n",
    "\n",
    "plt.title('Multiple Line Plot Example')\n",
    "plt.xlabel('X-axis')\n",
    "plt.ylabel('Y-axis')\n",
    "\n",
    "plt.legend()\n",
    "\n",
    "\n",
    "plt.grid(True)\n",
    "\n",
    "\n",
    "plt.show()\n"
   ]
  },
  {
   "cell_type": "code",
   "execution_count": null,
   "metadata": {
    "colab": {
     "base_uri": "https://localhost:8080/"
    },
    "id": "JchAZqAPts7q",
    "outputId": "f627e936-6af9-4146-ed46-c14850b03421"
   },
   "outputs": [
    {
     "name": "stdout",
     "output_type": "stream",
     "text": [
      "      Name  Marks\n",
      "0    Alice     88\n",
      "2  Charlie     72\n",
      "4      Eve     95\n"
     ]
    }
   ],
   "source": [
    "#9. Generate a Pandas DataFrame and filter rows where a column value is greater than a threshold.\n",
    "import pandas as pd\n",
    "\n",
    "data = {\n",
    "    'Name': ['Alice', 'Bob', 'Charlie', 'David', 'Eve'],\n",
    "    'Marks': [88, 45, 72, 39, 95]\n",
    "}\n",
    "df = pd.DataFrame(data)\n",
    "\n",
    "filtered_df = df[df['Marks'] > 50]\n",
    "\n",
    "print(filtered_df)\n"
   ]
  },
  {
   "cell_type": "code",
   "execution_count": null,
   "metadata": {
    "colab": {
     "base_uri": "https://localhost:8080/",
     "height": 472
    },
    "id": "VCfUJsCxuIQ-",
    "outputId": "3c3e0f6e-0d21-46b6-8b12-2de3a9c34e3b"
   },
   "outputs": [
    {
     "data": {
      "image/png": "[encoded data removed]",
      "text/plain": [
       "<Figure size 640x480 with 1 Axes>"
      ]
     },
     "metadata": {},
     "output_type": "display_data"
    }
   ],
   "source": [
    "#10. Create a histogram using Seaborn to visualize a distribution.\n",
    "import seaborn as sns\n",
    "import matplotlib.pyplot as plt\n",
    "\n",
    "tips = sns.load_dataset('tips')\n",
    "\n",
    "\n",
    "sns.histplot(data=tips, x='total_bill', bins=20, kde=True, color='skyblue')\n",
    "\n",
    "\n",
    "plt.title('Distribution of Total Bill')\n",
    "plt.xlabel('Total Bill')\n",
    "plt.ylabel('Frequency')\n",
    "plt.show()\n"
   ]
  },
  {
   "cell_type": "code",
   "execution_count": null,
   "metadata": {
    "colab": {
     "base_uri": "https://localhost:8080/"
    },
    "id": "C2WA6FHGumZ4",
    "outputId": "413fbe9b-b0bc-4dc7-99be-299073333694"
   },
   "outputs": [
    {
     "name": "stdout",
     "output_type": "stream",
     "text": [
      "Matrix A:\n",
      " [[1 2]\n",
      " [3 4]]\n",
      "Matrix B:\n",
      " [[5 6]\n",
      " [7 8]]\n",
      "Matrix Multiplication Result:\n",
      " [[19 22]\n",
      " [43 50]]\n"
     ]
    }
   ],
   "source": [
    "#11.Perform matrix multiplication using NumPy.\n",
    "import numpy as np\n",
    "\n",
    "A = np.array([[1, 2],\n",
    "              [3, 4]])\n",
    "\n",
    "B = np.array([[5, 6],\n",
    "              [7, 8]])\n",
    "\n",
    "result = np.dot(A, B)\n",
    "print(\"Matrix A:\\n\", A)\n",
    "print(\"Matrix B:\\n\", B)\n",
    "print(\"Matrix Multiplication Result:\\n\", result)\n"
   ]
  },
  {
   "cell_type": "code",
   "execution_count": null,
   "metadata": {
    "colab": {
     "base_uri": "https://localhost:8080/"
    },
    "id": "UeUvuY3q_kOF",
    "outputId": "c60d37a8-08f7-4794-fe71-f3805b6ca656"
   },
   "outputs": [
    {
     "name": "stdout",
     "output_type": "stream",
     "text": [
      "Error: The file 'your_file.csv' was not found. Please check the file path.\n"
     ]
    }
   ],
   "source": [
    "#12. Use Pandas to load a CSV file and display its first 5 rows.\n",
    "import pandas as pd\n",
    "try:\n",
    "    df = pd.read_csv('your_file.csv')\n",
    "\n",
    "    print(df.head())\n",
    "\n",
    "except FileNotFoundError:\n",
    "    print(\"Error: The file 'your_file.csv' was not found. Please check the file path.\")\n",
    "except Exception as e:\n",
    "    print(f\"An error occurred: {e}\")"
   ]
  },
  {
   "cell_type": "code",
   "execution_count": null,
   "metadata": {
    "colab": {
     "base_uri": "https://localhost:8080/",
     "height": 542
    },
    "id": "ZXp-N9EiIEMU",
    "outputId": "aa3291f4-d025-4d35-9eb3-7d5fbf9c4622"
   },
   "outputs": [
    {
     "data": {
      "text/html": [
       "<html>\n",
       "<head><meta charset=\"utf-8\" /></head>\n",
       "<body>\n",
       "    <div>            <script src=\"https://cdnjs.cloudflare.com/ajax/libs/mathjax/2.7.5/MathJax.js?config=TeX-AMS-MML_SVG\"></script><script type=\"text/javascript\">if (window.MathJax && window.MathJax.Hub && window.MathJax.Hub.Config) {window.MathJax.Hub.Config({SVG: {font: \"STIX-Web\"}});}</script>                <script type=\"text/javascript\">window.PlotlyConfig = {MathJaxConfig: 'local'};</script>\n",
       "        <script charset=\"utf-8\" src=\"https://cdn.plot.ly/plotly-2.35.2.min.js\"></script>                <div id=\"15fb13a4-16d4-4b1c-bca2-3ccd1ffe5da4\" class=\"plotly-graph-div\" style=\"height:525px; width:100%;\"></div>            <script type=\"text/javascript\">                                    window.PLOTLYENV=window.PLOTLYENV || {};                                    if (document.getElementById(\"15fb13a4-16d4-4b1c-bca2-3ccd1ffe5da4\")) {                    Plotly.newPlot(                        \"15fb13a4-16d4-4b1c-bca2-3ccd1ffe5da4\",                        [{\"marker\":{\"color\":[5,6,7,8,9],\"colorscale\":[[0.0,\"#440154\"],[0.1111111111111111,\"#482878\"],[0.2222222222222222,\"#3e4989\"],[0.3333333333333333,\"#31688e\"],[0.4444444444444444,\"#26828e\"],[0.5555555555555556,\"#1f9e89\"],[0.6666666666666666,\"#35b779\"],[0.7777777777777778,\"#6ece58\"],[0.8888888888888888,\"#b5de2b\"],[1.0,\"#fde725\"]],\"opacity\":0.8,\"size\":8},\"mode\":\"markers\",\"x\":[1,2,3,4,5],\"y\":[10,15,13,17,14],\"z\":[5,6,7,8,9],\"type\":\"scatter3d\"}],                        {\"template\":{\"data\":{\"histogram2dcontour\":[{\"type\":\"histogram2dcontour\",\"colorbar\":{\"outlinewidth\":0,\"ticks\":\"\"},\"colorscale\":[[0.0,\"#0d0887\"],[0.1111111111111111,\"#46039f\"],[0.2222222222222222,\"#7201a8\"],[0.3333333333333333,\"#9c179e\"],[0.4444444444444444,\"#bd3786\"],[0.5555555555555556,\"#d8576b\"],[0.6666666666666666,\"#ed7953\"],[0.7777777777777778,\"#fb9f3a\"],[0.8888888888888888,\"#fdca26\"],[1.0,\"#f0f921\"]]}],\"choropleth\":[{\"type\":\"choropleth\",\"colorbar\":{\"outlinewidth\":0,\"ticks\":\"\"}}],\"histogram2d\":[{\"type\":\"histogram2d\",\"colorbar\":{\"outlinewidth\":0,\"ticks\":\"\"},\"colorscale\":[[0.0,\"#0d0887\"],[0.1111111111111111,\"#46039f\"],[0.2222222222222222,\"#7201a8\"],[0.3333333333333333,\"#9c179e\"],[0.4444444444444444,\"#bd3786\"],[0.5555555555555556,\"#d8576b\"],[0.6666666666666666,\"#ed7953\"],[0.7777777777777778,\"#fb9f3a\"],[0.8888888888888888,\"#fdca26\"],[1.0,\"#f0f921\"]]}],\"heatmap\":[{\"type\":\"heatmap\",\"colorbar\":{\"outlinewidth\":0,\"ticks\":\"\"},\"colorscale\":[[0.0,\"#0d0887\"],[0.1111111111111111,\"#46039f\"],[0.2222222222222222,\"#7201a8\"],[0.3333333333333333,\"#9c179e\"],[0.4444444444444444,\"#bd3786\"],[0.5555555555555556,\"#d8576b\"],[0.6666666666666666,\"#ed7953\"],[0.7777777777777778,\"#fb9f3a\"],[0.8888888888888888,\"#fdca26\"],[1.0,\"#f0f921\"]]}],\"heatmapgl\":[{\"type\":\"heatmapgl\",\"colorbar\":{\"outlinewidth\":0,\"ticks\":\"\"},\"colorscale\":[[0.0,\"#0d0887\"],[0.1111111111111111,\"#46039f\"],[0.2222222222222222,\"#7201a8\"],[0.3333333333333333,\"#9c179e\"],[0.4444444444444444,\"#bd3786\"],[0.5555555555555556,\"#d8576b\"],[0.6666666666666666,\"#ed7953\"],[0.7777777777777778,\"#fb9f3a\"],[0.8888888888888888,\"#fdca26\"],[1.0,\"#f0f921\"]]}],\"contourcarpet\":[{\"type\":\"contourcarpet\",\"colorbar\":{\"outlinewidth\":0,\"ticks\":\"\"}}],\"contour\":[{\"type\":\"contour\",\"colorbar\":{\"outlinewidth\":0,\"ticks\":\"\"},\"colorscale\":[[0.0,\"#0d0887\"],[0.1111111111111111,\"#46039f\"],[0.2222222222222222,\"#7201a8\"],[0.3333333333333333,\"#9c179e\"],[0.4444444444444444,\"#bd3786\"],[0.5555555555555556,\"#d8576b\"],[0.6666666666666666,\"#ed7953\"],[0.7777777777777778,\"#fb9f3a\"],[0.8888888888888888,\"#fdca26\"],[1.0,\"#f0f921\"]]}],\"surface\":[{\"type\":\"surface\",\"colorbar\":{\"outlinewidth\":0,\"ticks\":\"\"},\"colorscale\":[[0.0,\"#0d0887\"],[0.1111111111111111,\"#46039f\"],[0.2222222222222222,\"#7201a8\"],[0.3333333333333333,\"#9c179e\"],[0.4444444444444444,\"#bd3786\"],[0.5555555555555556,\"#d8576b\"],[0.6666666666666666,\"#ed7953\"],[0.7777777777777778,\"#fb9f3a\"],[0.8888888888888888,\"#fdca26\"],[1.0,\"#f0f921\"]]}],\"mesh3d\":[{\"type\":\"mesh3d\",\"colorbar\":{\"outlinewidth\":0,\"ticks\":\"\"}}],\"scatter\":[{\"fillpattern\":{\"fillmode\":\"overlay\",\"size\":10,\"solidity\":0.2},\"type\":\"scatter\"}],\"parcoords\":[{\"type\":\"parcoords\",\"line\":{\"colorbar\":{\"outlinewidth\":0,\"ticks\":\"\"}}}],\"scatterpolargl\":[{\"type\":\"scatterpolargl\",\"marker\":{\"colorbar\":{\"outlinewidth\":0,\"ticks\":\"\"}}}],\"bar\":[{\"error_x\":{\"color\":\"#2a3f5f\"},\"error_y\":{\"color\":\"#2a3f5f\"},\"marker\":{\"line\":{\"color\":\"#E5ECF6\",\"width\":0.5},\"pattern\":{\"fillmode\":\"overlay\",\"size\":10,\"solidity\":0.2}},\"type\":\"bar\"}],\"scattergeo\":[{\"type\":\"scattergeo\",\"marker\":{\"colorbar\":{\"outlinewidth\":0,\"ticks\":\"\"}}}],\"scatterpolar\":[{\"type\":\"scatterpolar\",\"marker\":{\"colorbar\":{\"outlinewidth\":0,\"ticks\":\"\"}}}],\"histogram\":[{\"marker\":{\"pattern\":{\"fillmode\":\"overlay\",\"size\":10,\"solidity\":0.2}},\"type\":\"histogram\"}],\"scattergl\":[{\"type\":\"scattergl\",\"marker\":{\"colorbar\":{\"outlinewidth\":0,\"ticks\":\"\"}}}],\"scatter3d\":[{\"type\":\"scatter3d\",\"line\":{\"colorbar\":{\"outlinewidth\":0,\"ticks\":\"\"}},\"marker\":{\"colorbar\":{\"outlinewidth\":0,\"ticks\":\"\"}}}],\"scattermapbox\":[{\"type\":\"scattermapbox\",\"marker\":{\"colorbar\":{\"outlinewidth\":0,\"ticks\":\"\"}}}],\"scatterternary\":[{\"type\":\"scatterternary\",\"marker\":{\"colorbar\":{\"outlinewidth\":0,\"ticks\":\"\"}}}],\"scattercarpet\":[{\"type\":\"scattercarpet\",\"marker\":{\"colorbar\":{\"outlinewidth\":0,\"ticks\":\"\"}}}],\"carpet\":[{\"aaxis\":{\"endlinecolor\":\"#2a3f5f\",\"gridcolor\":\"white\",\"linecolor\":\"white\",\"minorgridcolor\":\"white\",\"startlinecolor\":\"#2a3f5f\"},\"baxis\":{\"endlinecolor\":\"#2a3f5f\",\"gridcolor\":\"white\",\"linecolor\":\"white\",\"minorgridcolor\":\"white\",\"startlinecolor\":\"#2a3f5f\"},\"type\":\"carpet\"}],\"table\":[{\"cells\":{\"fill\":{\"color\":\"#EBF0F8\"},\"line\":{\"color\":\"white\"}},\"header\":{\"fill\":{\"color\":\"#C8D4E3\"},\"line\":{\"color\":\"white\"}},\"type\":\"table\"}],\"barpolar\":[{\"marker\":{\"line\":{\"color\":\"#E5ECF6\",\"width\":0.5},\"pattern\":{\"fillmode\":\"overlay\",\"size\":10,\"solidity\":0.2}},\"type\":\"barpolar\"}],\"pie\":[{\"automargin\":true,\"type\":\"pie\"}]},\"layout\":{\"autotypenumbers\":\"strict\",\"colorway\":[\"#636efa\",\"#EF553B\",\"#00cc96\",\"#ab63fa\",\"#FFA15A\",\"#19d3f3\",\"#FF6692\",\"#B6E880\",\"#FF97FF\",\"#FECB52\"],\"font\":{\"color\":\"#2a3f5f\"},\"hovermode\":\"closest\",\"hoverlabel\":{\"align\":\"left\"},\"paper_bgcolor\":\"white\",\"plot_bgcolor\":\"#E5ECF6\",\"polar\":{\"bgcolor\":\"#E5ECF6\",\"angularaxis\":{\"gridcolor\":\"white\",\"linecolor\":\"white\",\"ticks\":\"\"},\"radialaxis\":{\"gridcolor\":\"white\",\"linecolor\":\"white\",\"ticks\":\"\"}},\"ternary\":{\"bgcolor\":\"#E5ECF6\",\"aaxis\":{\"gridcolor\":\"white\",\"linecolor\":\"white\",\"ticks\":\"\"},\"baxis\":{\"gridcolor\":\"white\",\"linecolor\":\"white\",\"ticks\":\"\"},\"caxis\":{\"gridcolor\":\"white\",\"linecolor\":\"white\",\"ticks\":\"\"}},\"coloraxis\":{\"colorbar\":{\"outlinewidth\":0,\"ticks\":\"\"}},\"colorscale\":{\"sequential\":[[0.0,\"#0d0887\"],[0.1111111111111111,\"#46039f\"],[0.2222222222222222,\"#7201a8\"],[0.3333333333333333,\"#9c179e\"],[0.4444444444444444,\"#bd3786\"],[0.5555555555555556,\"#d8576b\"],[0.6666666666666666,\"#ed7953\"],[0.7777777777777778,\"#fb9f3a\"],[0.8888888888888888,\"#fdca26\"],[1.0,\"#f0f921\"]],\"sequentialminus\":[[0.0,\"#0d0887\"],[0.1111111111111111,\"#46039f\"],[0.2222222222222222,\"#7201a8\"],[0.3333333333333333,\"#9c179e\"],[0.4444444444444444,\"#bd3786\"],[0.5555555555555556,\"#d8576b\"],[0.6666666666666666,\"#ed7953\"],[0.7777777777777778,\"#fb9f3a\"],[0.8888888888888888,\"#fdca26\"],[1.0,\"#f0f921\"]],\"diverging\":[[0,\"#8e0152\"],[0.1,\"#c51b7d\"],[0.2,\"#de77ae\"],[0.3,\"#f1b6da\"],[0.4,\"#fde0ef\"],[0.5,\"#f7f7f7\"],[0.6,\"#e6f5d0\"],[0.7,\"#b8e186\"],[0.8,\"#7fbc41\"],[0.9,\"#4d9221\"],[1,\"#276419\"]]},\"xaxis\":{\"gridcolor\":\"white\",\"linecolor\":\"white\",\"ticks\":\"\",\"title\":{\"standoff\":15},\"zerolinecolor\":\"white\",\"automargin\":true,\"zerolinewidth\":2},\"yaxis\":{\"gridcolor\":\"white\",\"linecolor\":\"white\",\"ticks\":\"\",\"title\":{\"standoff\":15},\"zerolinecolor\":\"white\",\"automargin\":true,\"zerolinewidth\":2},\"scene\":{\"xaxis\":{\"backgroundcolor\":\"#E5ECF6\",\"gridcolor\":\"white\",\"linecolor\":\"white\",\"showbackground\":true,\"ticks\":\"\",\"zerolinecolor\":\"white\",\"gridwidth\":2},\"yaxis\":{\"backgroundcolor\":\"#E5ECF6\",\"gridcolor\":\"white\",\"linecolor\":\"white\",\"showbackground\":true,\"ticks\":\"\",\"zerolinecolor\":\"white\",\"gridwidth\":2},\"zaxis\":{\"backgroundcolor\":\"#E5ECF6\",\"gridcolor\":\"white\",\"linecolor\":\"white\",\"showbackground\":true,\"ticks\":\"\",\"zerolinecolor\":\"white\",\"gridwidth\":2}},\"shapedefaults\":{\"line\":{\"color\":\"#2a3f5f\"}},\"annotationdefaults\":{\"arrowcolor\":\"#2a3f5f\",\"arrowhead\":0,\"arrowwidth\":1},\"geo\":{\"bgcolor\":\"white\",\"landcolor\":\"#E5ECF6\",\"subunitcolor\":\"white\",\"showland\":true,\"showlakes\":true,\"lakecolor\":\"white\"},\"title\":{\"x\":0.05},\"mapbox\":{\"style\":\"light\"}}},\"margin\":{\"l\":0,\"r\":0,\"b\":0,\"t\":30},\"title\":{\"text\":\"3D Scatter Plot Example\"},\"scene\":{\"xaxis\":{\"title\":{\"text\":\"X Axis\"}},\"yaxis\":{\"title\":{\"text\":\"Y Axis\"}},\"zaxis\":{\"title\":{\"text\":\"Z Axis\"}}}},                        {\"responsive\": true}                    ).then(function(){\n",
       "                            \n",
       "var gd = document.getElementById('15fb13a4-16d4-4b1c-bca2-3ccd1ffe5da4');\n",
       "var x = new MutationObserver(function (mutations, observer) {{\n",
       "        var display = window.getComputedStyle(gd).display;\n",
       "        if (!display || display === 'none') {{\n",
       "            console.log([gd, 'removed!']);\n",
       "            Plotly.purge(gd);\n",
       "            observer.disconnect();\n",
       "        }}\n",
       "}});\n",
       "\n",
       "// Listen for the removal of the full notebook cells\n",
       "var notebookContainer = gd.closest('#notebook-container');\n",
       "if (notebookContainer) {{\n",
       "    x.observe(notebookContainer, {childList: true});\n",
       "}}\n",
       "\n",
       "// Listen for the clearing of the current output cell\n",
       "var outputEl = gd.closest('.output');\n",
       "if (outputEl) {{\n",
       "    x.observe(outputEl, {childList: true});\n",
       "}}\n",
       "\n",
       "                        })                };                            </script>        </div>\n",
       "</body>\n",
       "</html>"
      ]
     },
     "metadata": {},
     "output_type": "display_data"
    }
   ],
   "source": [
    "#13. Create a 3D scatter plot using Plotly.\n",
    "import plotly.graph_objects as go\n",
    "\n",
    "x = [1, 2, 3, 4, 5]\n",
    "y = [10, 15, 13, 17, 14]\n",
    "z = [5, 6, 7, 8, 9]\n",
    "\n",
    "fig = go.Figure(data=[go.Scatter3d(\n",
    "    x=x,\n",
    "    y=y,\n",
    "    z=z,\n",
    "    mode='markers',\n",
    "    marker=dict(\n",
    "        size=8,\n",
    "        color=z,\n",
    "        colorscale='Viridis',\n",
    "        opacity=0.8\n",
    "    )\n",
    ")])\n",
    "\n",
    "fig.update_layout(\n",
    "    title='3D Scatter Plot Example',\n",
    "    scene=dict(\n",
    "        xaxis_title='X Axis',\n",
    "        yaxis_title='Y Axis',\n",
    "        zaxis_title='Z Axis'\n",
    "    ),\n",
    "    margin=dict(l=0, r=0, b=0, t=30)\n",
    ")\n",
    "\n",
    "fig.show()\n"
   ]
  }
 ],
 "metadata": {
  "colab": {
   "provenance": []
  },
  "kernelspec": {
   "display_name": "Python 3 (ipykernel)",
   "language": "python",
   "name": "python3"
  },
  "language_info": {
   "codemirror_mode": {
    "name": "ipython",
    "version": 3
   },
   "file_extension": ".py",
   "mimetype": "text/x-python",
   "name": "python",
   "nbconvert_exporter": "python",
   "pygments_lexer": "ipython3",
   "version": "3.13.2"
  }
 },
 "nbformat": 4,
 "nbformat_minor": 4
}
