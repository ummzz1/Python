{
  "nbformat": 4,
  "nbformat_minor": 0,
  "metadata": {
    "colab": {
      "provenance": []
    },
    "kernelspec": {
      "name": "python3",
      "display_name": "Python 3"
    },
    "language_info": {
      "name": "python"
    }
  },
  "cells": [
    {
      "cell_type": "markdown",
      "source": [
        "**1. What is the difference between a function and a method in Python?**\n",
        "\n",
        " In Python, the main difference between a function and a method is:\n",
        "\n",
        "- A function is a block of code that is defined independently and can be called by its name.\n",
        "\n",
        " A method is a function that is associated with an object and is called on that object. It’s defined inside a class and usually acts on data that belongs to the object.\n",
        "\n",
        "🔹 Example of a Function\n",
        "\n",
        "\n",
        "```\n",
        "def greet(name):\n",
        "    return f\"Hello, {name}!\"\n",
        "\n",
        "print(greet(\"Alice\"))  # Output: Hello, Alice!\n",
        "\n",
        "```\n",
        "\n",
        "🔹 Example of a Method:\n",
        "\n",
        "\n",
        "```\n",
        "class Person:\n",
        "    def __init__(self, name):\n",
        "        self.name = name\n",
        "\n",
        "    def greet(self):  # This is a method\n",
        "        return f\"Hello, {self.name}!\"\n",
        "\n",
        "p = Person(\"Alice\")\n",
        "print(p.greet())  # Output: Hello, Alice!\n",
        "\n",
        "```\n",
        "Here, greet is a method of the Person class. It works on the instance p and uses its data (self.name).\n"
      ],
      "metadata": {
        "id": "iUNFcDaF7kAB"
      }
    },
    {
      "cell_type": "markdown",
      "source": [
        "**2.Explain the concept of function arguments and parameters in Python.**\n",
        "\n",
        "- In Python, function arguments and parameters are important concepts related to how you pass data to functions.\n",
        "\n",
        "🔹 Parameters:\n",
        "\n",
        "- These are variables listed inside the parentheses when you define a function.\n",
        "\n",
        "- They act as placeholders for the values that will be passed in.\n",
        "\n",
        "🔹 Arguments:\n",
        "\n",
        "- These are the actual values you pass to a function when you call it\n",
        "\n",
        "\n",
        "```\n",
        "# Function definition with parameters 'name' and 'age'\n",
        "def greet(name, age):\n",
        "    print(f\"Hello {name}, you are {age} years old!\")\n",
        "\n",
        "# Function call with arguments 'Alice' and 25\n",
        "greet(\"Alice\", 25)\n",
        "\n",
        "```\n",
        "🧠 Explanation:\n",
        "\n",
        "- name and age are parameters of the function greet.\n",
        "\n",
        "- \"Alice\" and 25 are arguments passed to the function when it's called.\n",
        "\n",
        "- When the function runs, name becomes \"Alice\" and age becomes 25.\n",
        "\n",
        "\n"
      ],
      "metadata": {
        "id": "e0ZCe32uoHi5"
      }
    },
    {
      "cell_type": "markdown",
      "source": [
        "**3. What are the different ways to define and call a function in Python**?\n",
        "\n",
        "- In Python, there are several ways to define and call functions. Below are the most common ones with examples:\n",
        "\n",
        "1. Standard Function Definition:\n",
        "\n",
        "- Using the def keyword\n",
        "\n",
        "\n",
        "```\n",
        "def greet(name):\n",
        "    return f\"Hello, {name}!\"\n",
        "\n",
        "# Calling the function\n",
        "print(greet(\"Alice\"))\n",
        "`\n",
        "```\n",
        "2. Function with Default Parameters:\n",
        "\n",
        "\n",
        "```\n",
        "def greet(name=\"Guest\"):\n",
        "    return f\"Hello, {name}!\"\n",
        "\n",
        "# Calling with and without argument\n",
        "print(greet(\"Bob\"))\n",
        "print(greet())\n",
        "\n",
        "```\n",
        "3. Function with Variable Number of Arguments:\n",
        "\n",
        "Using *args and **kwargs.\n",
        "\n",
        "\n",
        "```\n",
        "def add_numbers(*args):\n",
        "    return sum(args)\n",
        "\n",
        "print(add_numbers(1, 2, 3, 4))  # Output: 10\n",
        "\n",
        "```\n",
        "\n",
        "\n",
        "```\n",
        "def print_info(**kwargs):\n",
        "    for key, value in kwargs.items():\n",
        "        print(f\"{key}: {value}\")\n",
        "\n",
        "print_info(name=\"Alice\", age=30)\n",
        "\n",
        "```\n",
        "4. Lambda (Anonymous Function):\n",
        "\n",
        "\n",
        "```\n",
        "square = lambda x: x * x\n",
        "\n",
        "# Calling lambda function\n",
        "print(square(5))  # Output: 25\n",
        "\n",
        "```\n",
        "5. Calling a Function Within Another function:\n",
        "\n",
        "\n",
        "```\n",
        "def outer():\n",
        "    def inner():\n",
        "        return \"Inner function called\"\n",
        "    return inner()\n",
        "\n",
        "print(outer())\n",
        "\n",
        "```\n",
        "6. Using functools.partial to Create Partial Functions:\n",
        "\n",
        "\n",
        "```\n",
        "\n",
        "from functools import partial\n",
        "\n",
        "def multiply(x, y):\n",
        "    return x * y\n",
        "\n",
        "double = partial(multiply, 2)\n",
        "print(double(5))  # Output: 10\n",
        "\n",
        "```\n",
        "\n",
        "\n",
        "\n",
        "\n",
        "\n",
        "\n",
        "\n",
        "\n",
        "\n",
        "\n",
        "\n",
        "\n",
        "\n"
      ],
      "metadata": {
        "id": "SUzpSMywoRqM"
      }
    },
    {
      "cell_type": "markdown",
      "source": [
        "**4. What is the purpose of the `return` statement in a Python function?**\n",
        "\n",
        "- The return statement in a Python function is used to send a result back to the caller of the function. When a function reaches a return statement, it ends and returns the value specified.\n",
        "\n",
        "🔹 Purpose of return:\n",
        "\n",
        "- To output a value from a function.\n",
        "\n",
        "- To exit the function early if needed.\n",
        "\n",
        "- Allows functions to be used in expressions or assigned to variables.\n"
      ],
      "metadata": {
        "id": "FKCUAtmN89EF"
      }
    },
    {
      "cell_type": "code",
      "source": [
        "def add(a, b):\n",
        "    result = a + b\n",
        "    return result\n",
        "sum_result = add(5, 3)\n",
        "print(sum_result)\n"
      ],
      "metadata": {
        "colab": {
          "base_uri": "https://localhost:8080/"
        },
        "id": "-WWUUeN8ob1-",
        "outputId": "580352c4-a09d-403a-e03e-f9b654bdfb92"
      },
      "execution_count": null,
      "outputs": [
        {
          "output_type": "stream",
          "name": "stdout",
          "text": [
            "8\n"
          ]
        }
      ]
    },
    {
      "cell_type": "markdown",
      "source": [
        "**5. What are iterators in Python and how do they differ from iterables?**\n",
        "\n",
        "**🔁 Iterables vs Iterators in Python:**\n",
        "\n",
        "**✅ Iterable-**\n",
        "\n",
        "- An iterable is any Python object capable of returning its members one at a time. It has a method __iter__() which returns an **iterator**.\n",
        "\n",
        "Examples of iterables:\n",
        "\n",
        "- Lists ([1, 2, 3])\n",
        "\n",
        "- Tuples ((1, 2, 3))\n",
        "\n",
        "- Strings (\"hello\")\n",
        "\n",
        "- Dictionaries, sets, etc.\n",
        "\n",
        "You can loop over an iterable using a for loop.\n",
        "\n",
        "**🔄 Iterator-**\n",
        "\n",
        "- An iterator is an object that remembers the state as you traverse through it. It implements two methods:\n",
        "\n",
        "  - __iter__() → returns the iterator object itself.\n",
        "\n",
        "  - __next__() → returns the next item and raises StopIteration when there are no more items.\n",
        "\n",
        "**💡 Main Difference:**\n",
        "\n",
        "  - Iterable:Can be looped over (e.g. list).\n",
        "\n",
        "  - Iterator: Actually does the looping, one element at a time using next()\n",
        "\n",
        "\n",
        "**🧪 Example: **\n",
        "\n",
        "\n",
        "```\n",
        "# Iterable\n",
        "my_list = [10, 20, 30]  # This is an iterable\n",
        "\n",
        "# Get an iterator from the iterable\n",
        "my_iterator = iter(my_list)  # Now we have an iterator\n",
        "\n",
        "# Using the iterator\n",
        "print(next(my_iterator))  # Output: 10\n",
        "print(next(my_iterator))  # Output: 20\n",
        "print(next(my_iterator))  # Output: 30\n",
        "# print(next(my_iterator))  # This would raise StopIteration\n",
        "\n",
        "```\n",
        "\n",
        "\n"
      ],
      "metadata": {
        "id": "8K36vKFjoYvg"
      }
    },
    {
      "cell_type": "markdown",
      "source": [
        "**6. Explain the concept of generators in Python and how they are defined.**\n",
        "\n",
        "- Generators in Python\n",
        "\n",
        "  - Generators are a special type of iterator that allow you to iterate over data lazily, meaning they produce items one at a time only when requested, instead of generating all the items at once and storing them in memory.\n",
        "\n",
        "  - They are useful for large datasets, infinite sequences, or situations where memory efficiency is important.\n",
        "\n",
        "- How are Generators Defined?\n",
        "\n",
        "*Generators are defined using functions and the yield keyword.\n",
        "\n",
        "- Instead of return, you use yield to return a value from the function.\n",
        "\n",
        "- When the function is called, it returns a generator object.\n",
        "\n",
        "- You can iterate over this object using a loop, or the next() function.\n"
      ],
      "metadata": {
        "id": "4fp-s64YoYsI"
      }
    },
    {
      "cell_type": "code",
      "source": [
        "def count_up_to(max):\n",
        "    count = 1\n",
        "    while count <= max:\n",
        "        yield count\n",
        "        count += 1\n",
        "\n",
        "# Create generator\n",
        "counter = count_up_to(5)\n",
        "\n",
        "# Iterate through the generator\n",
        "for num in counter:\n",
        "    print(num)\n"
      ],
      "metadata": {
        "colab": {
          "base_uri": "https://localhost:8080/"
        },
        "id": "9TcWLobBolgS",
        "outputId": "53101767-b6ea-4b7d-cfa1-e4af6ae0c510"
      },
      "execution_count": null,
      "outputs": [
        {
          "output_type": "stream",
          "name": "stdout",
          "text": [
            "1\n",
            "2\n",
            "3\n",
            "4\n",
            "5\n"
          ]
        }
      ]
    },
    {
      "cell_type": "markdown",
      "source": [
        "**7. What are the advantages of using generators over regular functions?**\n",
        "\n",
        "- Generators offer several advantages over regular functions, especially when dealing with large datasets or streams of data. Here are the key benefits:\n",
        "\n",
        "Advantages of Generators:\n",
        "\n",
        " **a.)Memory Efficiency-**\n",
        "\n",
        " - Generators yield items one at a time, so they don’t store the entire result in memory. Great for working with large data or infinite sequences.\n",
        "\n",
        "**b.)Lazy Evaluation-**\n",
        "\n",
        "Values are generated only when requested, which can lead to performance improvements and reduced processing time.\n",
        "\n",
        "**c.)State Retention-**\n",
        "\n",
        "Generators automatically save their state between yield calls, so they resume exactly where they left off—without needing to manage state manually.\n",
        "\n",
        "**d.)Cleaner Code-**\n",
        "\n",
        "- Using yield can simplify the logic compared to maintaining manual loops, lists, or stateful iterators.\n",
        "\n",
        "**e.)Can Represent Infinite Sequences-**\n",
        "\n",
        "- Generators can represent sequences with no end (like Fibonacci numbers or live data streams), which regular functions can’t do as easily.\n",
        "\n",
        "Example:\n",
        "\n",
        "**Regular Function:**\n",
        "\n",
        "\n",
        "```\n",
        "def get_squares(limit):\n",
        "    result = []\n",
        "    for i in range(limit):\n",
        "        result.append(i * i)\n",
        "    return result\n",
        "\n",
        "print(get_squares(5))  # [0, 1, 4, 9, 16]\n",
        "\n",
        "```\n",
        "**Generator:**\n",
        "\n",
        "\n",
        "```\n",
        "def generate_squares(limit):\n",
        "    for i in range(limit):\n",
        "        yield i * i\n",
        "\n",
        "for square in generate_squares(5):\n",
        "    print(square)  # Outputs: 0, 1, 4, 9, 16 (one at a time)\n",
        "\n",
        "```\n",
        "\n",
        "\n"
      ],
      "metadata": {
        "id": "Gz6VzAkzoYo1"
      }
    },
    {
      "cell_type": "markdown",
      "source": [
        "**8. What is a lambda function in Python and when is it typically used?**\n",
        "\n",
        "- A lambda function in Python is a small, anonymous function defined using the lambda keyword. It's typically used when you need a simple function for a short period and don't want to formally define it using def.\n",
        "\n",
        "**When is it used?**\n",
        "\n",
        "*Lambda functions are commonly used:\n",
        "\n",
        "- As a quick function passed to map(), filter(), or sorted()\n",
        "\n",
        "- When writing short, throwaway functions\n",
        "\n",
        "- To simplify code where defining a full function with def would be overkill\n",
        "\n"
      ],
      "metadata": {
        "id": "gqqjnl3foYlH"
      }
    },
    {
      "cell_type": "code",
      "source": [
        "#Sort a list of tuples by the second item: example-\n",
        "data = [(1, 'apple'), (3, 'banana'), (2, 'cherry')]\n",
        "sorted_data = sorted(data, key=lambda x: x[1])\n",
        "print(sorted_data)\n"
      ],
      "metadata": {
        "colab": {
          "base_uri": "https://localhost:8080/"
        },
        "id": "s1K5h2drotk6",
        "outputId": "2a91cc49-8419-4886-8dc0-4eb179dc01b3"
      },
      "execution_count": null,
      "outputs": [
        {
          "output_type": "stream",
          "name": "stdout",
          "text": [
            "[(1, 'apple'), (3, 'banana'), (2, 'cherry')]\n"
          ]
        }
      ]
    },
    {
      "cell_type": "markdown",
      "source": [
        "**9. Explain the purpose and usage of the `map()` function in Python.**\n",
        "\n",
        "**Purpose and Usage of map() in Python**\n",
        "\n",
        "The map() function in Python is used to apply a function to every item in an iterable (like a list, tuple, etc.) and return a new map object (which is an iterator) with the results.\n",
        "\n",
        "**🔧 Syntax**\n",
        "\n",
        "\n",
        "```\n",
        "map(function, iterable)\n",
        "\n",
        "```\n",
        "- function – the function to apply to each element of the iterable.\n",
        "\n",
        "- iterable – the collection of items (like a list) you want to process\n",
        "\n",
        "**✅ Example:**\n",
        "\n"
      ],
      "metadata": {
        "id": "LYK_y9VNoYiC"
      }
    },
    {
      "cell_type": "code",
      "source": [
        "def square(x):\n",
        "    return x * x\n",
        "\n",
        "numbers = [1, 2, 3, 4, 5]\n",
        "squared_numbers = map(square, numbers)\n",
        "\n",
        "# Convert map object to list\n",
        "print(list(squared_numbers))\n"
      ],
      "metadata": {
        "colab": {
          "base_uri": "https://localhost:8080/"
        },
        "id": "EBCJbb43ozpa",
        "outputId": "d10e848b-69e4-486a-e225-63d80ad2c703"
      },
      "execution_count": null,
      "outputs": [
        {
          "output_type": "stream",
          "name": "stdout",
          "text": [
            "[1, 4, 9, 16, 25]\n"
          ]
        }
      ]
    },
    {
      "cell_type": "markdown",
      "source": [
        "**10. What is the difference between `map()`, `reduce()`, and `filter()` functions in Python?**\n",
        "- In Python, map(), reduce(), and filter() are built-in functions used for functional programming. They operate on sequences (like lists, tuples, etc.) and allow concise, expressive transformations or evaluations.\n",
        "\n",
        "**🔹 map():**\n",
        "\n",
        "- Purpose: Applies a function to every item in an iterable.\n",
        "\n",
        "- Returns: A new iterable (map object) with the results.\n",
        "\n",
        "Example:\n",
        "\n",
        "\n",
        "```\n",
        "numbers = [1, 2, 3, 4]\n",
        "squared = list(map(lambda x: x ** 2, numbers))\n",
        "print(squared)  # Output: [1, 4, 9, 16]\n",
        "\n",
        "```\n",
        "\n",
        "**🔹 filter():**\n",
        "\n",
        "- Purpose: Filters items in an iterable based on a Boolean condition (returns only True values).\n",
        "\n",
        "- Returns: A new iterable (filter object) with items that meet the condition.\n",
        "\n",
        "Example:\n",
        "\n",
        "\n",
        "```\n",
        "numbers = [1, 2, 3, 4, 5]\n",
        "evens = list(filter(lambda x: x % 2 == 0, numbers))\n",
        "print(evens)  # Output: [2, 4]\n",
        "\n",
        "```\n",
        "\n",
        "**🔹 reduce() (from functools):**\n",
        "\n",
        "- Purpose: Applies a function cumulatively to the items of an iterable, reducing it to a single value.\n",
        "\n",
        "- Returns: A single result.\n",
        "\n",
        "Example:\n",
        "\n",
        "\n",
        "```\n",
        "from functools import reduce\n",
        "\n",
        "numbers = [1, 2, 3, 4]\n",
        "product = reduce(lambda x, y: x * y, numbers)\n",
        "print(product)  # Output: 24\n",
        "\n",
        "```\n",
        "\n"
      ],
      "metadata": {
        "id": "zkG70zXnoYet"
      }
    },
    {
      "cell_type": "markdown",
      "source": [
        "11. Using pen & Paper write the internal mechanism for sum operation using reduce function on this given list:[47,11,42,13];\n",
        "\n",
        "![1000003418.jpg](data:image/jpeg;base64,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)\n"
      ],
      "metadata": {
        "id": "XB0z-TF-AzVd"
      }
    },
    {
      "cell_type": "code",
      "source": [
        "#1. Write a Python function that takes a list of numbers as input and returns the sum of all even numbers in the list.\n",
        "def sum_of_even_numbers(numbers):\n",
        "    return sum(num for num in numbers if num % 2 == 0)\n",
        "\n",
        "my_list = [1, 2, 3, 4, 5, 6]\n",
        "result = sum_of_even_numbers(my_list)\n",
        "print(result)\n"
      ],
      "metadata": {
        "colab": {
          "base_uri": "https://localhost:8080/"
        },
        "id": "KbLPYuywqB81",
        "outputId": "27819da0-c0a5-4a3d-e47c-2032b7de076c"
      },
      "execution_count": null,
      "outputs": [
        {
          "output_type": "stream",
          "name": "stdout",
          "text": [
            "12\n"
          ]
        }
      ]
    },
    {
      "cell_type": "code",
      "source": [
        "#2.Create a Python function that accepts a string and returns the reverse of that string.\n",
        "\n",
        "\n",
        "def reverse_string(text):\n",
        "  return text[::-1]\n",
        "text = \"Hello, world!\"\n",
        "reversed_text = reverse_string(text)\n",
        "print(reversed_text)"
      ],
      "metadata": {
        "colab": {
          "base_uri": "https://localhost:8080/"
        },
        "id": "xSQGjA6drBQC",
        "outputId": "697d2d6c-6429-45fd-c20b-52e8c30478d8"
      },
      "execution_count": null,
      "outputs": [
        {
          "output_type": "stream",
          "name": "stdout",
          "text": [
            "!dlrow ,olleH\n"
          ]
        }
      ]
    },
    {
      "cell_type": "code",
      "source": [
        "#3. Implement a Python function that takes a list of integers and returns a new list containing the squares of each number.\n",
        "def square_numbers(numbers):\n",
        "    return [x**2 for x in numbers]\n",
        "nums = [1, 2, 3, 4, 5]\n",
        "squared = square_numbers(nums)\n",
        "print(squared)\n"
      ],
      "metadata": {
        "colab": {
          "base_uri": "https://localhost:8080/"
        },
        "id": "FIkh-Wgqq9Mw",
        "outputId": "2b0313d3-f4dc-4b78-d6cf-c7693d21490a"
      },
      "execution_count": null,
      "outputs": [
        {
          "output_type": "stream",
          "name": "stdout",
          "text": [
            "[1, 4, 9, 16, 25]\n"
          ]
        }
      ]
    },
    {
      "cell_type": "code",
      "source": [
        "#4. Write a Python function that checks if a given number is prime or not from 1 to 200.\n",
        "def is_prime(n):\n",
        "    if n <= 1:\n",
        "        return False\n",
        "    if n == 2:\n",
        "        return True\n",
        "    if n % 2 == 0:\n",
        "        return False\n",
        "    for i in range(3, int(n**0.5) + 1, 2):\n",
        "        if n % i == 0:\n",
        "            return False\n",
        "    return True\n",
        "\n",
        "# Example: Check all numbers from 1 to 200\n",
        "for number in range(1, 201):\n",
        "    result = \"Prime\" if is_prime(number) else \"Not Prime\"\n",
        "    print(f\"{number}: {result}\")\n"
      ],
      "metadata": {
        "colab": {
          "base_uri": "https://localhost:8080/"
        },
        "id": "LeWqV-J1rGC1",
        "outputId": "9f66bde2-b9be-4600-f1f4-c2fc04dd2656"
      },
      "execution_count": null,
      "outputs": [
        {
          "output_type": "stream",
          "name": "stdout",
          "text": [
            "1: Not Prime\n",
            "2: Prime\n",
            "3: Prime\n",
            "4: Not Prime\n",
            "5: Prime\n",
            "6: Not Prime\n",
            "7: Prime\n",
            "8: Not Prime\n",
            "9: Not Prime\n",
            "10: Not Prime\n",
            "11: Prime\n",
            "12: Not Prime\n",
            "13: Prime\n",
            "14: Not Prime\n",
            "15: Not Prime\n",
            "16: Not Prime\n",
            "17: Prime\n",
            "18: Not Prime\n",
            "19: Prime\n",
            "20: Not Prime\n",
            "21: Not Prime\n",
            "22: Not Prime\n",
            "23: Prime\n",
            "24: Not Prime\n",
            "25: Not Prime\n",
            "26: Not Prime\n",
            "27: Not Prime\n",
            "28: Not Prime\n",
            "29: Prime\n",
            "30: Not Prime\n",
            "31: Prime\n",
            "32: Not Prime\n",
            "33: Not Prime\n",
            "34: Not Prime\n",
            "35: Not Prime\n",
            "36: Not Prime\n",
            "37: Prime\n",
            "38: Not Prime\n",
            "39: Not Prime\n",
            "40: Not Prime\n",
            "41: Prime\n",
            "42: Not Prime\n",
            "43: Prime\n",
            "44: Not Prime\n",
            "45: Not Prime\n",
            "46: Not Prime\n",
            "47: Prime\n",
            "48: Not Prime\n",
            "49: Not Prime\n",
            "50: Not Prime\n",
            "51: Not Prime\n",
            "52: Not Prime\n",
            "53: Prime\n",
            "54: Not Prime\n",
            "55: Not Prime\n",
            "56: Not Prime\n",
            "57: Not Prime\n",
            "58: Not Prime\n",
            "59: Prime\n",
            "60: Not Prime\n",
            "61: Prime\n",
            "62: Not Prime\n",
            "63: Not Prime\n",
            "64: Not Prime\n",
            "65: Not Prime\n",
            "66: Not Prime\n",
            "67: Prime\n",
            "68: Not Prime\n",
            "69: Not Prime\n",
            "70: Not Prime\n",
            "71: Prime\n",
            "72: Not Prime\n",
            "73: Prime\n",
            "74: Not Prime\n",
            "75: Not Prime\n",
            "76: Not Prime\n",
            "77: Not Prime\n",
            "78: Not Prime\n",
            "79: Prime\n",
            "80: Not Prime\n",
            "81: Not Prime\n",
            "82: Not Prime\n",
            "83: Prime\n",
            "84: Not Prime\n",
            "85: Not Prime\n",
            "86: Not Prime\n",
            "87: Not Prime\n",
            "88: Not Prime\n",
            "89: Prime\n",
            "90: Not Prime\n",
            "91: Not Prime\n",
            "92: Not Prime\n",
            "93: Not Prime\n",
            "94: Not Prime\n",
            "95: Not Prime\n",
            "96: Not Prime\n",
            "97: Prime\n",
            "98: Not Prime\n",
            "99: Not Prime\n",
            "100: Not Prime\n",
            "101: Prime\n",
            "102: Not Prime\n",
            "103: Prime\n",
            "104: Not Prime\n",
            "105: Not Prime\n",
            "106: Not Prime\n",
            "107: Prime\n",
            "108: Not Prime\n",
            "109: Prime\n",
            "110: Not Prime\n",
            "111: Not Prime\n",
            "112: Not Prime\n",
            "113: Prime\n",
            "114: Not Prime\n",
            "115: Not Prime\n",
            "116: Not Prime\n",
            "117: Not Prime\n",
            "118: Not Prime\n",
            "119: Not Prime\n",
            "120: Not Prime\n",
            "121: Not Prime\n",
            "122: Not Prime\n",
            "123: Not Prime\n",
            "124: Not Prime\n",
            "125: Not Prime\n",
            "126: Not Prime\n",
            "127: Prime\n",
            "128: Not Prime\n",
            "129: Not Prime\n",
            "130: Not Prime\n",
            "131: Prime\n",
            "132: Not Prime\n",
            "133: Not Prime\n",
            "134: Not Prime\n",
            "135: Not Prime\n",
            "136: Not Prime\n",
            "137: Prime\n",
            "138: Not Prime\n",
            "139: Prime\n",
            "140: Not Prime\n",
            "141: Not Prime\n",
            "142: Not Prime\n",
            "143: Not Prime\n",
            "144: Not Prime\n",
            "145: Not Prime\n",
            "146: Not Prime\n",
            "147: Not Prime\n",
            "148: Not Prime\n",
            "149: Prime\n",
            "150: Not Prime\n",
            "151: Prime\n",
            "152: Not Prime\n",
            "153: Not Prime\n",
            "154: Not Prime\n",
            "155: Not Prime\n",
            "156: Not Prime\n",
            "157: Prime\n",
            "158: Not Prime\n",
            "159: Not Prime\n",
            "160: Not Prime\n",
            "161: Not Prime\n",
            "162: Not Prime\n",
            "163: Prime\n",
            "164: Not Prime\n",
            "165: Not Prime\n",
            "166: Not Prime\n",
            "167: Prime\n",
            "168: Not Prime\n",
            "169: Not Prime\n",
            "170: Not Prime\n",
            "171: Not Prime\n",
            "172: Not Prime\n",
            "173: Prime\n",
            "174: Not Prime\n",
            "175: Not Prime\n",
            "176: Not Prime\n",
            "177: Not Prime\n",
            "178: Not Prime\n",
            "179: Prime\n",
            "180: Not Prime\n",
            "181: Prime\n",
            "182: Not Prime\n",
            "183: Not Prime\n",
            "184: Not Prime\n",
            "185: Not Prime\n",
            "186: Not Prime\n",
            "187: Not Prime\n",
            "188: Not Prime\n",
            "189: Not Prime\n",
            "190: Not Prime\n",
            "191: Prime\n",
            "192: Not Prime\n",
            "193: Prime\n",
            "194: Not Prime\n",
            "195: Not Prime\n",
            "196: Not Prime\n",
            "197: Prime\n",
            "198: Not Prime\n",
            "199: Prime\n",
            "200: Not Prime\n"
          ]
        }
      ]
    },
    {
      "cell_type": "code",
      "source": [
        "#5. Create an iterator class in Python that generates the Fibonacci sequence up to a specified number of terms.\n",
        "class FibonacciIterator:\n",
        "    def __init__(self, max_terms):\n",
        "        self.max_terms = max_terms\n",
        "        self.count = 0\n",
        "        self.a = 0\n",
        "        self.b = 1\n",
        "\n",
        "    def __iter__(self):\n",
        "        return self\n",
        "\n",
        "    def __next__(self):\n",
        "        if self.count >= self.max_terms:\n",
        "            raise StopIteration\n",
        "        if self.count == 0:\n",
        "            self.count += 1\n",
        "            return self.a\n",
        "        elif self.count == 1:\n",
        "            self.count += 1\n",
        "            return self.b\n",
        "        else:\n",
        "            self.a, self.b = self.b, self.a + self.b\n",
        "            self.count += 1\n",
        "            return self.b\n",
        "\n",
        "# Example usage\n",
        "fib = FibonacciIterator(10)\n",
        "for num in fib:\n",
        "    print(num)\n"
      ],
      "metadata": {
        "colab": {
          "base_uri": "https://localhost:8080/"
        },
        "id": "QuXWHH2urJkA",
        "outputId": "6b109b84-918f-4b30-e7d8-bd3c9ed5ac24"
      },
      "execution_count": null,
      "outputs": [
        {
          "output_type": "stream",
          "name": "stdout",
          "text": [
            "0\n",
            "1\n",
            "1\n",
            "2\n",
            "3\n",
            "5\n",
            "8\n",
            "13\n",
            "21\n",
            "34\n"
          ]
        }
      ]
    },
    {
      "cell_type": "code",
      "source": [
        "#6. Write a generator function in Python that yields the powers of 2 up to a given exponent.\n",
        "def powers_of_two(max_exponent):\n",
        "    for exponent in range(max_exponent + 1):\n",
        "        yield 2 ** exponent\n",
        "for power in powers_of_two(5):\n",
        "    print(power)\n"
      ],
      "metadata": {
        "colab": {
          "base_uri": "https://localhost:8080/"
        },
        "id": "GV-PouzQrM_x",
        "outputId": "b6a65a21-5256-444c-934a-84270296b18d"
      },
      "execution_count": null,
      "outputs": [
        {
          "output_type": "stream",
          "name": "stdout",
          "text": [
            "1\n",
            "2\n",
            "4\n",
            "8\n",
            "16\n",
            "32\n"
          ]
        }
      ]
    },
    {
      "cell_type": "code",
      "source": [
        "#7. Implement a generator function that reads a file line by line and yields each line as a string.\n",
        "def read_file_line_by_line(filepath):\n",
        "  \"\"\"Reads a file line by line and yields each line as a string.\n",
        "\n",
        "  Args:\n",
        "    filepath: The path to the file.\n",
        "\n",
        "  Yields:\n",
        "    str: Each line from the file.\n",
        "  \"\"\"\n",
        "  try:\n",
        "    with open(filepath, 'r') as file:\n",
        "      for line in file:\n",
        "        yield line.rstrip('\\n')  # Remove trailing newline character\n",
        "  except FileNotFoundError:\n",
        "    print(f\"Error: File not found at {filepath}\")\n",
        "\n",
        "# Example usage:\n",
        "if __name__ == \"__main__\":\n",
        "  # Create a sample file\n",
        "  with open(\"sample.txt\", \"w\") as f:\n",
        "    f.write(\"This is the first line.\\n\")\n",
        "    f.write(\"This is the second line.\\n\")\n",
        "    f.write(\"And this is the third line.\\n\")\n",
        "\n",
        "  # Use the generator function to read and print the file\n",
        "  for line in read_file_line_by_line(\"sample.txt\"):\n",
        "    print(f\"Line: {line}\")"
      ],
      "metadata": {
        "colab": {
          "base_uri": "https://localhost:8080/"
        },
        "id": "FZd1eakJrMsz",
        "outputId": "b2ed9629-9321-421f-ecd7-d03cb88898a2"
      },
      "execution_count": null,
      "outputs": [
        {
          "output_type": "stream",
          "name": "stdout",
          "text": [
            "Line: This is the first line.\n",
            "Line: This is the second line.\n",
            "Line: And this is the third line.\n"
          ]
        }
      ]
    },
    {
      "cell_type": "code",
      "source": [
        "#8. Use a lambda function in Python to sort a list of tuples based on the second element of each tuple.\n",
        "# Sample list of tuples\n",
        "my_list = [(1, 3), (4, 1), (2, 2), (5, 0)]\n",
        "\n",
        "# Sort using lambda (based on the second element)\n",
        "sorted_list = sorted(my_list, key=lambda x: x[1])\n",
        "\n",
        "print(sorted_list)\n"
      ],
      "metadata": {
        "colab": {
          "base_uri": "https://localhost:8080/"
        },
        "id": "EbmFANRUrRGS",
        "outputId": "2b0508fe-8556-432b-9da6-36dce0508ca1"
      },
      "execution_count": null,
      "outputs": [
        {
          "output_type": "stream",
          "name": "stdout",
          "text": [
            "[(5, 0), (4, 1), (2, 2), (1, 3)]\n"
          ]
        }
      ]
    },
    {
      "cell_type": "code",
      "source": [
        "#9. Write a Python program that uses `map()` to convert a list of temperatures from Celsius to Fahrenheit.\n",
        "\n",
        "def celsius_to_fahrenheit(celsius):\n",
        "    return (celsius * 9/5) + 32\n",
        "celsius_temperatures = [0, 20, 30, 40, 100]\n",
        "fahrenheit_temperatures = list(map(celsius_to_fahrenheit, celsius_temperatures))\n",
        "\n",
        "print(\"Celsius temperatures:\", celsius_temperatures)\n",
        "print(\"Fahrenheit temperatures:\", fahrenheit_temperatures)\n"
      ],
      "metadata": {
        "colab": {
          "base_uri": "https://localhost:8080/"
        },
        "id": "-d2KTdqnrQ4O",
        "outputId": "c7f7fd1d-e105-40fb-c08e-a81d45621bec"
      },
      "execution_count": null,
      "outputs": [
        {
          "output_type": "stream",
          "name": "stdout",
          "text": [
            "Celsius temperatures: [0, 20, 30, 40, 100]\n",
            "Fahrenheit temperatures: [32.0, 68.0, 86.0, 104.0, 212.0]\n"
          ]
        }
      ]
    },
    {
      "cell_type": "code",
      "source": [
        "#10. Create a Python program that uses `filter()` to remove all the vowels from a given string.\n",
        "def remove_vowels(input_string):\n",
        "    # Define a function that returns True for non-vowel characters\n",
        "    def is_not_vowel(char):\n",
        "        return char.lower() not in 'aeiou'\n",
        "\n",
        "    # Use filter to keep only non-vowel characters\n",
        "    filtered_chars = filter(is_not_vowel, input_string)\n",
        "\n",
        "    # Join the filtered characters back into a string\n",
        "    result = ''.join(filtered_chars)\n",
        "\n",
        "    return result\n",
        "\n",
        "# Example usage\n",
        "input_string = \"Hello, World!\"\n",
        "output_string = remove_vowels(input_string)\n",
        "print(\"Original String:\", input_string)\n",
        "print(\"String without vowels:\", output_string)\n"
      ],
      "metadata": {
        "colab": {
          "base_uri": "https://localhost:8080/"
        },
        "id": "othN0PvorXdw",
        "outputId": "4dfa9c59-fd7c-405f-ec7d-e8e4d4bd6af2"
      },
      "execution_count": null,
      "outputs": [
        {
          "output_type": "stream",
          "name": "stdout",
          "text": [
            "Original String: Hello, World!\n",
            "String without vowels: Hll, Wrld!\n"
          ]
        }
      ]
    },
    {
      "cell_type": "code",
      "source": [
        "#11) Imagine an accounting routine used in a book shop. It works on a list with sublists, which look like this:Write a Python program, which returns a list with 2-tuples. Each tuple consists of the order number and theproduct of the price per item and the quantity. The product should be increased by 10,- € if the value of the order is smaller than 100,00 €. Write a Python program using lambda and map.\n",
        "orders = [\n",
        "    [34587, \"Learning Python, Mark Lutz\", 4, 40.95],\n",
        "    [98762, \"Programming Python, Mark Lutz\", 5, 56.80],\n",
        "    [77226, \"Head First Python, Paul Barry\", 3, 32.95],\n",
        "    [88112, \"Einführung in Python3, Bernd Klein\", 3, 24.99]\n",
        "]\n",
        "\n",
        "result = list(map(lambda x: (x[0], round(x[2] * x[3] + (10 if x[2] * x[3] < 100 else 0), 2)), orders))\n",
        "\n",
        "print(result)"
      ],
      "metadata": {
        "colab": {
          "base_uri": "https://localhost:8080/"
        },
        "id": "Jm2iz78aoWe7",
        "outputId": "8b3e8287-a85e-48ad-e310-23ce64aa57c0"
      },
      "execution_count": null,
      "outputs": [
        {
          "output_type": "stream",
          "name": "stdout",
          "text": [
            "[(34587, 163.8), (98762, 284.0), (77226, 108.85), (88112, 84.97)]\n"
          ]
        }
      ]
    },
    {
      "cell_type": "code",
      "source": [],
      "metadata": {
        "id": "slWSYcCxrkGQ"
      },
      "execution_count": null,
      "outputs": []
    }
  ]
}