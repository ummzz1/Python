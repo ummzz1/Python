{
  "nbformat": 4,
  "nbformat_minor": 0,
  "metadata": {
    "colab": {
      "provenance": []
    },
    "kernelspec": {
      "name": "python3",
      "display_name": "Python 3"
    },
    "language_info": {
      "name": "python"
    }
  },
  "cells": [
    {
      "cell_type": "markdown",
      "source": [
        "1: What is Boosting in Machine Learning? Explain how it improves weak\n",
        "learners.\n",
        "\n",
        "Ans- Boosting in Machine Learning is an ensemble technique that combines multiple weak learners sequentially to form a strong learner.\n",
        "\n",
        "- Each weak learner focuses on correcting the mistakes of the previous one.\n",
        "\n",
        "- This reduces bias and improves accuracy.\n",
        "\n",
        "- Example: AdaBoost, Gradient Boosting, XGBoost.\n",
        "\n",
        "✅ Boosting improves weak learners by making each new learner pay more attention to the misclassified samples, and then combining all learners into one powerful model."
      ],
      "metadata": {
        "id": "UCJ3danuSqCD"
      }
    },
    {
      "cell_type": "markdown",
      "source": [
        "2: What is the difference between AdaBoost and Gradient Boosting in terms\n",
        "of how models are trained?\n",
        "Ans-\n",
        "AdaBoost (Adaptive Boosting):\n",
        "\n",
        "- Trains weak learners sequentially.\n",
        "\n",
        "- After each round, it changes sample weights: misclassified samples get higher weights, so the next learner focuses more on them.\n",
        "\n",
        "- Final output is a weighted vote (classification) or weighted sum (regression).\n",
        "\n",
        "Gradient Boosting:\n",
        "\n",
        "- Also trains weak learners sequentially.\n",
        "\n",
        "- Instead of changing sample weights, it fits each new learner to the residual errors (gradients) of the previous model.\n",
        "\n",
        "- Uses gradient descent to minimize a chosen loss function (e.g., MSE, log loss).\n"
      ],
      "metadata": {
        "id": "veD9VIcBUMLI"
      }
    },
    {
      "cell_type": "markdown",
      "source": [
        "3: How does regularization help in XGBoost?\n",
        "\n",
        "Ans- Regularization in XGBoost controls the complexity of the model by penalizing overly complex trees. This prevents overfitting and improves generalization.\n",
        "\n",
        "🔑 How it works:\n",
        "\n",
        "- XGBoost’s objective function =\n",
        "Loss Function (training error) + Regularization term\n",
        "\n",
        "- The regularization term includes:\n",
        "\n",
        "1. L1 regularization (α) → adds penalty on the number of leaf nodes with weights → encourages sparsity (some weights become zero).\n",
        "\n",
        "2. L2 regularization (λ) → penalizes large leaf weights → prevents any single feature from dominating.\n",
        "\n",
        "✅ Benefits of Regularization in XGBoost:\n",
        "\n",
        "1. Prevents overfitting (trees don’t grow too complex).\n",
        "\n",
        "2. Improves generalization on unseen data.\n",
        "\n",
        "3. Reduces variance by shrinking leaf weights.\n",
        "\n",
        "4. Encourages simpler, interpretable models."
      ],
      "metadata": {
        "id": "YUjJulsOV8dY"
      }
    },
    {
      "cell_type": "markdown",
      "source": [
        "4: Why is CatBoost efficient for handling categorical data?\n",
        "\n",
        "CatBoost (by Yandex) is a gradient boosting library that is specially optimized for categorical features.\n",
        "\n",
        "✅ Reasons why it is efficient:\n",
        "\n",
        "1. No need for manual encoding (like One-Hot or Label Encoding).\n",
        "\n",
        "-  CatBoost automatically handles categorical variables.\n",
        "\n",
        "2. Uses “Ordered Target Statistics” instead of one-hot encoding:\n",
        "\n",
        "-  Converts categories into numbers based on their relationship with the target (e.g., mean target value).\n",
        "\n",
        "-  Prevents target leakage by using special ordered schemes.\n",
        "\n",
        "3. Efficient with high-cardinality features (e.g., thousands of unique values in categorical columns).\n",
        "\n",
        "4. Faster training & less memory usage since it avoids creating large sparse matrices (as in one-hot encoding).\n",
        "\n",
        "5. Better accuracy on datasets with categorical features compared to XGBoost/LightGBM (if raw categorical features are used)."
      ],
      "metadata": {
        "id": "ly70goHyXBUI"
      }
    },
    {
      "cell_type": "markdown",
      "source": [
        "5: Real-World Applications where Boosting is preferred over Bagging\n",
        "\n",
        "Boosting techniques (AdaBoost, Gradient Boosting, XGBoost, LightGBM, CatBoost) are preferred when:\n",
        "\n",
        "- Data is complex\n",
        "\n",
        "- Model needs high accuracy\n",
        "\n",
        "- Misclassification is costly\n",
        "\n",
        "✅ Real-World Applications of Boosting\n",
        "\n",
        "1. Fraud Detection (Banking & Finance)\n",
        "\n",
        "-  Detecting rare fraudulent transactions.\n",
        "\n",
        "-  Boosting handles imbalanced datasets better than bagging.\n",
        "\n",
        "2. Customer Churn Prediction (Telecom & SaaS)\n",
        "\n",
        "-  Identifying which customers are likely to leave.\n",
        "\n",
        "- Boosting captures subtle patterns in customer behavior.\n",
        "\n",
        "3. Credit Risk Scoring (Loans & Insurance)\n",
        "\n",
        "- Predicting loan defaults.\n",
        "\n",
        "- Boosting improves precision and recall compared to bagging.\n",
        "\n",
        "4. Medical Diagnosis (Healthcare)\n",
        "\n",
        "- Disease prediction from patient history and scans.\n",
        "\n",
        "- Boosting reduces false negatives, which is critical.\n",
        "\n",
        "5. Search Engines & Recommendation Systems (Tech/Media)\n",
        "\n",
        "- Ranking web pages (e.g., used in Microsoft’s RankNet, LambdaMART).\n",
        "\n",
        "- Boosting is preferred for ranking problems.\n",
        "\n",
        "6. Image & Text Classification (AI/ML Applications)\n",
        "\n",
        "- Boosting (e.g., XGBoost + embeddings) is used in NLP and CV competitions."
      ],
      "metadata": {
        "id": "rp-kXbp_YEtN"
      }
    },
    {
      "cell_type": "code",
      "source": [
        "#6: Write a Python program to: ● Train an AdaBoost Classifier on the Breast Cancer dataset ● Print the model accuracy\n",
        "# 📌 AdaBoost Classifier on Breast Cancer Dataset\n",
        "\n",
        "# 1. Import libraries\n",
        "from sklearn.datasets import load_breast_cancer\n",
        "from sklearn.model_selection import train_test_split\n",
        "from sklearn.ensemble import AdaBoostClassifier\n",
        "from sklearn.metrics import accuracy_score\n",
        "\n",
        "# 2. Load dataset\n",
        "data = load_breast_cancer()\n",
        "X, y = data.data, data.target\n",
        "\n",
        "# 3. Split data into train and test sets\n",
        "X_train, X_test, y_train, y_test = train_test_split(\n",
        "    X, y, test_size=0.3, random_state=42\n",
        ")\n",
        "\n",
        "# 4. Initialize AdaBoost Classifier\n",
        "ada = AdaBoostClassifier(n_estimators=100, learning_rate=1.0, random_state=42)\n",
        "\n",
        "# 5. Train the model\n",
        "ada.fit(X_train, y_train)\n",
        "\n",
        "# 6. Predict on test set\n",
        "y_pred = ada.predict(X_test)\n",
        "\n",
        "# 7. Print model accuracy\n",
        "print(\"AdaBoost Classifier Accuracy:\", accuracy_score(y_test, y_pred))\n",
        "\n",
        "\n"
      ],
      "metadata": {
        "colab": {
          "base_uri": "https://localhost:8080/"
        },
        "id": "P0ZFjLZ8atIn",
        "outputId": "262b8273-e247-48cb-e60d-0dde55631a4a"
      },
      "execution_count": null,
      "outputs": [
        {
          "output_type": "stream",
          "name": "stdout",
          "text": [
            "AdaBoost Classifier Accuracy: 0.9707602339181286\n"
          ]
        }
      ]
    },
    {
      "cell_type": "code",
      "source": [
        "#7: Write a Python program to: ● Train a Gradient Boosting Regressor on the California Housing dataset ● Evaluate performance using R-squared score\n",
        "# 📌 Gradient Boosting Regressor on California Housing Dataset\n",
        "\n",
        "# 1. Import libraries\n",
        "from sklearn.datasets import fetch_california_housing\n",
        "from sklearn.model_selection import train_test_split\n",
        "from sklearn.ensemble import GradientBoostingRegressor\n",
        "from sklearn.metrics import r2_score\n",
        "\n",
        "# 2. Load dataset\n",
        "housing = fetch_california_housing()\n",
        "X, y = housing.data, housing.target\n",
        "\n",
        "# 3. Split into train and test sets\n",
        "X_train, X_test, y_train, y_test = train_test_split(\n",
        "    X, y, test_size=0.3, random_state=42\n",
        ")\n",
        "\n",
        "# 4. Initialize Gradient Boosting Regressor\n",
        "gbr = GradientBoostingRegressor(\n",
        "    n_estimators=200, learning_rate=0.1, max_depth=3, random_state=42\n",
        ")\n",
        "\n",
        "# 5. Train the model\n",
        "gbr.fit(X_train, y_train)\n",
        "\n",
        "# 6. Predict on test set\n",
        "y_pred = gbr.predict(X_test)\n",
        "\n",
        "# 7. Evaluate performance using R² score\n",
        "print(\"Gradient Boosting Regressor R² Score:\", r2_score(y_test, y_pred))\n",
        "\n"
      ],
      "metadata": {
        "colab": {
          "base_uri": "https://localhost:8080/"
        },
        "id": "3egKOK3ybJjP",
        "outputId": "41959123-4c00-4015-8660-4a1c9fc715fa"
      },
      "execution_count": null,
      "outputs": [
        {
          "output_type": "stream",
          "name": "stdout",
          "text": [
            "Gradient Boosting Regressor R² Score: 0.804992915650479\n"
          ]
        }
      ]
    },
    {
      "cell_type": "code",
      "source": [
        "#8: Write a Python program to: ● Train an XGBoost Classifier on the Breast Cancer dataset ● Tune the learning rate using GridSearchCV ● Print the best parameters and accuracy\n",
        "# 📌 XGBoost Classifier with GridSearchCV on Breast Cancer Dataset\n",
        "\n",
        "# 1. Import libraries\n",
        "import xgboost as xgb\n",
        "from sklearn.datasets import load_breast_cancer\n",
        "from sklearn.model_selection import train_test_split, GridSearchCV\n",
        "from sklearn.metrics import accuracy_score\n",
        "\n",
        "# 2. Load dataset\n",
        "data = load_breast_cancer()\n",
        "X, y = data.data, data.target\n",
        "\n",
        "# 3. Split into train and test sets\n",
        "X_train, X_test, y_train, y_test = train_test_split(\n",
        "    X, y, test_size=0.3, random_state=42\n",
        ")\n",
        "\n",
        "# 4. Define XGBoost Classifier\n",
        "xgb_clf = xgb.XGBClassifier(\n",
        "    n_estimators=100,\n",
        "    use_label_encoder=False,\n",
        "    eval_metric=\"logloss\",\n",
        "    random_state=42\n",
        ")\n",
        "\n",
        "# 5. Define parameter grid for learning rate\n",
        "param_grid = {\n",
        "    'learning_rate': [0.01, 0.05, 0.1, 0.2, 0.3]\n",
        "}\n",
        "\n",
        "# 6. Apply GridSearchCV\n",
        "grid_search = GridSearchCV(\n",
        "    estimator=xgb_clf,\n",
        "    param_grid=param_grid,\n",
        "    scoring='accuracy',\n",
        "    cv=5,\n",
        "    n_jobs=-1\n",
        ")\n",
        "\n",
        "grid_search.fit(X_train, y_train)\n",
        "\n",
        "# 7. Best parameters\n",
        "print(\"Best Parameters:\", grid_search.best_params_)\n",
        "\n",
        "# 8. Evaluate best model on test data\n",
        "best_model = grid_search.best_estimator_\n",
        "y_pred = best_model.predict(X_test)\n",
        "print(\"Test Accuracy:\", accuracy_score(y_test, y_pred))\n"
      ],
      "metadata": {
        "colab": {
          "base_uri": "https://localhost:8080/"
        },
        "id": "MGAxdjOQbsjG",
        "outputId": "fc70544e-66ec-4b77-b2fa-f8bdcbb49851"
      },
      "execution_count": null,
      "outputs": [
        {
          "output_type": "stream",
          "name": "stdout",
          "text": [
            "Best Parameters: {'learning_rate': 0.3}\n",
            "Test Accuracy: 0.9649122807017544\n"
          ]
        },
        {
          "output_type": "stream",
          "name": "stderr",
          "text": [
            "/usr/local/lib/python3.11/dist-packages/xgboost/training.py:183: UserWarning: [19:10:33] WARNING: /workspace/src/learner.cc:738: \n",
            "Parameters: { \"use_label_encoder\" } are not used.\n",
            "\n",
            "  bst.update(dtrain, iteration=i, fobj=obj)\n"
          ]
        }
      ]
    },
    {
      "cell_type": "code",
      "source": [
        "#9: Write a Python program to: ● Train a CatBoost Classifier ● Plot the confusion matrix using seaborn\n",
        "# 📌 CatBoost Classifier with Confusion Matrix\n",
        "\n",
        "# 1. Install CatBoost (if not already installed in Colab)\n",
        "!pip install catboost\n",
        "\n",
        "# 2. Import libraries\n",
        "from catboost import CatBoostClassifier\n",
        "from sklearn.datasets import load_breast_cancer\n",
        "from sklearn.model_selection import train_test_split\n",
        "from sklearn.metrics import confusion_matrix, accuracy_score\n",
        "import seaborn as sns\n",
        "import matplotlib.pyplot as plt\n",
        "\n",
        "# 3. Load dataset\n",
        "data = load_breast_cancer()\n",
        "X, y = data.data, data.target\n",
        "\n",
        "# 4. Split dataset\n",
        "X_train, X_test, y_train, y_test = train_test_split(\n",
        "    X, y, test_size=0.3, random_state=42\n",
        ")\n",
        "\n",
        "# 5. Initialize and train CatBoost Classifier\n",
        "cat_clf = CatBoostClassifier(\n",
        "    iterations=200,\n",
        "    learning_rate=0.1,\n",
        "    depth=6,\n",
        "    verbose=0,        # suppress training logs\n",
        "    random_state=42\n",
        ")\n",
        "\n",
        "cat_clf.fit(X_train, y_train)\n",
        "\n",
        "# 6. Predictions\n",
        "y_pred = cat_clf.predict(X_test)\n",
        "\n",
        "# 7. Accuracy\n",
        "print(\"CatBoost Classifier Accuracy:\", accuracy_score(y_test, y_pred))\n",
        "\n",
        "# 8. Confusion Matrix\n",
        "cm = confusion_matrix(y_test, y_pred)\n",
        "\n",
        "# 9. Plot Confusion Matrix with seaborn\n",
        "plt.figure(figsize=(6,4))\n",
        "sns.heatmap(cm, annot=True, fmt=\"d\", cmap=\"Blues\",\n",
        "            xticklabels=data.target_names,\n",
        "            yticklabels=data.target_names)\n",
        "plt.xlabel(\"Predicted\")\n",
        "plt.ylabel(\"Actual\")\n",
        "plt.title(\"Confusion Matrix - CatBoost Classifier\")\n",
        "plt.show()\n",
        "\n"
      ],
      "metadata": {
        "colab": {
          "base_uri": "https://localhost:8080/",
          "height": 844
        },
        "id": "e25lbJP3cN_R",
        "outputId": "5a410edf-4f84-44b1-e5b9-5c6107de4335"
      },
      "execution_count": null,
      "outputs": [
        {
          "output_type": "stream",
          "name": "stdout",
          "text": [
            "Collecting catboost\n",
            "  Downloading catboost-1.2.8-cp311-cp311-manylinux2014_x86_64.whl.metadata (1.2 kB)\n",
            "Requirement already satisfied: graphviz in /usr/local/lib/python3.11/dist-packages (from catboost) (0.21)\n",
            "Requirement already satisfied: matplotlib in /usr/local/lib/python3.11/dist-packages (from catboost) (3.10.0)\n",
            "Requirement already satisfied: numpy<3.0,>=1.16.0 in /usr/local/lib/python3.11/dist-packages (from catboost) (2.0.2)\n",
            "Requirement already satisfied: pandas>=0.24 in /usr/local/lib/python3.11/dist-packages (from catboost) (2.2.2)\n",
            "Requirement already satisfied: scipy in /usr/local/lib/python3.11/dist-packages (from catboost) (1.16.1)\n",
            "Requirement already satisfied: plotly in /usr/local/lib/python3.11/dist-packages (from catboost) (5.24.1)\n",
            "Requirement already satisfied: six in /usr/local/lib/python3.11/dist-packages (from catboost) (1.17.0)\n",
            "Requirement already satisfied: python-dateutil>=2.8.2 in /usr/local/lib/python3.11/dist-packages (from pandas>=0.24->catboost) (2.9.0.post0)\n",
            "Requirement already satisfied: pytz>=2020.1 in /usr/local/lib/python3.11/dist-packages (from pandas>=0.24->catboost) (2025.2)\n",
            "Requirement already satisfied: tzdata>=2022.7 in /usr/local/lib/python3.11/dist-packages (from pandas>=0.24->catboost) (2025.2)\n",
            "Requirement already satisfied: contourpy>=1.0.1 in /usr/local/lib/python3.11/dist-packages (from matplotlib->catboost) (1.3.3)\n",
            "Requirement already satisfied: cycler>=0.10 in /usr/local/lib/python3.11/dist-packages (from matplotlib->catboost) (0.12.1)\n",
            "Requirement already satisfied: fonttools>=4.22.0 in /usr/local/lib/python3.11/dist-packages (from matplotlib->catboost) (4.59.0)\n",
            "Requirement already satisfied: kiwisolver>=1.3.1 in /usr/local/lib/python3.11/dist-packages (from matplotlib->catboost) (1.4.9)\n",
            "Requirement already satisfied: packaging>=20.0 in /usr/local/lib/python3.11/dist-packages (from matplotlib->catboost) (25.0)\n",
            "Requirement already satisfied: pillow>=8 in /usr/local/lib/python3.11/dist-packages (from matplotlib->catboost) (11.3.0)\n",
            "Requirement already satisfied: pyparsing>=2.3.1 in /usr/local/lib/python3.11/dist-packages (from matplotlib->catboost) (3.2.3)\n",
            "Requirement already satisfied: tenacity>=6.2.0 in /usr/local/lib/python3.11/dist-packages (from plotly->catboost) (9.1.2)\n",
            "Downloading catboost-1.2.8-cp311-cp311-manylinux2014_x86_64.whl (99.2 MB)\n",
            "\u001b[2K   \u001b[90m━━━━━━━━━━━━━━━━━━━━━━━━━━━━━━━━━━━━━━━━\u001b[0m \u001b[32m99.2/99.2 MB\u001b[0m \u001b[31m5.7 MB/s\u001b[0m eta \u001b[36m0:00:00\u001b[0m\n",
            "\u001b[?25hInstalling collected packages: catboost\n",
            "Successfully installed catboost-1.2.8\n",
            "CatBoost Classifier Accuracy: 0.9649122807017544\n"
          ]
        },
        {
          "output_type": "display_data",
          "data": {
            "text/plain": [
              "<Figure size 600x400 with 2 Axes>"
            ],
            "image/png": "[encoded data removed]"
          },
          "metadata": {}
        }
      ]
    },
    {
      "cell_type": "markdown",
      "source": [
        "10: You're working for a FinTech company trying to predict loan default using\n",
        "customer demographics and transaction behavior.\n",
        "The dataset is imbalanced, contains missing values, and has both numeric and\n",
        "categorical features.\n",
        "Describe your step-by-step data science pipeline using boosting techniques:\n",
        "● Data preprocessing & handling missing/categorical values\n",
        "● Choice between AdaBoost, XGBoost, or CatBoost\n",
        "● Hyperparameter tuning strategy\n",
        "● Evaluation metrics you'd choose and why\n",
        "● How the business would benefit from your model\n",
        "\n",
        "Ans- 🔹 Loan Default Prediction using Boosting Techniques\n",
        "1. Data Preprocessing\n",
        "\n",
        "- Handle missing values:\n",
        "\n",
        "  -  Numeric → impute with median\n",
        "\n",
        "  -  Categorical → impute with mode (or let CatBoost handle directly)\n",
        "\n",
        "- Encoding:\n",
        "\n",
        "  -  AdaBoost/XGBoost → One-Hot for low-cardinality, Target/Label encoding for high-cardinality\n",
        "\n",
        " -  CatBoost → handles categorical features automatically ✅\n",
        "\n",
        "- Scaling not required (tree-based models are scale-invariant).\n",
        "\n",
        "2. Choice of Boosting Technique\n",
        "\n",
        "- AdaBoost → simple datasets, less effective with categorical/missing data\n",
        "\n",
        "- XGBoost → fast, optimized, but requires encoding for categorical features\n",
        "\n",
        "- CatBoost → best choice here ✅ because it:\n",
        "\n",
        " -  Handles categorical features directly\n",
        "\n",
        " -  Handles missing values\n",
        "\n",
        " -  Works well with imbalanced datasets\n",
        "\n",
        " 👉 Final choice: CatBoost\n",
        "\n",
        "3. Hyperparameter Tuning\n",
        "\n",
        "Use GridSearchCV / RandomizedSearchCV with cross-validation.\n",
        "Key parameters to tune:\n",
        "\n",
        "- learning_rate → [0.01, 0.05, 0.1]\n",
        "\n",
        "- depth → [4, 6, 8, 10]\n",
        "\n",
        "- iterations → [200, 500, 1000]\n",
        "\n",
        "- l2_leaf_reg → [1, 3, 5, 7]\n",
        "\n",
        "- class_weights (or scale_pos_weight in XGBoost) → to handle imbalance\n",
        "\n",
        "4. Evaluation Metrics\n",
        "\n",
        "Since the dataset is imbalanced, accuracy is misleading.\n",
        "Better metrics:\n",
        "\n",
        "- AUC-ROC → ability to separate defaulters vs non-defaulters\n",
        "\n",
        "- Precision, Recall, F1-score → balance false positives/false negatives\n",
        "\n",
        "- Confusion Matrix → business insight (how many defaults detected/missed)\n",
        "\n",
        "👉 Final metric to report: AUC-ROC + F1-score\n",
        "\n",
        "5. Business Value\n",
        "\n",
        "- Reduce loan defaults → lower financial risk\n",
        "\n",
        "- Better credit scoring → smarter approval/rejection decisions\n",
        "\n",
        "- Profitability → approve safe customers, reject risky ones\n",
        "\n",
        "- Customer retention → create repayment plans for borderline cases\n",
        "\n",
        "👉 Overall: Boosting models help the company minimize risk and maximize profitability."
      ],
      "metadata": {
        "id": "9Ia_EDRXcyZL"
      }
    }
  ]
}