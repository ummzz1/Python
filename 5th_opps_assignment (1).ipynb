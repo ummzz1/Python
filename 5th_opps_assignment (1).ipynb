{
  "nbformat": 4,
  "nbformat_minor": 0,
  "metadata": {
    "colab": {
      "provenance": []
    },
    "kernelspec": {
      "name": "python3",
      "display_name": "Python 3"
    },
    "language_info": {
      "name": "python"
    }
  },
  "cells": [
    {
      "cell_type": "markdown",
      "source": [
        "**1. What is Object-Oriented Programming (OOP)?**\n",
        "\n",
        "- Object-oriented programming (OOP) is a programming paradigm that organizes software design around data, or objects, rather than functions and logic.\n"
      ],
      "metadata": {
        "id": "oAIIRdMcEB_c"
      }
    },
    {
      "cell_type": "markdown",
      "source": [
        "**2. What is a class in OOP?**\n",
        "\n",
        "- A class is a blueprint or template for creating objects in Object-Oriented Programming.\n",
        "\n",
        "- Think of a class like a design plan for a house. You can build many houses from the same plan — each house is an object, and the plan is the class\n"
      ],
      "metadata": {
        "id": "wYNa5UmREbgJ"
      }
    },
    {
      "cell_type": "markdown",
      "source": [
        "**3. What is an object in OOP?**\n",
        "\n",
        "- An object is an instance of a class.\n",
        "When a class is like a blueprint, an object is the real thing created from that blueprint.\n",
        "\n"
      ],
      "metadata": {
        "id": "whZTz8u2FU9y"
      }
    },
    {
      "cell_type": "markdown",
      "source": [
        "**4. What is the difference between abstraction and encapsulation?**\n",
        "\n",
        "-🧠 a.). Abstraction – “Hiding Complexity, Showing Only Essentials”\n",
        "Focus: What an object does.\n",
        "\n",
        "- Goal: Hide unnecessary details and show only the relevant features.\n",
        "\n",
        "- Example:\n",
        "\n",
        "- When you use a phone, you just tap to call. You don’t need to know the internal circuits or code running inside.\n",
        "\n",
        "📦 In Code:\n",
        "\n",
        "\n",
        "```\n",
        "from abc import ABC, abstractmethod\n",
        "\n",
        "class Vehicle(ABC):\n",
        "    @abstractmethod\n",
        "    def start(self):\n",
        "        pass\n",
        "\n",
        "```\n",
        "-🔐 b.). Encapsulation – “Protecting Data Inside a Capsule”\n",
        "Focus: How data is protected.\n",
        "\n",
        "- Goal: Restrict direct access to some parts of the object (data hiding).\n",
        "\n",
        "- Example:\n",
        "\n",
        "- You can’t directly change someone’s bank balance. You must go through secure methods (like deposit() or withdraw()).\n",
        "\n",
        "📦 In Code:\n",
        "\n",
        "\n",
        "```\n",
        "class BankAccount:\n",
        "    def __init__(self):\n",
        "        self.__balance = 0  # private variable\n",
        "\n",
        "    def deposit(self, amount):\n",
        "        if amount > 0:\n",
        "            self.__balance += amount\n",
        "\n",
        "```\n",
        "\n",
        "\n"
      ],
      "metadata": {
        "id": "xR3IrlPpFk3f"
      }
    },
    {
      "cell_type": "markdown",
      "source": [
        "**5. What are dunder methods in Python?**\n",
        "\n",
        "- 🐍Dunder methods (short for Double UNDERscore) are special methods in Python that have two underscores before and after their names, like __init__, __str__, etc.\n",
        "\n",
        "They’re also called:\n",
        "\n",
        "- Magic methods\n",
        "\n",
        "- Special methods\n",
        "\n",
        "- 🧠 Purpose: Dunder methods let you define how objects behave with built-in Python operations like:\n",
        "\n",
        "- Printing\n",
        "\n",
        "- Adding\n",
        "\n",
        "- Comparing\n",
        "\n",
        "- Creating objects"
      ],
      "metadata": {
        "id": "QSap-rYSGmmp"
      }
    },
    {
      "cell_type": "markdown",
      "source": [
        "**6. Explain the concept of inheritance in OOP.**\n",
        "\n",
        "- 🧬 Inheritance is a fundamental concept in OOP that allows a class (child/subclass) to inherit properties and methods from another class (parent/superclass).\n",
        "\n",
        "-🧠 In Simple Words:\n",
        "\n",
        "- Inheritance lets you reuse code by allowing one class to take on the characteristics and behavior of another.\n",
        "\n",
        "-🔗 Real-life Example:\n",
        "\n",
        "- Vehicle → Base class\n",
        "\n",
        "- Car, Bike, Truck → Child classes\n",
        "All vehicles have common properties like engine, wheels, and start(). Instead of rewriting them in every class, they inherit from Vehicle.\n",
        "\n",
        "🧱 Python Example:\n",
        "\n",
        "\n",
        "```\n",
        "class Vehicle:\n",
        "    def __init__(self, brand):\n",
        "        self.brand = brand\n",
        "\n",
        "    def start(self):\n",
        "        print(f\"{self.brand} vehicle is starting...\")\n",
        "\n",
        "class Car(Vehicle):\n",
        "    def drive(self):\n",
        "        print(f\"{self.brand} car is driving.\")\n",
        "\n",
        "```\n",
        "✅ Why Use Inheritance?\n",
        "\n",
        "- Reusability 🌀\n",
        "\n",
        "- Clean and organized code ✨\n",
        "\n",
        "- Easier to maintain and extend 🔧\n",
        "\n"
      ],
      "metadata": {
        "id": "Tn44cgxqHZNn"
      }
    },
    {
      "cell_type": "markdown",
      "source": [
        "**7. What is polymorphism in OOP?**\n",
        "\n",
        "- 🌀 Polymorphism means \"many forms.\"\n",
        "In Object-Oriented Programming, polymorphism allows the same method or function name to behave differently based on the object or context.\n",
        "\n",
        "\n",
        "\n"
      ],
      "metadata": {
        "id": "QkDufHM7ITG4"
      }
    },
    {
      "cell_type": "markdown",
      "source": [
        "**8. How is encapsulation achieved in Python?**\n",
        "\n",
        "- 🔐 Encapsulation is the process of hiding the internal data of an object and only exposing necessary parts through methods. It helps protect the data from unwanted access and modification.\n",
        "\n",
        "-🔧 Example in Python:\n",
        "\n",
        "\n",
        "```\n",
        "class Student:\n",
        "    def __init__(self, name, age):\n",
        "        self.name = name       # public\n",
        "        self._age = age        # protected\n",
        "        self.__marks = 90      # private\n",
        "\n",
        "    def get_marks(self):\n",
        "        return self.__marks    # controlled access\n",
        "\n",
        "```\n",
        "📦 Encapsulation:\n",
        "- ✅ Data hiding (__private)\n",
        "\n",
        "- ✅ Getter and setter methods (optional in Python)\n",
        "\n",
        "- ✅ Controlled access through methods\n",
        "\n",
        "🔐 Benefits of Encapsulation:\n",
        "\n",
        "- Data security\n",
        "\n",
        "- Avoids accidental changes\n",
        "\n",
        "- Cleaner, more maintainable code\n"
      ],
      "metadata": {
        "id": "LKlCFU2QIvj4"
      }
    },
    {
      "cell_type": "markdown",
      "source": [
        "**9. What is a constructor in Python?**\n",
        "\n",
        "- 🏗️ A constructor in Python is a special method used to initialize objects when a class is created.\n",
        "\n",
        "🔧 Basic Example:\n",
        "\n",
        "\n",
        "```\n",
        "class Student:\n",
        "    def __init__(self, name, roll):\n",
        "        self.name = name\n",
        "        self.roll = roll\n",
        "\n",
        "    def display(self):\n",
        "        print(f\"Name: {self.name}, Roll No: {self.roll}\")\n",
        "\n",
        "```\n",
        "\n",
        "\n",
        "```\n",
        "s1 = Student(\"Ummay\", 101)  \n",
        "s1.display()\n",
        "\n",
        "```\n",
        "Output:\n",
        "\n",
        "Name: Lakshya, Roll No: 101\n",
        "\n",
        "🧪 Key Points:\n",
        "\n",
        "- __init__ is the constructor\n",
        "\n",
        "- It’s called automatically when you create an object\n",
        "\n",
        "- It’s used to assign values to object properties\n",
        "\n"
      ],
      "metadata": {
        "id": "Psg6M7LLJdKg"
      }
    },
    {
      "cell_type": "markdown",
      "source": [
        "**10. What are class and static methods in Python?**\n",
        "\n",
        "- 🧑‍🏫Both are special types of methods that are not tied to a specific object, but to the class itself.\n",
        "\n",
        "🔹 1. Class Method\n",
        "\n",
        "- Belongs to the class, not the instance.\n",
        "\n",
        "- Can access and modify class variables.\n",
        "\n",
        "- Defined using the @classmethod decorator.\n",
        "\n",
        "- Takes cls as the first parameter instead of self.\n",
        "\n",
        "✅ Example:\n",
        "\n",
        "\n",
        "```\n",
        "class Student:\n",
        "    school = \"ABC School\"\n",
        "\n",
        "    @classmethod\n",
        "    def get_school(cls):\n",
        "        return cls.school\n",
        "\n",
        "```\n",
        "\n",
        "\n",
        "```\n",
        "print(Student.get_school())  # 👉 ABC School\n",
        "\n",
        "```\n",
        "🔸 2. Static Method\n",
        "\n",
        "- Doesn't access instance (self) or class (cls) variables.\n",
        "\n",
        "- Used when the method doesn’t need object or class context.\n",
        "\n",
        "- Defined using the @staticmethod decorator.\n",
        "\n",
        "✅ Example:\n",
        "\n",
        "\n",
        "\n",
        "```\n",
        "class Math:\n",
        "    @staticmethod\n",
        "    def add(a, b):\n",
        "        return a + b\n",
        "\n",
        "```\n",
        "\n",
        "\n",
        "```\n",
        "print(Math.add(3, 5))  # 👉 8\n",
        "```\n",
        "\n",
        "\n",
        "\n",
        "\n",
        "\n"
      ],
      "metadata": {
        "id": "OZyaIzl8KJiw"
      }
    },
    {
      "cell_type": "markdown",
      "source": [
        "**11. What is method overloading in Python?**\n",
        "\n",
        "- 🔁 Method Overloading is the ability to define multiple methods with the same name but different parameters in the same class. However, Python does not support traditional method overloading (as seen in languages like Java or C++), because Python uses dynamic typing and does not distinguish methods by the number or types of their parameters.\n",
        "\n",
        "- But, we can still simulate method overloading in Python by using default arguments or variable-length argument lists.\n",
        "\n",
        "🔧 Simulating Method Overloading in Python:\n",
        "\n",
        "🛠️ 1. Using Default Arguments:\n",
        "\n",
        "\n",
        "\n",
        "```\n",
        "class Calculator:\n",
        "    def add(self, a, b=0):\n",
        "        return a + b\n",
        "\n",
        "```\n",
        "\n",
        "\n",
        "\n",
        "\n",
        "```\n",
        "calc = Calculator()\n",
        "print(calc.add(5))      # 👉 5\n",
        "print(calc.add(5, 3))   # 👉 8\n",
        "\n",
        "```\n",
        "\n",
        "- Here, the add() method can work with one or two arguments, simulating overloading.\n",
        "\n",
        "🛠️ *2. Using args (Variable-Length Arguments):\n",
        "\n",
        "\n",
        "```\n",
        "class Calculator:\n",
        "    def add(self, *args):\n",
        "        return sum(args)\n",
        "\n",
        "```\n",
        "\n",
        "\n",
        "```\n",
        "calc = Calculator()\n",
        "print(calc.add(5, 3))         # 👉 8\n",
        "print(calc.add(1, 2, 3, 4))   # 👉 10\n",
        "\n",
        "```\n",
        "\n",
        "- *args allows passing a variable number of arguments, letting the method handle any number of parameters.\n",
        "\n",
        "🛠️ **3. Using kwargs (Keyword Arguments)\n",
        "\n",
        "\n",
        "\n",
        "```\n",
        "class Printer:\n",
        "    def print_info(self, **kwargs):\n",
        "        for key, value in kwargs.items():\n",
        "            print(f\"{key}: {value}\")\n",
        "\n",
        "```\n",
        "\n",
        "\n",
        "\n",
        "```\n",
        "printer = Printer()\n",
        "printer.print_info(name=\"Sonu\", age=20)\n",
        "\n",
        "```\n",
        "\n",
        "- Here, **kwargs allows handling different keyword arguments dynamically.\n",
        "\n",
        "\n",
        "\n",
        "\n"
      ],
      "metadata": {
        "id": "C4JpwVlCK6Rg"
      }
    },
    {
      "cell_type": "markdown",
      "source": [
        "**12. What is method overriding in OOP?**\n",
        "\n",
        "- 🔄 Method Overriding is the ability of a child class to provide a specific implementation of a method that is already defined in its parent class. This allows the child class to modify or extend the behavior of the parent class's method.\n",
        "\n",
        "🔧 How it Works:\n",
        "\n",
        "- The parent class defines a method.\n",
        "\n",
        "- The child class redefines that method, but with its own implementation.\n",
        "\n",
        "- When you call the method on an object of the child class, the child's version is executed, not the parent's.\n",
        "\n",
        "📦 Example:\n",
        "\n",
        "\n",
        "```\n",
        "class Animal:\n",
        "    def sound(self):\n",
        "        print(\"Some animal sound\")\n",
        "\n",
        "class Dog(Animal):\n",
        "    def sound(self):\n",
        "        print(\"Dog barks\")\n",
        "\n",
        "class Cat(Animal):\n",
        "    def sound(self):\n",
        "        print(\"Cat meows\")\n",
        "\n",
        "```\n",
        "\n",
        "\n",
        "\n",
        "```\n",
        "animal = Animal()\n",
        "dog = Dog()\n",
        "cat = Cat()\n",
        "\n",
        "animal.sound()  # 👉 Some animal sound\n",
        "dog.sound()     # 👉 Dog barks\n",
        "cat.sound()     # 👉 Cat meows\n",
        "\n",
        "```\n",
        "- Here, the Dog and Cat classes override the sound() method from the Animal class with their own specific behavior.\n",
        "\n",
        "\n"
      ],
      "metadata": {
        "id": "ZbyApBpJMUp3"
      }
    },
    {
      "cell_type": "markdown",
      "source": [
        "**13. What is a property decorator in Python?**\n",
        "\n",
        "- 🏠 A property decorator in Python allows you to define methods that behave like attributes. It enables you to access a method as if it were an attribute, while still allowing for logic or validation to be included in the getter, setter, or deleter methods.\n",
        "\n",
        "🔧 How to Use Property Decorator:\n",
        "\n",
        "- Getter: Using @property to define a method that acts as an attribute.\n",
        "\n",
        "- Setter: Using @<attribute>.setter to define how the value should be updated.\n",
        "\n",
        "- Deleter: Using @<attribute>.deleter to define custom deletion behavior.\n",
        "\n",
        "\n"
      ],
      "metadata": {
        "id": "WiTWeVVIM8zJ"
      }
    },
    {
      "cell_type": "markdown",
      "source": [
        "**14. Why is polymorphism important in OOP?**\n",
        "\n",
        "- 🌐 Polymorphism is one of the core principles of Object-Oriented Programming (OOP), and it allows different classes to define methods with the same name but with different behaviors. This concept plays a crucial role in making OOP flexible, scalable, and maintainable.\n",
        "\n",
        "🧠 Why is Polymorphism Crucial?\n",
        "\n",
        "Code Reusability:\n",
        "\n",
        "- Polymorphism allows you to write generic code that can work with objects of different classes. This means you can reuse the same method in different contexts without rewriting code for each type of object.\n",
        "\n",
        "Maintainability:\n",
        "\n",
        "- Since polymorphism enables different classes to have methods with the same name, you only need to update a method in one place (the class). If you want to change how a specific type behaves, you can simply override the method in that class.\n",
        "\n",
        "Simplified Code:\n",
        "\n",
        "- It makes the code cleaner and more readable. You don’t have to deal with different function names for each class—just use the same method name, and the right version gets executed based on the object.\n",
        "\n",
        "Supports Dynamic Behavior:\n",
        "\n",
        "- With polymorphism, Python can determine at runtime which method to call, based on the object type. This leads to more flexible and dynamic behavior.\n",
        "\n",
        "Promotes Flexibility and Extensibility:\n",
        "\n",
        "- Polymorphism is great for extending functionality. As you add new classes, you don’t need to modify existing code—just override methods in new classes. The existing polymorphic code will continue to work without changes.\n",
        "\n",
        "🧰 Example of Polymorphism in Action:\n",
        "\n",
        "\n",
        "```\n",
        "class Animal:\n",
        "    def speak(self):\n",
        "        print(\"Animal makes a sound\")\n",
        "\n",
        "class Dog(Animal):\n",
        "    def speak(self):\n",
        "        print(\"Dog barks\")\n",
        "\n",
        "class Cat(Animal):\n",
        "    def speak(self):\n",
        "        print(\"Cat meows\")\n",
        "\n",
        "def animal_sound(animal):\n",
        "    animal.speak()  # Polymorphism: method call changes based on object type\n",
        "\n",
        "# Creating different objects\n",
        "dog = Dog()\n",
        "cat = Cat()\n",
        "\n",
        "# Same method, different behavior\n",
        "animal_sound(dog)  # 👉 Dog barks\n",
        "animal_sound(cat)  # 👉 Cat meows\n",
        "\n",
        "```\n",
        "- The same function animal_sound() can work with any Animal object, whether it's a Dog, Cat, or any other animal subclass. Polymorphism allows flexibility without changing the method.\n",
        "\n",
        "\n",
        "\n"
      ],
      "metadata": {
        "id": "33cKKVHrNYtd"
      }
    },
    {
      "cell_type": "markdown",
      "source": [
        "**15. What is an abstract class in Python?**\n",
        "\n",
        "- 🏛️ An abstract class in Python is a class that cannot be instantiated on its own and is meant to be subclassed by other classes. It serves as a blueprint for other classes, providing a common interface while enforcing the structure of certain methods that must be implemented in any subclass.\n",
        "\n",
        "🔧 How to Create an Abstract Class in Python:\n",
        "\n",
        "- To define an abstract class in Python, we use the abc module (Abstract Base Classes), which provides the base class ABC and the decorator @abstractmethod to mark methods as abstract.\n",
        "\n",
        "\n",
        "\n",
        "```\n",
        "from abc import ABC, abstractmethod\n",
        "\n",
        "# Abstract class\n",
        "class Animal(ABC):\n",
        "    @abstractmethod\n",
        "    def sound(self):\n",
        "        pass\n",
        "\n",
        "    @abstractmethod\n",
        "    def move(self):\n",
        "        pass\n",
        "\n",
        "# Concrete class\n",
        "class Dog(Animal):\n",
        "    def sound(self):\n",
        "        print(\"Dog barks\")\n",
        "\n",
        "    def move(self):\n",
        "        print(\"Dog runs\")\n",
        "\n",
        "# Concrete class\n",
        "class Bird(Animal):\n",
        "    def sound(self):\n",
        "        print(\"Bird chirps\")\n",
        "\n",
        "    def move(self):\n",
        "        print(\"Bird flies\")\n",
        "\n",
        "# Can't instantiate an abstract class\n",
        "# a = Animal()  # This will raise an error\n",
        "\n",
        "# Valid instances\n",
        "d = Dog()\n",
        "d.sound()  # 👉 Dog barks\n",
        "d.move()   # 👉 Dog runs\n",
        "\n",
        "b = Bird()\n",
        "b.sound()  # 👉 Bird chirps\n",
        "b.move()   # 👉 Bird flies\n",
        "\n",
        "```\n",
        "\n",
        "🚨 Key Points to Note:\n",
        "\n",
        "- Abstract class (Animal) cannot be instantiated directly.\n",
        "\n",
        "- Abstract methods (sound and move) must be overridden in the subclasses (Dog and Bird).\n",
        "\n",
        "- Concrete classes provide their own implementation of abstract methods.\n",
        "\n",
        "\n"
      ],
      "metadata": {
        "id": "tCGCjwl8OElf"
      }
    },
    {
      "cell_type": "markdown",
      "source": [
        "**16. What are the advantages of OOP?**\n",
        "\n",
        "- 🏆 Object-Oriented Programming (OOP) brings several key advantages that make software development more efficient, flexible, and manageable. By organizing code into classes and objects, OOP improves reusability, maintainability, and scalability of applications.\n",
        "\n",
        "✅ 1. Modularity:\n",
        "\n",
        "- OOP breaks down a program into smaller, manageable parts (objects and classes).\n",
        "\n",
        "- Each class is like a module, making the code easier to understand, maintain, and test.\n",
        "\n",
        "- This promotes separation of concerns (i.e., each class handles its own specific functionality).\n",
        "\n",
        "✅ 2. Reusability:\n",
        "\n",
        "- Through inheritance, you can reuse existing code (methods and properties) without having to rewrite it.\n",
        "\n",
        "- Once a class is written and tested, it can be reused in different programs.\n",
        "\n",
        "- This leads to less code duplication and saves time in future development.\n",
        "\n",
        "✅ 3. Flexibility and Extensibility:\n",
        "\n",
        "- Polymorphism allows you to use the same method name for different object types.\n",
        "\n",
        "- You can extend existing classes (using inheritance) without altering the original code, making it easy to introduce new features.\n",
        "\n",
        "- This leads to flexible systems that can adapt to new requirements.\n",
        "\n",
        "✅ 4. Encapsulation:\n",
        "\n",
        "- Encapsulation keeps the internal state of an object hidden and only exposes a public interface (via methods).\n",
        "\n",
        "- This helps to protect data and ensures that an object’s internal state is not changed unexpectedly.\n",
        "\n",
        "- It also makes it easier to debug since you can isolate issues within individual objects.\n",
        "\n",
        "✅ 5. Abstraction:\n",
        "\n",
        "- Abstraction hides complex details and shows only the necessary information.\n",
        "\n",
        "- It allows programmers to interact with objects through simplified interfaces while hiding the implementation details.\n",
        "\n",
        "- This leads to cleaner, more understandable code.\n",
        "\n",
        "✅ 6. Easier Maintenance and Modification:\n",
        "\n",
        "- Since OOP encourages the use of modular code, it becomes easier to update and maintain.\n",
        "\n",
        "- Changes in one class usually don’t affect others, reducing the risk of introducing bugs.\n",
        "\n",
        "- It’s easy to add or modify features without affecting the whole system, making maintenance more efficient.\n",
        "\n",
        "✅ 7. Improved Productivity:\n",
        "\n",
        "- OOP’s organization of code into classes and objects leads to better collaboration among teams of developers.\n",
        "\n",
        "- Code can be maintained and extended by different teams working on different modules independently.\n",
        "\n",
        "- Code libraries and frameworks often use OOP, giving developers access to tools that make development faster.\n",
        "\n",
        "✅ 8. Increased Security:\n",
        "\n",
        "- OOP allows you to control access to data through getter and setter methods, which helps in protecting data integrity.\n",
        "\n",
        "- Access modifiers (e.g., private, protected, public) help in restricting access to an object’s internal state and behavior, enhancing security."
      ],
      "metadata": {
        "id": "7UOrdgUcOiuD"
      }
    },
    {
      "cell_type": "markdown",
      "source": [
        "**17. What is the difference between a class variable and an instance variable?**\n",
        "- 🔑 In Python, class variables and instance variables are used to store data, but they differ in terms of their scope and behavior within the class and objects. Let’s break down the key differences:\n",
        "\n",
        "🧠 Class Variables:\n",
        "\n",
        "- Defined inside the class but outside any methods.\n",
        "\n",
        "- Shared among all instances (objects) of the class.\n",
        "\n",
        "- If a class variable is modified, the change is reflected across all instances.\n",
        "\n",
        "- Typically used for data that should be shared across all objects of the class (like constants or shared resources).\n",
        "\n",
        "🧠 Instance Variables:\n",
        "\n",
        "- Defined inside methods (usually the __init__() constructor) using the self keyword.\n",
        "\n",
        "- Unique to each instance (object) of the class.\n",
        "\n",
        "- Each object has its own copy of instance variables.\n",
        "\n",
        "- Used for object-specific data that can vary across different instances."
      ],
      "metadata": {
        "id": "MZ6dSd-CPW-X"
      }
    },
    {
      "cell_type": "markdown",
      "source": [
        "**18. What is multiple inheritance in Python?**\n",
        "\n",
        "- 🔄Multiple inheritance in Python is a feature that allows a class to inherit from more than one parent class. This means that a child class can inherit attributes and methods from multiple parent classes, enabling a richer and more flexible class structure.\n",
        "\n",
        "🔧 How Multiple Inheritance Works in Python:\n",
        "\n",
        "- Python supports multiple inheritance by allowing a class to inherit from multiple parent classes. When a method is called on an instance of the child class, Python follows the MRO to determine which method to execute, based on the class hierarchy.\n",
        "\n",
        "📦 Example of Multiple Inheritance:\n",
        "\n",
        "\n",
        "```\n",
        "class Animal:\n",
        "    def speak(self):\n",
        "        print(\"Animal makes a sound\")\n",
        "\n",
        "class Mammal:\n",
        "    def has_hair(self):\n",
        "        print(\"Mammals have hair\")\n",
        "\n",
        "class Dog(Animal, Mammal):  # Dog inherits from both Animal and Mammal\n",
        "    def bark(self):\n",
        "        print(\"Dog barks\")\n",
        "\n",
        "# Create an instance of Dog\n",
        "dog = Dog()\n",
        "\n",
        "# Accessing methods from both parent classes\n",
        "dog.speak()    # 👉 Animal makes a sound\n",
        "dog.has_hair() # 👉 Mammals have hair\n",
        "dog.bark()     # 👉 Dog barks\n",
        "\n",
        "```\n",
        "\n",
        "\n",
        "in this example:\n",
        "\n",
        "- Dog inherits from both Animal and Mammal.\n",
        "\n",
        "- It has access to methods from both parent classes (speak from Animal and has_hair from Mammal), as well as its own method bark.\n",
        "\n"
      ],
      "metadata": {
        "id": "ZAmju2vNP4uR"
      }
    },
    {
      "cell_type": "markdown",
      "source": [
        "**19. Explain the purpose of ‘’__str__’ and ‘__repr__’ ‘ methods in Python.**\n",
        "\n",
        "🎯 Purpose of __str__ and __repr__ Methods in Python\n",
        "\n",
        "- In Python, both the __str__ and __repr__ methods are used to define how an object is represented as a string. However, they serve slightly different purposes:\n",
        "\n",
        "1. __str__ Method:\n",
        "\n",
        "- Purpose: The __str__ method is used to define the informal or user-friendly string representation of an object. It is meant to be readable and is called by the str() function or when you print an object.\n",
        "\n",
        "- Use case: It should return a string that is easy to read and gives a clear description of the object, useful for end-users.\n",
        "\n",
        "2. __repr__ Method:\n",
        "\n",
        "- Purpose: The __repr__ method is used to define the formal or official string representation of an object. It is meant to be unambiguous and can often be used to recreate the object. The output of __repr__ is intended for developers, especially for debugging.\n",
        "\n",
        "- Use case: It should return a string that, ideally, could be used to recreate the object using the eval() function, though this is not always necessary.\n",
        "\n",
        "🧑‍💻 Example:\n",
        "\n",
        "\n",
        "```\n",
        "class Car:\n",
        "    def __init__(self, brand, model, year):\n",
        "        self.brand = brand\n",
        "        self.model = model\n",
        "        self.year = year\n",
        "\n",
        "    # Informal string representation (for end users)\n",
        "    def __str__(self):\n",
        "        return f\"{self.year} {self.brand} {self.model}\"\n",
        "\n",
        "    # Formal string representation (for developers)\n",
        "    def __repr__(self):\n",
        "        return f\"Car('{self.brand}', '{self.model}', {self.year})\"\n",
        "\n",
        "# Creating an object\n",
        "car = Car(\"Toyota\", \"Corolla\", 2020)\n",
        "\n",
        "# Using __str__ (called by print or str())\n",
        "print(str(car))  # 👉 2020 Toyota Corolla\n",
        "\n",
        "# Using __repr__ (called by repr() or in the interpreter)\n",
        "print(repr(car))  # 👉 Car('Toyota', 'Corolla', 2020)\n",
        "\n",
        "```\n",
        "\n",
        "\n"
      ],
      "metadata": {
        "id": "jPTmzX63Qj6m"
      }
    },
    {
      "cell_type": "markdown",
      "source": [
        "**20. What is the significance of the ‘super()’ function in Python?**\n",
        "\n",
        "- 🚀 The super() function in Python is used to call a method from a parent class (also known as a superclass) from within a child class (subclass). It is most commonly used in inheritance scenarios to extend or modify the behavior of inherited methods.\n",
        "\n",
        "🧠 Key Uses of super():\n",
        "\n",
        " Calling Methods from the Parent Class:\n",
        "\n",
        "- super() allows you to call methods from a parent class without explicitly referring to the parent class name.\n",
        "\n",
        "- This is especially useful in multiple inheritance scenarios to ensure that the correct method from the parent class is called, following the Method Resolution Order (MRO).\n",
        "\n",
        "Avoiding Explicit Parent Class Names:\n",
        "\n",
        "- Using super() ensures that the child class code is more maintainable and extensible because it doesn't rely on hardcoded parent class names. This is particularly helpful when you change the parent class or add more levels to the inheritance hierarchy.\n",
        "\n",
        "Ensuring Proper Initialization:\n",
        "\n",
        "- super() is often used in the __init__ method of a child class to ensure that the parent class’s initialization method is called properly. This allows the child class to inherit and extend functionality from the parent class.\n",
        "\n",
        "🧑‍💻 Example of super() in Single Inheritance:\n",
        "\n",
        "\n",
        "```\n",
        "class Animal:\n",
        "    def __init__(self, name):\n",
        "        self.name = name\n",
        "\n",
        "    def speak(self):\n",
        "        print(f\"{self.name} makes a sound\")\n",
        "\n",
        "class Dog(Animal):\n",
        "    def __init__(self, name, breed):\n",
        "        # Call parent class's __init__ method using super()\n",
        "        super().__init__(name)  # Initialize the 'name' attribute from Animal class\n",
        "        self.breed = breed\n",
        "\n",
        "    def speak(self):\n",
        "        # Call parent class's speak method using super()\n",
        "        super().speak()  # Invoke Animal's speak method\n",
        "        print(f\"{self.name} barks!\")\n",
        "\n",
        "# Create an instance of Dog\n",
        "dog = Dog(\"Buddy\", \"Golden Retriever\")\n",
        "dog.speak()\n",
        "\n",
        "```\n",
        "\n",
        "\n",
        "```\n",
        "Buddy makes a sound\n",
        "Buddy barks!\n",
        "\n",
        "```\n",
        "\n",
        "\n",
        "\n",
        "\n"
      ],
      "metadata": {
        "id": "2Ipxz0dVRFE4"
      }
    },
    {
      "cell_type": "markdown",
      "source": [
        "**`21. What is the significance of the __del__ method in Python?`**\n",
        "\n",
        "- 🗑️ The __del__ method in Python is a destructor. It is called automatically when an object is about to be destroyed (i.e., when it is no longer in use and is being garbage collected).\n",
        "\n",
        "🔧 Syntax:\n",
        "\n",
        "\n",
        "```\n",
        "def __del__(self):\n",
        "    # cleanup code\n",
        "\n",
        "```\n",
        "\n",
        "🧠 Purpose of __del__:\n",
        "\n",
        "- To perform cleanup operations before an object is destroyed.\n",
        "\n",
        "- Used to release external resources like:\n",
        "\n",
        "- Open files\n",
        "\n",
        "- Database connections\n",
        "\n",
        "- Network sockets\n",
        "\n",
        "- Temporary memory allocations\n",
        "\n",
        "📦 Example:\n",
        "\n",
        "\n",
        "\n",
        "```\n",
        "class FileHandler:\n",
        "    def __init__(self, filename):\n",
        "        self.file = open(filename, 'w')\n",
        "        print(\"File opened.\")\n",
        "\n",
        "    def write(self, content):\n",
        "        self.file.write(content)\n",
        "\n",
        "    def __del__(self):\n",
        "        self.file.close()\n",
        "        print(\"File closed and object deleted.\")\n",
        "\n",
        "handler = FileHandler(\"sample.txt\")\n",
        "handler.write(\"Hello, Python!\")\n",
        "\n",
        "# When 'handler' goes out of scope or program ends, __del__ is called.\n",
        "\n",
        "```\n",
        "\n",
        "\n",
        "```\n",
        "File opened.\n",
        "File closed and object deleted.\n",
        "\n",
        "```\n",
        "\n",
        "\n"
      ],
      "metadata": {
        "id": "CE8kkVdAR8P1"
      }
    },
    {
      "cell_type": "markdown",
      "source": [
        "**22. What is the difference between @staticmethod and @classmethod in Python?**\n",
        "\n",
        "- 🔍 In Python, both @staticmethod and @classmethod are decorators used to define methods that are not regular instance methods. However, they serve different purposes and behave differently.\n",
        "\n",
        "🔧 @staticmethod:\n",
        "\n",
        "- Behaves like a regular function, just placed inside a class.\n",
        "\n",
        "- Does not receive self or cls.\n",
        "\n",
        "- Can’t access or modify class or instance state.\n",
        "\n",
        "\n",
        "\n",
        "```\n",
        "class MathUtils:\n",
        "    @staticmethod\n",
        "    def add(x, y):\n",
        "        return x + y\n",
        "\n",
        "print(MathUtils.add(5, 3))  # Output: 8\n",
        "\n",
        "```\n",
        "🛠️ @classmethod:\n",
        "\n",
        "- Receives the class (cls) as the first argument.\n",
        "\n",
        "- Can access and modify class-level variables or create objects.\n",
        "\n",
        "\n",
        "```\n",
        "class Person:\n",
        "    species = \"Human\"\n",
        "\n",
        "    def __init__(self, name):\n",
        "        self.name = name\n",
        "\n",
        "    @classmethod\n",
        "    def from_string(cls, info):\n",
        "        name = info.split(\"-\")[0]\n",
        "        return cls(name)\n",
        "\n",
        "    @classmethod\n",
        "    def change_species(cls, new_species):\n",
        "        cls.species = new_species\n",
        "\n",
        "# Factory method example\n",
        "p = Person.from_string(\"Sonu-2025\")\n",
        "print(p.name)  # Output: Sonu\n",
        "\n",
        "# Class variable modification\n",
        "Person.change_species(\"Cyborg\")\n",
        "print(Person.species)  # Output: Cyborg\n",
        "\n",
        "```\n",
        "\n",
        "\n",
        "\n"
      ],
      "metadata": {
        "id": "QHDAaSCRSoTQ"
      }
    },
    {
      "cell_type": "markdown",
      "source": [
        "**23. How does polymorphism work in Python with inheritance?**\n",
        "\n",
        "✅ What is Polymorphism?\n",
        "\n",
        "- Polymorphism means “many forms”. In Python, it allows objects of different classes to be treated as objects of a common superclass, especially when they override the same method.\n",
        "\n",
        "- With inheritance, polymorphism lets you use the same method name across multiple subclasses, but with different behaviors.\n",
        "\n",
        "🧬 How It Works:\n",
        "\n",
        "- A parent class defines a method.\n",
        "\n",
        "- Child classes inherit from it and can override that method.\n",
        "\n",
        "- A common interface (like a function or loop) calls that method, and Python decides at runtime which version to run based on the object’s actual class.\n",
        "\n",
        "🧑‍💻 Example in Code:\n",
        "\n",
        "\n",
        "```\n",
        "class Animal:\n",
        "    def speak(self):\n",
        "        print(\"Animal makes a sound\")\n",
        "\n",
        "class Dog(Animal):\n",
        "    def speak(self):\n",
        "        print(\"Dog barks\")\n",
        "\n",
        "class Cat(Animal):\n",
        "    def speak(self):\n",
        "        print(\"Cat meows\")\n",
        "\n",
        "def make_it_speak(animal):\n",
        "    animal.speak()  # Polymorphic behavior\n",
        "\n",
        "# Different objects, same method call\n",
        "make_it_speak(Dog())   # Output: Dog barks\n",
        "make_it_speak(Cat())   # Output: Cat meows\n",
        "\n",
        "```\n",
        "\n"
      ],
      "metadata": {
        "id": "3GxpOHfeTmXh"
      }
    },
    {
      "cell_type": "markdown",
      "source": [
        "**24.  What is method chaining in Python OOP?**\n",
        "\n",
        "- 🔗Method Chaining is a coding technique where multiple methods are called sequentially on the same object in a single line, using the dot . operator.\n",
        "\n",
        "- Each method returns the object itself (usually using return self), which allows the next method to be called on it.\n",
        "\n",
        "Example\n",
        "\n",
        "\n",
        "```\n",
        "class MessageBuilder:\n",
        "    def __init__(self):\n",
        "        self.message = \"\"\n",
        "    \n",
        "    def greet(self):\n",
        "        self.message += \"Hello \"\n",
        "        return self  # returning self enables chaining\n",
        "\n",
        "    def name(self, username):\n",
        "        self.message += username\n",
        "        return self\n",
        "\n",
        "    def exclaim(self):\n",
        "        self.message += \"!\"\n",
        "        return self\n",
        "\n",
        "    def show(self):\n",
        "        print(self.message)\n",
        "\n",
        "# Method chaining in action\n",
        "MessageBuilder().greet().name(\"Sonu\").exclaim().show()\n",
        "# Output: Hello Sonu!\n",
        "\n",
        "```\n",
        "\n"
      ],
      "metadata": {
        "id": "-rPdJeG2UKHz"
      }
    },
    {
      "cell_type": "markdown",
      "source": [
        "**25. What is the purpose of the __call__ method in Python?**\n",
        "\n",
        "- 🔄 The __call__ method in Python allows an instance of a class to be called like a function.\n",
        "\n",
        "\n",
        "```\n",
        "class Greeter:\n",
        "    def __init__(self, name):\n",
        "        self.name = name\n",
        "\n",
        "    def __call__(self, message):\n",
        "        print(f\"{message}, {self.name}!\")\n",
        "\n",
        "greet = Greeter(\"Sonu\")\n",
        "greet(\"Good morning\")  # Equivalent to greet.__call__(\"Good morning\")\n",
        "\n",
        "```\n",
        "\n",
        "\n",
        "\n",
        "```\n",
        "Good morning, Sonu!\n",
        "\n",
        "```\n",
        "\n"
      ],
      "metadata": {
        "id": "DK2sN_XbUqw2"
      }
    },
    {
      "cell_type": "code",
      "source": [
        "#1. Create a parent class Animal with a method speak() that prints a generic message. Create a child class Dogthat overrides the speak() method to print \"Bark!\".\n",
        "\n",
        "class Animal:\n",
        "    def speak(self):\n",
        "        print(\"The animal makes a sound.\")\n",
        "\n",
        "\n",
        "class Dog(Animal):\n",
        "    def speak(self):\n",
        "        print(\"Bark!\")\n",
        "\n",
        "\n",
        "generic_animal = Animal()\n",
        "generic_animal.speak()\n",
        "\n",
        "dog = Dog()\n",
        "dog.speak()\n"
      ],
      "metadata": {
        "colab": {
          "base_uri": "https://localhost:8080/"
        },
        "id": "2qPWcrf7VJLG",
        "outputId": "c5b8e5b1-f01b-4d97-f35a-cbfe4bed08f0"
      },
      "execution_count": null,
      "outputs": [
        {
          "output_type": "stream",
          "name": "stdout",
          "text": [
            "The animal makes a sound.\n",
            "Bark!\n"
          ]
        }
      ]
    },
    {
      "cell_type": "code",
      "source": [
        "#2. Write a program to create an abstract class Shape with a method area(). Derive classes Circle and Rectanglefrom it and implement the area() method in both.\n",
        "\n",
        "from abc import ABC, abstractmethod\n",
        "import math\n",
        "\n",
        "\n",
        "class Shape(ABC):\n",
        "    @abstractmethod\n",
        "    def area(self):\n",
        "        pass\n",
        "\n",
        "\n",
        "class Circle(Shape):\n",
        "    def __init__(self, radius):\n",
        "        self.radius = radius\n",
        "\n",
        "    def area(self):\n",
        "        return math.pi * self.radius ** 2\n",
        "\n",
        "\n",
        "class Rectangle(Shape):\n",
        "    def __init__(self, length, width):\n",
        "        self.length = length\n",
        "        self.width = width\n",
        "\n",
        "    def area(self):\n",
        "        return self.length * self.width\n",
        "\n",
        "\n",
        "circle = Circle(5)\n",
        "rectangle = Rectangle(4, 6)\n",
        "\n",
        "print(f\"Circle Area: {circle.area():.2f}\")\n",
        "print(f\"Rectangle Area: {rectangle.area()}\")\n"
      ],
      "metadata": {
        "colab": {
          "base_uri": "https://localhost:8080/"
        },
        "id": "Pjpp_migVdX5",
        "outputId": "40924aeb-7c9d-4d65-b340-8eca77e34a02"
      },
      "execution_count": null,
      "outputs": [
        {
          "output_type": "stream",
          "name": "stdout",
          "text": [
            "Circle Area: 78.54\n",
            "Rectangle Area: 24\n"
          ]
        }
      ]
    },
    {
      "cell_type": "code",
      "source": [
        "#3. Implement a multi-level inheritance scenario where a class Vehicle has an attribute type. Derive a class Carand further derive a class ElectricCar that adds a battery attribute.\n",
        "\n",
        "class Vehicle:\n",
        "    def __init__(self, vehicle_type):\n",
        "        self.type = vehicle_type\n",
        "\n",
        "\n",
        "class Car(Vehicle):\n",
        "    def __init__(self, vehicle_type, brand):\n",
        "        super().__init__(vehicle_type)\n",
        "        self.brand = brand\n",
        "\n",
        "\n",
        "class ElectricCar(Car):\n",
        "    def __init__(self, vehicle_type, brand, battery_capacity):\n",
        "        super().__init__(vehicle_type, brand)\n",
        "        self.battery = battery_capacity\n",
        "\n",
        "    def display_info(self):\n",
        "        print(f\"Type: {self.type}\")\n",
        "        print(f\"Brand: {self.brand}\")\n",
        "        print(f\"Battery: {self.battery} kWh\")\n",
        "\n",
        "\n",
        "tesla = ElectricCar(\"Four-wheeler\", \"Tesla\", 75)\n",
        "tesla.display_info()\n"
      ],
      "metadata": {
        "colab": {
          "base_uri": "https://localhost:8080/"
        },
        "id": "GdMzIDNEVzCX",
        "outputId": "954c7f8a-c250-49f2-930f-b1496086016d"
      },
      "execution_count": null,
      "outputs": [
        {
          "output_type": "stream",
          "name": "stdout",
          "text": [
            "Type: Four-wheeler\n",
            "Brand: Tesla\n",
            "Battery: 75 kWh\n"
          ]
        }
      ]
    },
    {
      "cell_type": "code",
      "source": [
        "#4. Demonstrate polymorphism by creating a base class Bird with a method fly(). Create two derived classesSparrow and Penguin that override the fly() method.\n",
        "\n",
        "\n",
        "class Bird:\n",
        "    def fly(self):\n",
        "        print(\"Some birds can fly.\")\n",
        "\n",
        "\n",
        "class Sparrow(Bird):\n",
        "    def fly(self):\n",
        "        print(\"Sparrow flies high in the sky.\")\n",
        "\n",
        "class Penguin(Bird):\n",
        "    def fly(self):\n",
        "        print(\"Penguins can't fly, but they swim well.\")\n",
        "\n",
        "\n",
        "def bird_fly_test(bird):\n",
        "    bird.fly()\n",
        "\n",
        "birds = [Sparrow(), Penguin()]\n",
        "\n",
        "for bird in birds:\n",
        "    bird_fly_test(bird)\n"
      ],
      "metadata": {
        "colab": {
          "base_uri": "https://localhost:8080/"
        },
        "id": "J6L7fEZSWHht",
        "outputId": "fcdbc306-26c7-42ae-a859-83a85f1c8d8b"
      },
      "execution_count": null,
      "outputs": [
        {
          "output_type": "stream",
          "name": "stdout",
          "text": [
            "Sparrow flies high in the sky.\n",
            "Penguins can't fly, but they swim well.\n"
          ]
        }
      ]
    },
    {
      "cell_type": "code",
      "source": [
        "#5. Write a program to demonstrate encapsulation by creating a class BankAccount with private attributesbalance and methods to deposit, withdraw, and check balance.\n",
        "class BankAccount:\n",
        "    def __init__(self, initial_balance=0):\n",
        "\n",
        "        self.__balance = initial_balance\n",
        "\n",
        "    def deposit(self, amount):\n",
        "        if amount > 0:\n",
        "            self.__balance += amount\n",
        "            print(f\"Deposited: {amount}\")\n",
        "        else:\n",
        "            print(\"Deposit amount must be positive.\")\n",
        "\n",
        "\n",
        "    def withdraw(self, amount):\n",
        "        if amount > 0 and amount <= self.__balance:\n",
        "            self.__balance -= amount\n",
        "            print(f\"Withdrawn: {amount}\")\n",
        "        elif amount > self.__balance:\n",
        "            print(\"Insufficient funds.\")\n",
        "        else:\n",
        "            print(\"Withdrawal amount must be positive.\")\n",
        "\n",
        "    def check_balance(self):\n",
        "        print(f\"Current balance: {self.__balance}\")\n",
        "\n",
        "account = BankAccount(1000)\n",
        "\n",
        "account.deposit(500)\n",
        "\n",
        "account.withdraw(200)\n",
        "\n",
        "account.check_balance()\n",
        "\n",
        "\n"
      ],
      "metadata": {
        "colab": {
          "base_uri": "https://localhost:8080/"
        },
        "id": "aRMDZJohWaJX",
        "outputId": "4b30a91a-7e14-4972-9e7b-83a9bced14fa"
      },
      "execution_count": null,
      "outputs": [
        {
          "output_type": "stream",
          "name": "stdout",
          "text": [
            "Deposited: 500\n",
            "Withdrawn: 200\n",
            "Current balance: 1300\n"
          ]
        }
      ]
    },
    {
      "cell_type": "code",
      "source": [
        "#6. Demonstrate runtime polymorphism using a method play() in a base class Instrument. Derive classes Guitarand Piano that implement their own version of play().\n",
        "\n",
        "class Instrument:\n",
        "    def play(self):\n",
        "        print(\"The instrument is playing.\")\n",
        "\n",
        "\n",
        "class Guitar(Instrument):\n",
        "    def play(self):\n",
        "        print(\"Strumming the guitar strings.\")\n",
        "\n",
        "\n",
        "class Piano(Instrument):\n",
        "    def play(self):\n",
        "        print(\"Playing piano keys.\")\n",
        "\n",
        "\n",
        "def perform_play(instrument):\n",
        "    instrument.play()\n",
        "\n",
        "\n",
        "guitar = Guitar()\n",
        "piano = Piano()\n",
        "\n",
        "\n",
        "perform_play(guitar)\n",
        "perform_play(piano)\n"
      ],
      "metadata": {
        "colab": {
          "base_uri": "https://localhost:8080/"
        },
        "id": "BOuoew9aW0EB",
        "outputId": "1cf9e51e-d51f-482e-ba34-3058e9dde8a4"
      },
      "execution_count": null,
      "outputs": [
        {
          "output_type": "stream",
          "name": "stdout",
          "text": [
            "Strumming the guitar strings.\n",
            "Playing piano keys.\n"
          ]
        }
      ]
    },
    {
      "cell_type": "code",
      "source": [
        "#7. Create a class MathOperations with a class method add_numbers() to add two numbers and a staticmethod subtract_numbers() to subtract two numbers.\n",
        "class MathOperations:\n",
        "\n",
        "    @classmethod\n",
        "    def add_numbers(cls, a, b):\n",
        "        return a + b\n",
        "\n",
        "\n",
        "    @staticmethod\n",
        "    def subtract_numbers(a, b):\n",
        "        return a - b\n",
        "\n",
        "\n",
        "sum_result = MathOperations.add_numbers(5, 3)\n",
        "difference_result = MathOperations.subtract_numbers(10, 4)\n",
        "\n",
        "print(f\"Sum: {sum_result}\")\n",
        "print(f\"Difference: {difference_result}\")\n"
      ],
      "metadata": {
        "colab": {
          "base_uri": "https://localhost:8080/"
        },
        "id": "HyJ0sSS7XLI5",
        "outputId": "70525794-a0ce-427c-dd0f-55034af15309"
      },
      "execution_count": null,
      "outputs": [
        {
          "output_type": "stream",
          "name": "stdout",
          "text": [
            "Sum: 8\n",
            "Difference: 6\n"
          ]
        }
      ]
    },
    {
      "cell_type": "code",
      "source": [
        "#8. Implement a class Person with a class method to count the total number of persons created\n",
        "class Person:\n",
        "\n",
        "    count = 0\n",
        "\n",
        "    def __init__(self, name, age):\n",
        "        self.name = name\n",
        "        self.age = age\n",
        "\n",
        "        Person.count += 1\n",
        "\n",
        "\n",
        "    @classmethod\n",
        "    def get_person_count(cls):\n",
        "        return cls.count\n",
        "\n",
        "\n",
        "person1 = Person(\"Alice\", 30)\n",
        "person2 = Person(\"Bob\", 25)\n",
        "person3 = Person(\"Charlie\", 35)\n",
        "\n",
        "\n",
        "print(f\"Total persons created: {Person.get_person_count()}\")\n"
      ],
      "metadata": {
        "colab": {
          "base_uri": "https://localhost:8080/"
        },
        "id": "DVure-RLXfMB",
        "outputId": "f4b7e592-74e7-4122-d67d-67ce8054bfeb"
      },
      "execution_count": null,
      "outputs": [
        {
          "output_type": "stream",
          "name": "stdout",
          "text": [
            "Total persons created: 3\n"
          ]
        }
      ]
    },
    {
      "cell_type": "code",
      "source": [
        "#9. Write a class Fraction with attributes numerator and denominator. Override the str method to display thefraction as \"numerator/denominator\".\n",
        "\n",
        "class Fraction:\n",
        "    def __init__(self, numerator, denominator):\n",
        "        self.numerator = numerator\n",
        "        self.denominator = denominator\n",
        "\n",
        "\n",
        "    def __str__(self):\n",
        "        return f\"{self.numerator}/{self.denominator}\"\n",
        "\n",
        "\n",
        "fraction1 = Fraction(3, 4)\n",
        "fraction2 = Fraction(5, 6)\n",
        "\n",
        "print(f\"Fraction 1: {fraction1}\")\n",
        "print(f\"Fraction 2: {fraction2}\")\n"
      ],
      "metadata": {
        "colab": {
          "base_uri": "https://localhost:8080/"
        },
        "id": "bRUBoO8wXxsq",
        "outputId": "8ec11e6d-90ae-4b08-e9f0-f0a828f8b6c8"
      },
      "execution_count": null,
      "outputs": [
        {
          "output_type": "stream",
          "name": "stdout",
          "text": [
            "Fraction 1: 3/4\n",
            "Fraction 2: 5/6\n"
          ]
        }
      ]
    },
    {
      "cell_type": "code",
      "source": [
        "#10. Demonstrate operator overloading by creating a class Vector and overriding the add method to add two vectors.\n",
        "class Vector:\n",
        "    def __init__(self, x, y):\n",
        "        self.x = x\n",
        "        self.y = y\n",
        "\n",
        "    def __add__(self, other):\n",
        "        return Vector(self.x + other.x, self.y + other.y)\n",
        "\n",
        "\n",
        "    def __str__(self):\n",
        "        return f\"({self.x}, {self.y})\"\n",
        "\n",
        "\n",
        "vector1 = Vector(2, 3)\n",
        "vector2 = Vector(4, 1)\n",
        "\n",
        "\n",
        "result = vector1 + vector2\n",
        "\n",
        "print(f\"Vector 1: {vector1}\")\n",
        "print(f\"Vector 2: {vector2}\")\n",
        "print(f\"Result of addition: {result}\")\n"
      ],
      "metadata": {
        "colab": {
          "base_uri": "https://localhost:8080/"
        },
        "id": "GoD_Fk8FYCcE",
        "outputId": "c0bfa824-4841-4888-f3cd-7fe3836bfff2"
      },
      "execution_count": null,
      "outputs": [
        {
          "output_type": "stream",
          "name": "stdout",
          "text": [
            "Vector 1: (2, 3)\n",
            "Vector 2: (4, 1)\n",
            "Result of addition: (6, 4)\n"
          ]
        }
      ]
    },
    {
      "cell_type": "code",
      "source": [
        "#11. Create a class Person with attributes name and age. Add a method greet() that prints \"Hello, my name is{name} and I am {age} years old.\"\n",
        "class Person:\n",
        "    def __init__(self, name, age):\n",
        "        self.name = name\n",
        "        self.age = age\n",
        "\n",
        "\n",
        "    def greet(self):\n",
        "        print(f\"Hello, my name is {self.name} and I am {self.age} years old.\")\n",
        "\n",
        "\n",
        "person1 = Person(\"Sonu\", 18)\n",
        "person1.greet()\n",
        "\n",
        "\n",
        "\n"
      ],
      "metadata": {
        "colab": {
          "base_uri": "https://localhost:8080/"
        },
        "id": "IHhQz8IqYXF7",
        "outputId": "86161409-4f2c-44e2-d9e7-2502fe17aa7e"
      },
      "execution_count": null,
      "outputs": [
        {
          "output_type": "stream",
          "name": "stdout",
          "text": [
            "Hello, my name is Sonu and I am 18 years old.\n"
          ]
        }
      ]
    },
    {
      "cell_type": "code",
      "source": [
        "#12. Implement a class Student with attributes name and grades. Create a method average_grade() to compute the average of the grades.\n",
        "class Student:\n",
        "    def __init__(self, name, grades):\n",
        "        self.name = name\n",
        "        self.grades = grades\n",
        "\n",
        "\n",
        "    def average_grade(self):\n",
        "        return sum(self.grades) / len(self.grades) if self.grades else 0\n",
        "\n",
        "\n",
        "student1 = Student(\"Sonu\", [85, 90, 78, 92, 88])\n",
        "student2 = Student(\"raja\", [80, 85, 90, 95, 87])\n",
        "\n",
        "\n",
        "print(f\"{student1.name}'s average grade: {student1.average_grade():.2f}\")\n",
        "print(f\"{student2.name}'s average grade: {student2.average_grade():.2f}\")\n"
      ],
      "metadata": {
        "colab": {
          "base_uri": "https://localhost:8080/"
        },
        "id": "pDfQvtR1ZDQJ",
        "outputId": "bb0ef914-4e9f-45c7-f951-c3a978fd4709"
      },
      "execution_count": null,
      "outputs": [
        {
          "output_type": "stream",
          "name": "stdout",
          "text": [
            "Sonu's average grade: 86.60\n",
            "raja's average grade: 87.40\n"
          ]
        }
      ]
    },
    {
      "cell_type": "code",
      "source": [
        "#13. Create a class Rectangle with methods set_dimensions() to set the dimensions and area() to calculate the area.\n",
        "class Rectangle:\n",
        "    def __init__(self):\n",
        "        self.length = 0\n",
        "        self.width = 0\n",
        "\n",
        "\n",
        "    def set_dimensions(self, length, width):\n",
        "        self.length = length\n",
        "        self.width = width\n",
        "\n",
        "\n",
        "    def area(self):\n",
        "        return self.length * self.width\n",
        "\n",
        "\n",
        "rectangle = Rectangle()\n",
        "\n",
        "\n",
        "rectangle.set_dimensions(5, 3)\n",
        "\n",
        "\n",
        "print(f\"The area of the rectangle is: {rectangle.area()}\")\n"
      ],
      "metadata": {
        "colab": {
          "base_uri": "https://localhost:8080/"
        },
        "id": "zlSBGd_-Z64m",
        "outputId": "5bc59361-fae6-4077-9161-774879c5a6b4"
      },
      "execution_count": null,
      "outputs": [
        {
          "output_type": "stream",
          "name": "stdout",
          "text": [
            "The area of the rectangle is: 15\n"
          ]
        }
      ]
    },
    {
      "cell_type": "code",
      "source": [
        "#14. Create a class Employee with a method calculate_salary() that computes the salary based on hours worked and hourly rate. Create a derived class Manager that adds a bonus to the salary\n",
        "class Employee:\n",
        "    def __init__(self, name, hours_worked, hourly_rate):\n",
        "        self.name = name\n",
        "        self.hours_worked = hours_worked\n",
        "        self.hourly_rate = hourly_rate\n",
        "\n",
        "\n",
        "    def calculate_salary(self):\n",
        "        return self.hours_worked * self.hourly_rate\n",
        "\n",
        "\n",
        "class Manager(Employee):\n",
        "    def __init__(self, name, hours_worked, hourly_rate, bonus):\n",
        "\n",
        "        super().__init__(name, hours_worked, hourly_rate)\n",
        "        self.bonus = bonus\n",
        "\n",
        "\n",
        "    def calculate_salary(self):\n",
        "        base_salary = super().calculate_salary()\n",
        "        return base_salary + self.bonus\n",
        "\n",
        "\n",
        "employee = Employee(\"John\", 40, 20)\n",
        "manager = Manager(\"Alice\", 40, 30, 500)\n",
        "\n",
        "\n",
        "print(f\"Employee's salary: ${employee.calculate_salary()}\")\n",
        "print(f\"Manager's salary (with bonus): ${manager.calculate_salary()}\")\n"
      ],
      "metadata": {
        "colab": {
          "base_uri": "https://localhost:8080/"
        },
        "id": "qiDDqx5PaSWt",
        "outputId": "00831f4e-4111-4826-f474-1e8fe6b89ef8"
      },
      "execution_count": null,
      "outputs": [
        {
          "output_type": "stream",
          "name": "stdout",
          "text": [
            "Employee's salary: $800\n",
            "Manager's salary (with bonus): $1700\n"
          ]
        }
      ]
    },
    {
      "cell_type": "code",
      "source": [
        "#15. Create a class Product with attributes name, price, and quantity. Implement a method total_price() that calculates the total price of the product.\n",
        "class Product:\n",
        "    def __init__(self, name, price, quantity):\n",
        "        self.name = name\n",
        "        self.price = price\n",
        "        self.quantity = quantity\n",
        "\n",
        "\n",
        "    def total_price(self):\n",
        "        return self.price * self.quantity\n",
        "\n",
        "\n",
        "product1 = Product(\"Laptop\", 1000, 2)\n",
        "product2 = Product(\"Phone\", 500, 3)\n",
        "\n",
        "\n",
        "print(f\"Total price of {product1.name}: ${product1.total_price()}\")\n",
        "print(f\"Total price of {product2.name}: ${product2.total_price()}\")\n"
      ],
      "metadata": {
        "colab": {
          "base_uri": "https://localhost:8080/"
        },
        "id": "eGnb3A7Dan0h",
        "outputId": "133a8917-1af5-4f42-d521-1317ac7a8e57"
      },
      "execution_count": null,
      "outputs": [
        {
          "output_type": "stream",
          "name": "stdout",
          "text": [
            "Total price of Laptop: $2000\n",
            "Total price of Phone: $1500\n"
          ]
        }
      ]
    },
    {
      "cell_type": "code",
      "source": [
        "#16. Create a class Animal with an abstract method sound(). Create two derived classes Cow and Sheep that implement the sound() method.\n",
        "from abc import ABC, abstractmethod\n",
        "\n",
        "\n",
        "class Animal(ABC):\n",
        "    @abstractmethod\n",
        "    def sound(self):\n",
        "        pass\n",
        "\n",
        "\n",
        "class Cow(Animal):\n",
        "    def sound(self):\n",
        "        return \"Moo\"\n",
        "\n",
        "\n",
        "class Sheep(Animal):\n",
        "    def sound(self):\n",
        "        return \"Baa\"\n",
        "\n",
        "\n",
        "cow = Cow()\n",
        "sheep = Sheep()\n",
        "\n",
        "\n",
        "print(f\"Cow makes sound: {cow.sound()}\")\n",
        "print(f\"Sheep makes sound: {sheep.sound()}\")\n"
      ],
      "metadata": {
        "colab": {
          "base_uri": "https://localhost:8080/"
        },
        "id": "uHkjPEjna6PG",
        "outputId": "52d52aa7-2be0-4977-f35b-5511d1b2cccb"
      },
      "execution_count": null,
      "outputs": [
        {
          "output_type": "stream",
          "name": "stdout",
          "text": [
            "Cow makes sound: Moo\n",
            "Sheep makes sound: Baa\n"
          ]
        }
      ]
    },
    {
      "cell_type": "code",
      "source": [
        "#17. Create a class Book with attributes title, author, and year_published. Add a method get_book_info() that returns a formatted string with the book's details.\n",
        "\n",
        "class Book:\n",
        "    def __init__(self, title, author, year_published):\n",
        "        self.title = title\n",
        "        self.author = author\n",
        "        self.year_published = year_published\n",
        "\n",
        "\n",
        "    def get_book_info(self):\n",
        "        return f\"'{self.title}' by {self.author}, published in {self.year_published}\"\n",
        "\n",
        "\n",
        "book1 = Book(\"To Kill a Mockingbird\", \"Harper Lee\", 1960)\n",
        "book2 = Book(\"1984\", \"George Orwell\", 1949)\n",
        "\n",
        "\n",
        "print(book1.get_book_info())\n",
        "print(book2.get_book_info())\n",
        "\n",
        "\n"
      ],
      "metadata": {
        "colab": {
          "base_uri": "https://localhost:8080/"
        },
        "id": "RPbEYc7AbXhE",
        "outputId": "9672a7b3-0ec6-4199-e3a1-b0de71e55553"
      },
      "execution_count": null,
      "outputs": [
        {
          "output_type": "stream",
          "name": "stdout",
          "text": [
            "'To Kill a Mockingbird' by Harper Lee, published in 1960\n",
            "'1984' by George Orwell, published in 1949\n"
          ]
        }
      ]
    },
    {
      "cell_type": "code",
      "source": [
        "#18. Create a class House with attributes address and price. Create a derived class Mansion that adds an attribute number_of_rooms.\n",
        "class House:\n",
        "    def __init__(self, address, price):\n",
        "        self.address = address\n",
        "        self.price = price\n",
        "\n",
        "\n",
        "    def get_house_info(self):\n",
        "        return f\"House located at {self.address}, priced at ${self.price}\"\n",
        "\n",
        "\n",
        "class Mansion(House):\n",
        "    def __init__(self, address, price, number_of_rooms):\n",
        "\n",
        "        super().__init__(address, price)\n",
        "        self.number_of_rooms = number_of_rooms\n",
        "\n",
        "\n",
        "    def get_mansion_info(self):\n",
        "        return f\"Mansion located at {self.address}, priced at ${self.price}, with {self.number_of_rooms} rooms\"\n",
        "\n",
        "\n",
        "house = House(\"123 Main St\", 250000)\n",
        "mansion = Mansion(\"456 Luxury Ave\", 5000000, 10)\n",
        "\n",
        "\n",
        "print(house.get_house_info())\n",
        "print(mansion.get_mansion_info())\n"
      ],
      "metadata": {
        "colab": {
          "base_uri": "https://localhost:8080/"
        },
        "id": "774Uu3hFbqgX",
        "outputId": "ec228f62-e7ec-451a-f506-eb187cbfc7de"
      },
      "execution_count": null,
      "outputs": [
        {
          "output_type": "stream",
          "name": "stdout",
          "text": [
            "House located at 123 Main St, priced at $250000\n",
            "Mansion located at 456 Luxury Ave, priced at $5000000, with 10 rooms\n"
          ]
        }
      ]
    }
  ]
}